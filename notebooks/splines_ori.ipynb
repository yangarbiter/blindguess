{
 "cells": [
  {
   "cell_type": "code",
   "execution_count": 148,
   "metadata": {},
   "outputs": [],
   "source": [
    "import numpy as np\n",
    "import matplotlib.pyplot as plt\n",
    "import cvxpy as cp\n",
    "import scipy\n",
    "from collections import namedtuple"
   ]
  },
  {
   "cell_type": "code",
   "execution_count": 149,
   "metadata": {},
   "outputs": [],
   "source": [
    "num_stairs = 10\n",
    "num_examples = 10\n",
    "adv_eps = (1.0 / 3)\n",
    "noise_eps = 0.0\n",
    "x_noise = 0.0\n",
    "slope = 1\n",
    "theta = np.random.randn(feats.shape[1])\n",
    "lamda = 0.01\n",
    "np.set_printoptions(precision=5)\n",
    "\n",
    "knots = np.r_[np.arange(num_stairs), np.arange(num_stairs)-adv_eps, np.arange(num_stairs)+adv_eps]\n",
    "knots = np.sort(knots)\n",
    "\n",
    "# weights on different stairs\n",
    "weights_1 = np.asarray([1/5]*5)\n",
    "weights_2 = np.asarray([0.01]*(num_stairs-5))\n",
    "weights = np.concatenate([weights_1, weights_2])\n",
    "weights /= np.sum(weights)\n",
    "\n",
    "Result = namedtuple('Result', ['x'])"
   ]
  },
  {
   "cell_type": "code",
   "execution_count": 150,
   "metadata": {},
   "outputs": [],
   "source": [
    "def generate_x_noise(n):    \n",
    "    # with probability x_noise there is noise\n",
    "    unit_noise = (np.random.rand(n) < 0.5).astype(float)\n",
    "    noise_mask = (np.random.rand(n) < x_noise).astype(float)\n",
    "    return noise_mask * (unit_noise*2 - 1)*adv_eps\n",
    "\n",
    "def data_gen(n, weights):\n",
    "    num_stairs = len(weights)\n",
    "    # sample from categorical distribution\n",
    "    X = np.random.choice(num_stairs, p=weights, size=n).astype(float)\n",
    "    return X\n",
    "\n",
    "def label_noise(n, eps):\n",
    "    return eps * np.random.randn(n)\n",
    "\n",
    "def get_test_set():\n",
    "    num_samples_per_stair = 10000\n",
    "    # X_test has every row a different class and columns are samples from that class\n",
    "    y_test = slope*np.arange(num_stairs).astype(float)[:, np.newaxis] * np.ones((num_stairs, num_samples_per_stair))\n",
    "    X_test = np.arange(num_stairs).astype(float)[:, np.newaxis]\n",
    "    noise = (np.random.rand(num_stairs, num_samples_per_stair)*2 - 1)*adv_eps\n",
    "    X_test = X_test + noise\n",
    "    return X_test, y_test\n",
    "\n",
    "def get_feats(X, knots):\n",
    "    X = X[:, np.newaxis]\n",
    "    M = 4\n",
    "    aug = np.arange(1, M+1)\n",
    "    knots = np.r_[aug - M - 1 - knots[0], knots, aug + knots[-1]]\n",
    "\n",
    "    K = len(knots)\n",
    "    bases = (X >= knots[:-1]).astype(np.int) * (X < knots[1:]).astype(np.int)\n",
    "    # do recursion from Hastie et al. vectorized\n",
    "    maxi = len(knots) - 1\n",
    "    for m in range(2, M+1):\n",
    "        maxi -= 1\n",
    "\n",
    "        # left sub-basis\n",
    "        num = (X - knots[:maxi])* bases[:, :maxi]\n",
    "        denom = knots[m-1 : maxi+m-1] - knots[:maxi]\n",
    "        left = num/denom\n",
    "\n",
    "        # right sub-basis\n",
    "        num = (knots[m : maxi+m] - X) * bases[:, 1:maxi+1]\n",
    "        denom = knots[m:maxi+m] - knots[1 : maxi+1]\n",
    "        right = num/denom\n",
    "\n",
    "        bases = left + right\n",
    "    return bases\n"
   ]
  },
  {
   "cell_type": "code",
   "execution_count": 151,
   "metadata": {},
   "outputs": [],
   "source": [
    "def sqerr(theta): \n",
    "    return np.square(feats.dot(theta) - y).sum()\n",
    "\n",
    "def sparse_diff(array, n=1, axis=-1):                                                                                                                 \n",
    "    if (n < 0) or (int(n) != n):                                                \n",
    "        raise ValueError('Expected order is non-negative integer, '             \n",
    "                         'but found: {}'.format(n))                             \n",
    "    if not scipy.sparse.issparse(array):                                        \n",
    "        warnings.warn('Array is not sparse. Consider using numpy.diff')         \n",
    "                                                                                \n",
    "    if n == 0:                                                                  \n",
    "        return array                                                            \n",
    "                                                                                \n",
    "    nd = array.ndim                                                             \n",
    "    slice1 = [slice(None)]*nd                                                   \n",
    "    slice2 = [slice(None)]*nd                                                   \n",
    "    slice1[axis] = slice(1, None)                                               \n",
    "    slice2[axis] = slice(None, -1)                                              \n",
    "    slice1 = tuple(slice1)                                                      \n",
    "    slice2 = tuple(slice2)                                                      \n",
    "                                                                                \n",
    "    A = sparse_diff(array, n-1, axis=axis)                                      \n",
    "    return A[slice1] - A[slice2]  \n",
    "\n",
    "def derivative(n, order=2):                                                     \n",
    "    if n == 1:                                                                  \n",
    "        # no derivative for constant functions                                  \n",
    "        return scipy.sparse.csc_matrix(0.)                                      \n",
    "    D = sparse_diff(scipy.sparse.identity(n).tocsc(), n=order).tolil()          \n",
    "    return np.asarray(D.dot(D.T).tocsc().todense()) \n",
    "\n",
    "def get_P(knots, with_intercept=False):\n",
    "    P = derivative(len(knots) + 4, order=2) \n",
    "    return P\n",
    "\n",
    "def norm(theta):\n",
    "    return P.dot(theta).dot(theta)\n",
    "\n",
    "def T(x):\n",
    "    x_round = np.round(x)\n",
    "    return [x_round-adv_eps, x_round,  x_round+adv_eps]\n",
    "    \n",
    "def sqerr_adv(theta, T_feats):\n",
    "    sqerrs = [np.square(dat.dot(theta) - y) for dat in T_feats]\n",
    "    max_errs = np.sum(np.maximum.reduce(sqerrs))\n",
    "    return max_errs\n",
    "\n",
    "def test_sqerr(theta): \n",
    "    def err_y_for_x(x, e_y):                                                    \n",
    "        x_feats = get_feats(np.asarray([x]), knots)                             \n",
    "        preds_x = x_feats.dot(theta)[0]                                         \n",
    "        err_for_pt = np.square(preds_x) - 2*preds_x*e_y + noise_eps**2 + np.square(e_y)\n",
    "        return err_for_pt                                                       \n",
    "                                                                                \n",
    "    total_err = []                                                              \n",
    "    for i in range(X_test.shape[0]):                                                                                                            \n",
    "        class_i_err = 0                                                     \n",
    "        for x in [i-adv_eps, i+adv_eps]:                                    \n",
    "            class_i_err += 0.5 * x_noise * err_y_for_x(x, slope*i)                                                                \n",
    "        class_i_err += (1-x_noise)*err_y_for_x(i, slope*i)                      \n",
    "        total_err.append(class_i_err)                                           \n",
    "    total_err = np.asarray(total_err)                                           \n",
    "    return np.sum(total_err * weights) \n",
    "\n",
    "def summarize(res, X):\n",
    "    T_feats = [get_feats(xx, knots) for xx in [X, X-adv_eps, X+adv_eps]]\n",
    "    theta = res.x\n",
    "    print(\"sq err train\")\n",
    "    print(sqerr(theta)/X.shape[0])\n",
    "    print(\"sq err adv train\")\n",
    "    print(sqerr_adv(theta, T_feats)/X.shape[0])\n",
    "    print(\"sq err test\")\n",
    "    print(test_sqerr(theta))\n",
    "    print(\"generalization gap\")\n",
    "    print(test_sqerr(theta) - sqerr(theta)/X.shape[0])\n",
    "    print(\"rkhs norm\")\n",
    "    print(norm(theta))"
   ]
  },
  {
   "cell_type": "code",
   "execution_count": 152,
   "metadata": {},
   "outputs": [],
   "source": [
    "def solve_normal(f_mat, labels, l):\n",
    "    mat = f_mat.T.dot(f_mat) + l * get_P(knots)\n",
    "    theta = np.linalg.pinv(mat).dot(f_mat.T.dot(labels))\n",
    "    res_normal = Result(x=theta)\n",
    "    return res_normal\n",
    "\n",
    "def solve_adv(T_feats, y, lamda, P):\n",
    "    theta_var = cp.Variable(T_feats[0].shape[1])\n",
    "    sum_sq = [cp.square(dat*theta_var - y) for dat in T_feats]\n",
    "    objective = cp.Minimize(cp.sum(reduce(cp.maximum, sum_sq)) + lamda*cp.quad_form(theta_var, P))\n",
    "    prob = cp.Problem(objective)\n",
    "    prob.solve()\n",
    "    return Result(x=theta_var.value)"
   ]
  },
  {
   "cell_type": "code",
   "execution_count": 153,
   "metadata": {},
   "outputs": [
    {
     "name": "stdout",
     "output_type": "stream",
     "text": [
      "(10, 34)\n"
     ]
    }
   ],
   "source": [
    "P = get_P(knots)\n",
    "\n",
    "X = data_gen(num_examples, weights)\n",
    "y = slope*X + label_noise(X.shape[0], noise_eps)\n",
    "X += generate_x_noise(num_examples)\n",
    "\n",
    "X_test, y_test = get_test_set()\n",
    "    \n",
    "feats = get_feats(X, knots)\n",
    "print(feats.shape)\n",
    "res_normal = solve_normal(feats, y, lamda)"
   ]
  },
  {
   "cell_type": "code",
   "execution_count": 154,
   "metadata": {},
   "outputs": [],
   "source": [
    "# adversarial training data\n",
    "T_feats = [get_feats(xx, knots) for xx in [X-adv_eps, X, X+adv_eps]]\n",
    "\n",
    "# robust self training data\n",
    "X_unlabeled = data_gen(200, weights)\n",
    "feats_unlabeled = get_feats(X_unlabeled, knots)\n",
    "y_unlabeled = feats_unlabeled.dot(res_normal.x)\n",
    "X_aug = np.concatenate([X, X_unlabeled])\n",
    "y_aug = np.concatenate([y, y_unlabeled])\n",
    "T_feats_aug = [get_feats(xx, knots) for xx in [X_aug-adv_eps, X_aug, X_aug+adv_eps]]\n",
    "\n",
    "res_adv = solve_adv(T_feats, y, lamda, P)\n",
    "res_rst = solve_adv(T_feats_aug, y_aug, lamda, P)"
   ]
  },
  {
   "cell_type": "code",
   "execution_count": 155,
   "metadata": {},
   "outputs": [
    {
     "name": "stdout",
     "output_type": "stream",
     "text": [
      "Normal\n",
      "sq err train\n",
      "8.185476708662828e-30\n",
      "sq err adv train\n",
      "0.11111111111112745\n",
      "sq err test\n",
      "4.7031158142239e-06\n",
      "generalization gap\n",
      "4.7031158142239e-06\n",
      "rkhs norm\n",
      "-2.2019423318376158e-14\n",
      "\n",
      "Adversarial\n",
      "sq err train\n",
      "0.0019194515382713207\n",
      "sq err adv train\n",
      "0.00706729566536512\n",
      "sq err test\n",
      "0.1543837475112431\n",
      "generalization gap\n",
      "0.15246429597297176\n",
      "rkhs norm\n",
      "15.305814769496104\n"
     ]
    },
    {
     "data": {
      "image/png": "[encoded data removed]",
      "text/plain": [
       "<Figure size 432x288 with 1 Axes>"
      ]
     },
     "metadata": {
      "needs_background": "light"
     },
     "output_type": "display_data"
    }
   ],
   "source": [
    "X_plot = np.linspace(-adv_eps, num_stairs-1 + adv_eps, 100)\n",
    "feats_plot = get_feats(X_plot, knots)\n",
    "normal_plot_preds = feats_plot.dot(res_normal.x)\n",
    "\n",
    "plt.plot(X_plot, normal_plot_preds, label=\"Normal\")\n",
    "adv_plot_preds = feats_plot.dot(res_adv.x)\n",
    "plt.plot(X_plot, adv_plot_preds, label=\"Adversarial\")\n",
    "plt.legend()\n",
    "print(\"Normal\")\n",
    "summarize(res_normal, X)\n",
    "print()\n",
    "print(\"Adversarial\")\n",
    "summarize(res_adv, X)"
   ]
  },
  {
   "cell_type": "code",
   "execution_count": 156,
   "metadata": {},
   "outputs": [
    {
     "data": {
      "text/plain": [
       "<matplotlib.legend.Legend at 0x7f3a7e554630>"
      ]
     },
     "execution_count": 156,
     "metadata": {},
     "output_type": "execute_result"
    },
    {
     "data": {
      "image/png": "[encoded data removed]",
      "text/plain": [
       "<Figure size 432x288 with 1 Axes>"
      ]
     },
     "metadata": {
      "needs_background": "light"
     },
     "output_type": "display_data"
    }
   ],
   "source": [
    "plt.plot(X_plot, normal_plot_preds, label=\"Normal\")\n",
    "rst_plot_preds = feats_plot.dot(res_rst.x)\n",
    "plt.plot(X_plot, rst_plot_preds, label=\"RST\", c='C2')\n",
    "plt.legend()"
   ]
  },
  {
   "cell_type": "code",
   "execution_count": null,
   "metadata": {},
   "outputs": [],
   "source": []
  }
 ],
 "metadata": {
  "kernelspec": {
   "display_name": "Python 3",
   "language": "python",
   "name": "python3"
  },
  "language_info": {
   "codemirror_mode": {
    "name": "ipython",
    "version": 3
   },
   "file_extension": ".py",
   "mimetype": "text/x-python",
   "name": "python",
   "nbconvert_exporter": "python",
   "pygments_lexer": "ipython3",
   "version": "3.7.4"
  }
 },
 "nbformat": 4,
 "nbformat_minor": 4
}
