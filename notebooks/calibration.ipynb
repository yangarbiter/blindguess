{
 "cells": [
  {
   "cell_type": "code",
   "execution_count": 1,
   "metadata": {},
   "outputs": [],
   "source": [
    "import sys\n",
    "sys.path.append(\"../\")\n",
    "import re\n",
    "from os.path import join\n",
    "from IPython.display import display\n",
    "\n",
    "import matplotlib.pyplot as plt\n",
    "import joblib\n",
    "import pandas as pd\n",
    "import numpy as np\n",
    "import torch\n",
    "import torch.utils.data as data_utils\n",
    "\n",
    "from lolip.models.torch_utils.archs import *\n",
    "from lolip.variables import auto_var\n",
    "from lolip.models.torch_model import TorchModel\n",
    "from lolip.utils import estimate_local_lip_v2\n",
    "from params import mnistLip, cifarLip, svhnLip, mnistOtherLips, mnistFixLips, cifarOtherLips, svhnFixLips\n",
    "from params import cifarFixLips, svhnOtherLips, resImgFixLips\n",
    "from utils import params_to_dataframe\n",
    "\n",
    "auto_var.set_logging_level(0)"
   ]
  },
  {
   "cell_type": "code",
   "execution_count": 2,
   "metadata": {},
   "outputs": [],
   "source": [
    "from scipy.special import softmax\n",
    "\n",
    "def get_arch(path):\n",
    "    return path.split(\"-\")[path.split(\"-\").index('tor')+1]\n",
    "\n",
    "def get_ds(path):\n",
    "    return path.split(\"-\")[1]\n",
    "\n",
    "def predict_real(model, X):\n",
    "    X = X.transpose(0, 3, 1, 2)\n",
    "    dataset = data_utils.TensorDataset(torch.from_numpy(X).float())\n",
    "    loader = torch.utils.data.DataLoader(dataset, batch_size=128, shuffle=False, num_workers=2)\n",
    "    ret = []\n",
    "    for [x] in loader:\n",
    "        ret.append(model(x.to('cuda')).detach().cpu().numpy())\n",
    "    return np.concatenate(ret, axis=0)\n",
    "\n",
    "def calc_lip(model, X, Xp, top_norm, btm_norm):\n",
    "    top = np.linalg.norm(predict_real(model, X)-predict_real(model, Xp), ord=top_norm, axis=1)\n",
    "    down = np.linalg.norm(X.reshape(len(Xp), -1)-Xp.reshape(len(Xp), -1), ord=btm_norm, axis=1)\n",
    "    return top / (down+1e-6)\n",
    "\n",
    "def get_lip(model, X, top_norm=2, btm_norm=2, epsilon=1.0):\n",
    "    lip = estimate_local_lip_v2(model, X, top_norm=top_norm, btm_norm=btm_norm, epsilon=epsilon)\n",
    "    lip_ = calc_lip(model, X, lip, top_norm=top_norm, btm_norm=btm_norm)\n",
    "    return lip_\n",
    "\n",
    "class ModelWrapper():\n",
    "    def __init__(self, model):\n",
    "        self.model = model\n",
    "    def predict_proba(self, X):\n",
    "        return softmax(predict_real(self.model, X), axis=1)\n",
    "    def predict_real(self, X):\n",
    "        return predict_real(self.model, X)\n",
    "    def predict(self, X):\n",
    "        return predict_real(self.model, X).argmax(axis=1)\n",
    "    \n",
    "cifar_classes = ('plane', 'car', 'bird', 'cat', 'deer', 'dog', 'frog', 'horse', 'ship', 'truck')"
   ]
  },
  {
   "cell_type": "code",
   "execution_count": 3,
   "metadata": {},
   "outputs": [],
   "source": [
    "trnX, trny, tstX, tsty = auto_var.get_var_with_argument(\"dataset\", 'cifar10')"
   ]
  },
  {
   "cell_type": "code",
   "execution_count": 4,
   "metadata": {},
   "outputs": [],
   "source": []
  },
  {
   "cell_type": "code",
   "execution_count": 10,
   "metadata": {},
   "outputs": [],
   "source": []
  },
  {
   "cell_type": "code",
   "execution_count": 64,
   "metadata": {},
   "outputs": [],
   "source": [
    "def get_proba_list(pred, y):\n",
    "    pred_proba = pred.max(axis=1)\n",
    "    pred_y = pred.argmax(axis=1)\n",
    "    print(\"accuracy: \", (pred_y == y).mean())\n",
    "    print(\"proba dist: \", np.histogram(pred_proba, bins=np.arange(10)/10.)[0])\n",
    "    acc_list = []\n",
    "    for i in range(10):\n",
    "        proba_range = [i/10, (i+1)/10]\n",
    "        idx = np.where(np.logical_and(pred_proba >= proba_range[0], pred_proba < proba_range[1]))[0]\n",
    "        if len(idx) > 0:\n",
    "            acc_list.append((pred_y[idx] == y[idx]).mean())\n",
    "        else:\n",
    "            acc_list.append(0.)\n",
    "    return acc_list\n",
    "\n",
    "def get_proba_list_fig(proba_list):\n",
    "    x = np.arange(10) / 10 + 0.05\n",
    "    plt.xlim(0, 1)\n",
    "    plt.ylim(0, 1)\n",
    "    plt.bar(x, proba_list)\n",
    "    plt.show()\n",
    "    \n"
   ]
  },
  {
   "cell_type": "code",
   "execution_count": 75,
   "metadata": {},
   "outputs": [
    {
     "name": "stdout",
     "output_type": "stream",
     "text": [
      "accuracy:  0.8019\n",
      "proba dist:  [   0    2  305  915 1032  990  839  862 1015]\n"
     ]
    },
    {
     "data": {
      "text/plain": [
       "<BarContainer object of 10 artists>"
      ]
     },
     "execution_count": 75,
     "metadata": {},
     "output_type": "execute_result"
    },
    {
     "data": {
      "image/png": "[encoded data removed]",
      "text/plain": [
       "<Figure size 432x288 with 1 Axes>"
      ]
     },
     "metadata": {
      "needs_background": "light"
     },
     "output_type": "display_data"
    }
   ],
   "source": [
    "model_path = \"../models/pgd-cifar10-0.031-aug01-advce-tor-WRN_40_10-inf-0-ep0120.pt\"\n",
    "model = globals()[get_arch(model_path)](n_classes=10)\n",
    "model.load_state_dict(torch.load(model_path)['model_state_dict'])\n",
    "model.eval()\n",
    "model.cuda()\n",
    "model = ModelWrapper(model)\n",
    "#trnX, trny, tstX, tsty = auto_var.get_var_with_argument(\"dataset\", get_ds(model_path))\n",
    "tst_pred = model.predict_proba(tstX)\n",
    "proba_list = get_proba_list(tst_pred, tsty)\n",
    "plt.bar(np.arange(10), proba_list)\n",
    "plt.bar(np.arange(10), np.arange(10)/10+0.05, alpha = 0.6)"
   ]
  },
  {
   "cell_type": "code",
   "execution_count": 74,
   "metadata": {},
   "outputs": [
    {
     "name": "stdout",
     "output_type": "stream",
     "text": [
      "accuracy:  0.9381\n",
      "proba dist:  [  0   0   0   4  16  79  85 109 142]\n"
     ]
    },
    {
     "data": {
      "text/plain": [
       "<BarContainer object of 10 artists>"
      ]
     },
     "execution_count": 74,
     "metadata": {},
     "output_type": "execute_result"
    },
    {
     "data": {
      "image/png": "[encoded data removed]",
      "text/plain": [
       "<Figure size 432x288 with 1 Axes>"
      ]
     },
     "metadata": {
      "needs_background": "light"
     },
     "output_type": "display_data"
    }
   ],
   "source": [
    "model_path = \"../models/pgd-cifar10-0.031-aug01-ce-tor-WRN_40_10-inf-0-ep0120.pt\"\n",
    "model = globals()[get_arch(model_path)](n_classes=10)\n",
    "model.load_state_dict(torch.load(model_path)['model_state_dict'])\n",
    "model.eval()\n",
    "model.cuda()\n",
    "model = ModelWrapper(model)\n",
    "tst_pred = model.predict_proba(tstX)\n",
    "proba_list = get_proba_list(tst_pred, tsty)\n",
    "plt.bar(np.arange(10), proba_list)\n",
    "plt.bar(np.arange(10), np.arange(10)/10+0.05, alpha = 0.6)"
   ]
  },
  {
   "cell_type": "code",
   "execution_count": 73,
   "metadata": {},
   "outputs": [
    {
     "name": "stdout",
     "output_type": "stream",
     "text": [
      "accuracy:  0.8446\n",
      "proba dist:  [   0    1  109  442  659  732  742  883 1015]\n"
     ]
    },
    {
     "data": {
      "text/plain": [
       "<BarContainer object of 10 artists>"
      ]
     },
     "execution_count": 73,
     "metadata": {},
     "output_type": "execute_result"
    },
    {
     "data": {
      "image/png": "[encoded data removed]",
      "text/plain": [
       "<Figure size 432x288 with 1 Axes>"
      ]
     },
     "metadata": {
      "needs_background": "light"
     },
     "output_type": "display_data"
    }
   ],
   "source": [
    "model_path = \"../models/pgd-cifar10-0.031-aug01-strades6ce-tor-WRN_40_10-inf-0-ep0120.pt\"\n",
    "model = globals()[get_arch(model_path)](n_classes=10)\n",
    "model.load_state_dict(torch.load(model_path)['model_state_dict'])\n",
    "model.eval()\n",
    "model.cuda()\n",
    "model = ModelWrapper(model)\n",
    "tst_pred = model.predict_proba(tstX)\n",
    "proba_list = get_proba_list(tst_pred, tsty)\n",
    "plt.bar(np.arange(10), proba_list)\n",
    "plt.bar(np.arange(10), np.arange(10)/10+0.05, alpha = 0.6)"
   ]
  },
  {
   "cell_type": "code",
   "execution_count": 76,
   "metadata": {},
   "outputs": [
    {
     "name": "stdout",
     "output_type": "stream",
     "text": [
      "accuracy:  0.8496\n",
      "proba dist:  [  0   0   9  99 267 450 403 455 697]\n"
     ]
    },
    {
     "data": {
      "text/plain": [
       "<BarContainer object of 10 artists>"
      ]
     },
     "execution_count": 76,
     "metadata": {},
     "output_type": "execute_result"
    },
    {
     "data": {
      "image/png": "[encoded data removed]",
      "text/plain": [
       "<Figure size 432x288 with 1 Axes>"
      ]
     },
     "metadata": {
      "needs_background": "light"
     },
     "output_type": "display_data"
    }
   ],
   "source": [
    "model_path = \"../models/pgd-cifar10-0.031-aug01-stradesce-tor-WRN_40_10-inf-0-ep0120.pt\"\n",
    "model = globals()[get_arch(model_path)](n_classes=10)\n",
    "model.load_state_dict(torch.load(model_path)['model_state_dict'])\n",
    "model.eval()\n",
    "model.cuda()\n",
    "model = ModelWrapper(model)\n",
    "tst_pred = model.predict_proba(tstX)\n",
    "proba_list = get_proba_list(tst_pred, tsty)\n",
    "plt.bar(np.arange(10), proba_list)\n",
    "plt.bar(np.arange(10), np.arange(10)/10+0.05, alpha = 0.6)"
   ]
  }
 ],
 "metadata": {
  "kernelspec": {
   "display_name": "Python 3",
   "language": "python",
   "name": "python3"
  },
  "language_info": {
   "codemirror_mode": {
    "name": "ipython",
    "version": 3
   },
   "file_extension": ".py",
   "mimetype": "text/x-python",
   "name": "python",
   "nbconvert_exporter": "python",
   "pygments_lexer": "ipython3",
   "version": "3.7.4"
  }
 },
 "nbformat": 4,
 "nbformat_minor": 4
}
