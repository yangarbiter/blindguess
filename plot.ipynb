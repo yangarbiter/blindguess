{
 "cells": [
  {
   "cell_type": "code",
   "execution_count": 1,
   "metadata": {},
   "outputs": [],
   "source": [
    "import re\n",
    "from os.path import join\n",
    "from IPython.display import display\n",
    "\n",
    "import matplotlib.pyplot as plt\n",
    "import joblib\n",
    "import pandas as pd\n",
    "import numpy as np\n",
    "import torch\n",
    "import torch.utils.data as data_utils\n",
    "\n",
    "from lolip.models.torch_utils.archs import *\n",
    "from lolip.variables import auto_var\n",
    "from lolip.models.torch_model import TorchModel\n",
    "from lolip.utils import estimate_local_lip_v2\n",
    "from params import mnistLip, cifarLip, svhnLip, mnistOtherLips, cifarOtherLips, svhnOtherLips\n",
    "from params import noisyMnistLip\n",
    "from utils import params_to_dataframe\n",
    "\n",
    "TEX_DIR = \"./tex_files\"\n",
    "\n",
    "auto_var.set_logging_level(0)"
   ]
  },
  {
   "cell_type": "code",
   "execution_count": 2,
   "metadata": {},
   "outputs": [],
   "source": [
    "def get_model_name(model_name, hyper=None):\n",
    "    if 'tulip' in model_name:\n",
    "        return 7, 'GRv2'\n",
    "    elif 'advkld' in model_name:\n",
    "        return 7, 'AT(KLD)'\n",
    "    elif 'advce' in model_name:\n",
    "        return 8, 'AT(CE)'\n",
    "    elif 'pstrades6' in model_name:\n",
    "        return 21, 'PTRADE(6)'\n",
    "    elif 'pstrades10' in model_name:\n",
    "        return 22, 'PTRADE(10)'\n",
    "    elif 'pstrades' in model_name:\n",
    "        return 20, 'PTRADE(1)'\n",
    "    elif 'strades6' in model_name:\n",
    "        return 11, 'TRADE(6)'\n",
    "    elif 'strades10' in model_name:\n",
    "        return 12, 'TRADE(10)'\n",
    "    elif 'strades' in model_name:\n",
    "        return 10, 'TRADE(1)'\n",
    "    elif 'ptrades6' in model_name:\n",
    "        return 14, 'PTRADE(6/b)'\n",
    "    elif 'ptrades10' in model_name:\n",
    "        return 15, 'PTRADE(10/b)'\n",
    "    elif 'ptrades' in model_name:\n",
    "        return 13, 'PTRADE(1/b)'\n",
    "    elif 'trades6' in model_name:\n",
    "        return 24, 'TRADE(6/b)'\n",
    "    elif 'trades10' in model_name:\n",
    "        return 25, 'TRADE(10/b)'\n",
    "    elif 'trades' in model_name:\n",
    "        return 23, 'TRADE(1/b)'\n",
    "    elif 'cure' in model_name:\n",
    "        return 4, 'CURE'\n",
    "    elif 'llr' in model_name:\n",
    "        return 3, 'LLR'\n",
    "    elif 'gr' in model_name:\n",
    "        return 2, 'GR'\n",
    "    elif 'kld' in model_name:\n",
    "        return 1, 'Natural(kld)'\n",
    "    else:\n",
    "        return 0, 'Natural'\n",
    "    \n",
    "col_name = {\n",
    "    'trn_acc': 'tr acc',\n",
    "    'tst_acc': 'ts acc',\n",
    "    'adv_trn_acc': 'adv tr acc',\n",
    "    'adv_tst_acc': 'adv ts acc',\n",
    "    'avg_trn_lip_kl': 'tr lip(KL)',\n",
    "    'avg_tst_lip_kl': 'ts lip(KL)',\n",
    "    'avg_trn_lip_1': 'tr lip(1)',\n",
    "    'avg_tst_lip_1': 'ts lip(1)',\n",
    "}\n",
    "\n",
    "def output_latex(df):\n",
    "    for name, d in df.groupby([\"dataset\", \"arch\"]):\n",
    "        d = d.set_index('loss_name')\n",
    "        d.index = [i[1] for i in d.index]\n",
    "        d = d[['trn_acc', 'tst_acc', 'adv_trn_acc', 'adv_tst_acc', 'avg_trn_lip_1', 'avg_tst_lip_1']]\n",
    "        d = d.rename(columns=col_name)\n",
    "        d = d.sort_index(axis=0)\n",
    "        tex = d.to_latex(index=True, float_format=\"%.4f\", column_format=\"lccccccccc\")\n",
    "        with open(join(TEX_DIR, \"_\".join(name)+\"_tab.tex\"), \"w\") as f:\n",
    "            f.write(tex)\n",
    "\n",
    "def display_results(exp, otherExp=None):\n",
    "    columns = ['trn_acc', 'tst_acc', 'adv_trn_acc', 'adv_tst_acc', 'avg_trn_lip', 'avg_tst_lip']\n",
    "    _, _, grid_params, _ = exp()()\n",
    "    df = params_to_dataframe(grid_params,\n",
    "                             columns=columns,\n",
    "                             result_file_dir='./results/experiment01/',\n",
    "                             logging_level=0)\n",
    "    for c in ['trn_acc', 'tst_acc', 'adv_trn_acc', 'adv_tst_acc']:\n",
    "        df[c] *= 100\n",
    "    if otherExp is not None:\n",
    "        _, _, grid_params, _ = otherExp()()\n",
    "        add_df = params_to_dataframe(grid_params,\n",
    "                                 columns=['avg_trn_lip_1', 'avg_tst_lip_1', 'avg_trn_lip_kl', 'avg_tst_lip_kl'],\n",
    "                                 result_file_dir='./results/experiment03/',\n",
    "                                 logging_level=0)\n",
    "\n",
    "        df = df.merge(add_df, how=\"left\", on=['model', 'dataset', 'attack', 'norm', 'eps', 'random_seed'])\n",
    "    else:\n",
    "        df['avg_trn_lip_1'] = np.nan\n",
    "        df['avg_tst_lip_1'] = np.nan\n",
    "        df['avg_trn_lip_kl'] = np.nan\n",
    "        df['avg_tst_lip_kl'] = np.nan\n",
    "\n",
    "    df['arch'] = df['model'].apply(lambda a: a.split(\"-\")[2])\n",
    "    df['loss_name'] = df['model'].apply(lambda a: get_model_name(a.split(\"-\")[0] if 'aug' not in a.split(\"-\")[0] else a.split(\"-\")[1]))\n",
    "    df['gen_gap'] = df['trn_acc'] - df['tst_acc']\n",
    "\n",
    "    for name, d in df.groupby([\"dataset\", \"arch\"]):\n",
    "        print(name)\n",
    "        display(d)\n",
    "    return df"
   ]
  },
  {
   "cell_type": "code",
   "execution_count": 6,
   "metadata": {},
   "outputs": [
    {
     "name": "stdout",
     "output_type": "stream",
     "text": [
      "('mnist', 'CNN001')\n"
     ]
    },
    {
     "data": {
      "text/html": [
       "<div>\n",
       "<style scoped>\n",
       "    .dataframe tbody tr th:only-of-type {\n",
       "        vertical-align: middle;\n",
       "    }\n",
       "\n",
       "    .dataframe tbody tr th {\n",
       "        vertical-align: top;\n",
       "    }\n",
       "\n",
       "    .dataframe thead th {\n",
       "        text-align: right;\n",
       "    }\n",
       "</style>\n",
       "<table border=\"1\" class=\"dataframe\">\n",
       "  <thead>\n",
       "    <tr style=\"text-align: right;\">\n",
       "      <th></th>\n",
       "      <th>attack</th>\n",
       "      <th>dataset</th>\n",
       "      <th>eps</th>\n",
       "      <th>model</th>\n",
       "      <th>norm</th>\n",
       "      <th>random_seed</th>\n",
       "      <th>trn_acc</th>\n",
       "      <th>tst_acc</th>\n",
       "      <th>adv_trn_acc</th>\n",
       "      <th>adv_tst_acc</th>\n",
       "      <th>avg_trn_lip</th>\n",
       "      <th>avg_tst_lip</th>\n",
       "      <th>avg_trn_lip_1</th>\n",
       "      <th>avg_tst_lip_1</th>\n",
       "      <th>avg_trn_lip_kl</th>\n",
       "      <th>avg_tst_lip_kl</th>\n",
       "      <th>arch</th>\n",
       "      <th>loss_name</th>\n",
       "      <th>gen_gap</th>\n",
       "    </tr>\n",
       "  </thead>\n",
       "  <tbody>\n",
       "    <tr>\n",
       "      <th>0</th>\n",
       "      <td>pgd</td>\n",
       "      <td>mnist</td>\n",
       "      <td>0.1</td>\n",
       "      <td>strades6ce-tor-CNN001</td>\n",
       "      <td>inf</td>\n",
       "      <td>0</td>\n",
       "      <td>96.981667</td>\n",
       "      <td>97.07</td>\n",
       "      <td>88.558333</td>\n",
       "      <td>88.59</td>\n",
       "      <td>0.962375</td>\n",
       "      <td>0.964691</td>\n",
       "      <td>2.737411</td>\n",
       "      <td>2.752654</td>\n",
       "      <td>6.569613e-05</td>\n",
       "      <td>0.000069</td>\n",
       "      <td>CNN001</td>\n",
       "      <td>(11, TRADE(6))</td>\n",
       "      <td>-0.088333</td>\n",
       "    </tr>\n",
       "    <tr>\n",
       "      <th>1</th>\n",
       "      <td>pgd</td>\n",
       "      <td>mnist</td>\n",
       "      <td>0.1</td>\n",
       "      <td>stradesce-tor-CNN001</td>\n",
       "      <td>inf</td>\n",
       "      <td>0</td>\n",
       "      <td>99.806667</td>\n",
       "      <td>99.26</td>\n",
       "      <td>96.150000</td>\n",
       "      <td>93.89</td>\n",
       "      <td>3.193482</td>\n",
       "      <td>3.239552</td>\n",
       "      <td>9.619464</td>\n",
       "      <td>9.690696</td>\n",
       "      <td>1.734590e-05</td>\n",
       "      <td>0.000060</td>\n",
       "      <td>CNN001</td>\n",
       "      <td>(10, TRADE(1))</td>\n",
       "      <td>0.546667</td>\n",
       "    </tr>\n",
       "    <tr>\n",
       "      <th>2</th>\n",
       "      <td>pgd</td>\n",
       "      <td>mnist</td>\n",
       "      <td>0.1</td>\n",
       "      <td>tulipce-tor-CNN001</td>\n",
       "      <td>inf</td>\n",
       "      <td>0</td>\n",
       "      <td>99.988333</td>\n",
       "      <td>99.29</td>\n",
       "      <td>78.890000</td>\n",
       "      <td>76.80</td>\n",
       "      <td>9.883685</td>\n",
       "      <td>9.867259</td>\n",
       "      <td>26.081958</td>\n",
       "      <td>26.047614</td>\n",
       "      <td>5.060899e-05</td>\n",
       "      <td>0.000611</td>\n",
       "      <td>CNN001</td>\n",
       "      <td>(7, GRv2)</td>\n",
       "      <td>0.698333</td>\n",
       "    </tr>\n",
       "    <tr>\n",
       "      <th>3</th>\n",
       "      <td>pgd</td>\n",
       "      <td>mnist</td>\n",
       "      <td>0.1</td>\n",
       "      <td>ce-tor-CNN001</td>\n",
       "      <td>inf</td>\n",
       "      <td>0</td>\n",
       "      <td>100.000000</td>\n",
       "      <td>99.20</td>\n",
       "      <td>40.813333</td>\n",
       "      <td>41.83</td>\n",
       "      <td>24.914808</td>\n",
       "      <td>25.083706</td>\n",
       "      <td>66.886009</td>\n",
       "      <td>67.246512</td>\n",
       "      <td>9.009926e-05</td>\n",
       "      <td>0.004028</td>\n",
       "      <td>CNN001</td>\n",
       "      <td>(0, Natural)</td>\n",
       "      <td>0.800000</td>\n",
       "    </tr>\n",
       "    <tr>\n",
       "      <th>4</th>\n",
       "      <td>pgd</td>\n",
       "      <td>mnist</td>\n",
       "      <td>0.1</td>\n",
       "      <td>cure14ce-tor-CNN001</td>\n",
       "      <td>inf</td>\n",
       "      <td>0</td>\n",
       "      <td>100.000000</td>\n",
       "      <td>99.08</td>\n",
       "      <td>84.561667</td>\n",
       "      <td>84.27</td>\n",
       "      <td>4.352627</td>\n",
       "      <td>4.355541</td>\n",
       "      <td>12.549028</td>\n",
       "      <td>12.553495</td>\n",
       "      <td>2.296214e-07</td>\n",
       "      <td>0.000250</td>\n",
       "      <td>CNN001</td>\n",
       "      <td>(4, CURE)</td>\n",
       "      <td>0.920000</td>\n",
       "    </tr>\n",
       "    <tr>\n",
       "      <th>5</th>\n",
       "      <td>pgd</td>\n",
       "      <td>mnist</td>\n",
       "      <td>0.1</td>\n",
       "      <td>advce-tor-CNN001</td>\n",
       "      <td>inf</td>\n",
       "      <td>0</td>\n",
       "      <td>99.981667</td>\n",
       "      <td>99.31</td>\n",
       "      <td>99.610000</td>\n",
       "      <td>96.17</td>\n",
       "      <td>2.771575</td>\n",
       "      <td>2.795055</td>\n",
       "      <td>8.730167</td>\n",
       "      <td>8.840337</td>\n",
       "      <td>6.501647e-07</td>\n",
       "      <td>0.000088</td>\n",
       "      <td>CNN001</td>\n",
       "      <td>(8, AT(CE))</td>\n",
       "      <td>0.671667</td>\n",
       "    </tr>\n",
       "    <tr>\n",
       "      <th>6</th>\n",
       "      <td>pgd</td>\n",
       "      <td>mnist</td>\n",
       "      <td>0.1</td>\n",
       "      <td>llrce-tor-CNN001</td>\n",
       "      <td>inf</td>\n",
       "      <td>0</td>\n",
       "      <td>99.998333</td>\n",
       "      <td>99.34</td>\n",
       "      <td>86.045000</td>\n",
       "      <td>83.99</td>\n",
       "      <td>12.434842</td>\n",
       "      <td>12.424883</td>\n",
       "      <td>33.917080</td>\n",
       "      <td>34.063950</td>\n",
       "      <td>4.330360e-07</td>\n",
       "      <td>0.000391</td>\n",
       "      <td>CNN001</td>\n",
       "      <td>(3, LLR)</td>\n",
       "      <td>0.658333</td>\n",
       "    </tr>\n",
       "    <tr>\n",
       "      <th>7</th>\n",
       "      <td>pgd</td>\n",
       "      <td>mnist</td>\n",
       "      <td>0.1</td>\n",
       "      <td>gr1e5ce-tor-CNN001</td>\n",
       "      <td>inf</td>\n",
       "      <td>0</td>\n",
       "      <td>99.998333</td>\n",
       "      <td>99.20</td>\n",
       "      <td>42.428333</td>\n",
       "      <td>43.01</td>\n",
       "      <td>23.387331</td>\n",
       "      <td>23.546093</td>\n",
       "      <td>61.804612</td>\n",
       "      <td>62.260961</td>\n",
       "      <td>4.416983e-05</td>\n",
       "      <td>0.003240</td>\n",
       "      <td>CNN001</td>\n",
       "      <td>(2, GR)</td>\n",
       "      <td>0.798333</td>\n",
       "    </tr>\n",
       "  </tbody>\n",
       "</table>\n",
       "</div>"
      ],
      "text/plain": [
       "  attack dataset  eps                  model norm  random_seed     trn_acc  \\\n",
       "0    pgd   mnist  0.1  strades6ce-tor-CNN001  inf            0   96.981667   \n",
       "1    pgd   mnist  0.1   stradesce-tor-CNN001  inf            0   99.806667   \n",
       "2    pgd   mnist  0.1     tulipce-tor-CNN001  inf            0   99.988333   \n",
       "3    pgd   mnist  0.1          ce-tor-CNN001  inf            0  100.000000   \n",
       "4    pgd   mnist  0.1    cure14ce-tor-CNN001  inf            0  100.000000   \n",
       "5    pgd   mnist  0.1       advce-tor-CNN001  inf            0   99.981667   \n",
       "6    pgd   mnist  0.1       llrce-tor-CNN001  inf            0   99.998333   \n",
       "7    pgd   mnist  0.1     gr1e5ce-tor-CNN001  inf            0   99.998333   \n",
       "\n",
       "   tst_acc  adv_trn_acc  adv_tst_acc  avg_trn_lip  avg_tst_lip  avg_trn_lip_1  \\\n",
       "0    97.07    88.558333        88.59     0.962375     0.964691       2.737411   \n",
       "1    99.26    96.150000        93.89     3.193482     3.239552       9.619464   \n",
       "2    99.29    78.890000        76.80     9.883685     9.867259      26.081958   \n",
       "3    99.20    40.813333        41.83    24.914808    25.083706      66.886009   \n",
       "4    99.08    84.561667        84.27     4.352627     4.355541      12.549028   \n",
       "5    99.31    99.610000        96.17     2.771575     2.795055       8.730167   \n",
       "6    99.34    86.045000        83.99    12.434842    12.424883      33.917080   \n",
       "7    99.20    42.428333        43.01    23.387331    23.546093      61.804612   \n",
       "\n",
       "   avg_tst_lip_1  avg_trn_lip_kl  avg_tst_lip_kl    arch       loss_name  \\\n",
       "0       2.752654    6.569613e-05        0.000069  CNN001  (11, TRADE(6))   \n",
       "1       9.690696    1.734590e-05        0.000060  CNN001  (10, TRADE(1))   \n",
       "2      26.047614    5.060899e-05        0.000611  CNN001       (7, GRv2)   \n",
       "3      67.246512    9.009926e-05        0.004028  CNN001    (0, Natural)   \n",
       "4      12.553495    2.296214e-07        0.000250  CNN001       (4, CURE)   \n",
       "5       8.840337    6.501647e-07        0.000088  CNN001     (8, AT(CE))   \n",
       "6      34.063950    4.330360e-07        0.000391  CNN001        (3, LLR)   \n",
       "7      62.260961    4.416983e-05        0.003240  CNN001         (2, GR)   \n",
       "\n",
       "    gen_gap  \n",
       "0 -0.088333  \n",
       "1  0.546667  \n",
       "2  0.698333  \n",
       "3  0.800000  \n",
       "4  0.920000  \n",
       "5  0.671667  \n",
       "6  0.658333  \n",
       "7  0.798333  "
      ]
     },
     "metadata": {},
     "output_type": "display_data"
    },
    {
     "name": "stdout",
     "output_type": "stream",
     "text": [
      "('mnist', 'CNN002')\n"
     ]
    },
    {
     "data": {
      "text/html": [
       "<div>\n",
       "<style scoped>\n",
       "    .dataframe tbody tr th:only-of-type {\n",
       "        vertical-align: middle;\n",
       "    }\n",
       "\n",
       "    .dataframe tbody tr th {\n",
       "        vertical-align: top;\n",
       "    }\n",
       "\n",
       "    .dataframe thead th {\n",
       "        text-align: right;\n",
       "    }\n",
       "</style>\n",
       "<table border=\"1\" class=\"dataframe\">\n",
       "  <thead>\n",
       "    <tr style=\"text-align: right;\">\n",
       "      <th></th>\n",
       "      <th>attack</th>\n",
       "      <th>dataset</th>\n",
       "      <th>eps</th>\n",
       "      <th>model</th>\n",
       "      <th>norm</th>\n",
       "      <th>random_seed</th>\n",
       "      <th>trn_acc</th>\n",
       "      <th>tst_acc</th>\n",
       "      <th>adv_trn_acc</th>\n",
       "      <th>adv_tst_acc</th>\n",
       "      <th>avg_trn_lip</th>\n",
       "      <th>avg_tst_lip</th>\n",
       "      <th>avg_trn_lip_1</th>\n",
       "      <th>avg_tst_lip_1</th>\n",
       "      <th>avg_trn_lip_kl</th>\n",
       "      <th>avg_tst_lip_kl</th>\n",
       "      <th>arch</th>\n",
       "      <th>loss_name</th>\n",
       "      <th>gen_gap</th>\n",
       "    </tr>\n",
       "  </thead>\n",
       "  <tbody>\n",
       "    <tr>\n",
       "      <th>8</th>\n",
       "      <td>pgd</td>\n",
       "      <td>mnist</td>\n",
       "      <td>0.1</td>\n",
       "      <td>strades6ce-tor-CNN002</td>\n",
       "      <td>inf</td>\n",
       "      <td>0</td>\n",
       "      <td>99.613333</td>\n",
       "      <td>99.59</td>\n",
       "      <td>99.528333</td>\n",
       "      <td>98.72</td>\n",
       "      <td>0.471817</td>\n",
       "      <td>0.476693</td>\n",
       "      <td>1.351692</td>\n",
       "      <td>1.360831</td>\n",
       "      <td>-1.872465e-06</td>\n",
       "      <td>0.000001</td>\n",
       "      <td>CNN002</td>\n",
       "      <td>(11, TRADE(6))</td>\n",
       "      <td>0.023333</td>\n",
       "    </tr>\n",
       "    <tr>\n",
       "      <th>9</th>\n",
       "      <td>pgd</td>\n",
       "      <td>mnist</td>\n",
       "      <td>0.1</td>\n",
       "      <td>stradesce-tor-CNN002</td>\n",
       "      <td>inf</td>\n",
       "      <td>0</td>\n",
       "      <td>99.963333</td>\n",
       "      <td>99.58</td>\n",
       "      <td>99.278333</td>\n",
       "      <td>96.94</td>\n",
       "      <td>1.719355</td>\n",
       "      <td>1.737225</td>\n",
       "      <td>4.687971</td>\n",
       "      <td>4.741066</td>\n",
       "      <td>4.780302e-08</td>\n",
       "      <td>0.000016</td>\n",
       "      <td>CNN002</td>\n",
       "      <td>(10, TRADE(1))</td>\n",
       "      <td>0.383333</td>\n",
       "    </tr>\n",
       "    <tr>\n",
       "      <th>10</th>\n",
       "      <td>pgd</td>\n",
       "      <td>mnist</td>\n",
       "      <td>0.1</td>\n",
       "      <td>tulipce-tor-CNN002</td>\n",
       "      <td>inf</td>\n",
       "      <td>0</td>\n",
       "      <td>99.993333</td>\n",
       "      <td>99.55</td>\n",
       "      <td>95.711667</td>\n",
       "      <td>93.20</td>\n",
       "      <td>9.591815</td>\n",
       "      <td>9.538045</td>\n",
       "      <td>20.466134</td>\n",
       "      <td>20.264725</td>\n",
       "      <td>1.836552e-05</td>\n",
       "      <td>0.000269</td>\n",
       "      <td>CNN002</td>\n",
       "      <td>(7, GRv2)</td>\n",
       "      <td>0.443333</td>\n",
       "    </tr>\n",
       "    <tr>\n",
       "      <th>11</th>\n",
       "      <td>pgd</td>\n",
       "      <td>mnist</td>\n",
       "      <td>0.1</td>\n",
       "      <td>ce-tor-CNN002</td>\n",
       "      <td>inf</td>\n",
       "      <td>0</td>\n",
       "      <td>100.000000</td>\n",
       "      <td>99.51</td>\n",
       "      <td>79.450000</td>\n",
       "      <td>80.53</td>\n",
       "      <td>9.913164</td>\n",
       "      <td>9.871323</td>\n",
       "      <td>23.046890</td>\n",
       "      <td>23.062061</td>\n",
       "      <td>5.872979e-06</td>\n",
       "      <td>0.000868</td>\n",
       "      <td>CNN002</td>\n",
       "      <td>(0, Natural)</td>\n",
       "      <td>0.490000</td>\n",
       "    </tr>\n",
       "    <tr>\n",
       "      <th>12</th>\n",
       "      <td>pgd</td>\n",
       "      <td>mnist</td>\n",
       "      <td>0.1</td>\n",
       "      <td>cure14ce-tor-CNN002</td>\n",
       "      <td>inf</td>\n",
       "      <td>0</td>\n",
       "      <td>100.000000</td>\n",
       "      <td>99.50</td>\n",
       "      <td>93.298333</td>\n",
       "      <td>92.07</td>\n",
       "      <td>3.664297</td>\n",
       "      <td>3.655739</td>\n",
       "      <td>10.950875</td>\n",
       "      <td>10.931543</td>\n",
       "      <td>3.513807e-08</td>\n",
       "      <td>0.000100</td>\n",
       "      <td>CNN002</td>\n",
       "      <td>(4, CURE)</td>\n",
       "      <td>0.500000</td>\n",
       "    </tr>\n",
       "    <tr>\n",
       "      <th>13</th>\n",
       "      <td>pgd</td>\n",
       "      <td>mnist</td>\n",
       "      <td>0.1</td>\n",
       "      <td>advce-tor-CNN002</td>\n",
       "      <td>inf</td>\n",
       "      <td>0</td>\n",
       "      <td>99.981667</td>\n",
       "      <td>99.48</td>\n",
       "      <td>99.838333</td>\n",
       "      <td>97.37</td>\n",
       "      <td>2.185941</td>\n",
       "      <td>2.200780</td>\n",
       "      <td>6.027635</td>\n",
       "      <td>6.090549</td>\n",
       "      <td>-7.070044e-08</td>\n",
       "      <td>0.000016</td>\n",
       "      <td>CNN002</td>\n",
       "      <td>(8, AT(CE))</td>\n",
       "      <td>0.501667</td>\n",
       "    </tr>\n",
       "    <tr>\n",
       "      <th>14</th>\n",
       "      <td>pgd</td>\n",
       "      <td>mnist</td>\n",
       "      <td>0.1</td>\n",
       "      <td>llrce-tor-CNN002</td>\n",
       "      <td>inf</td>\n",
       "      <td>0</td>\n",
       "      <td>100.000000</td>\n",
       "      <td>99.58</td>\n",
       "      <td>96.180000</td>\n",
       "      <td>94.36</td>\n",
       "      <td>3.779049</td>\n",
       "      <td>3.814385</td>\n",
       "      <td>9.077055</td>\n",
       "      <td>9.068392</td>\n",
       "      <td>9.611180e-08</td>\n",
       "      <td>0.000073</td>\n",
       "      <td>CNN002</td>\n",
       "      <td>(3, LLR)</td>\n",
       "      <td>0.420000</td>\n",
       "    </tr>\n",
       "    <tr>\n",
       "      <th>15</th>\n",
       "      <td>pgd</td>\n",
       "      <td>mnist</td>\n",
       "      <td>0.1</td>\n",
       "      <td>gr1e5ce-tor-CNN002</td>\n",
       "      <td>inf</td>\n",
       "      <td>0</td>\n",
       "      <td>100.000000</td>\n",
       "      <td>99.53</td>\n",
       "      <td>80.631667</td>\n",
       "      <td>80.58</td>\n",
       "      <td>9.060234</td>\n",
       "      <td>9.035110</td>\n",
       "      <td>20.325234</td>\n",
       "      <td>20.329833</td>\n",
       "      <td>9.180654e-07</td>\n",
       "      <td>0.000652</td>\n",
       "      <td>CNN002</td>\n",
       "      <td>(2, GR)</td>\n",
       "      <td>0.470000</td>\n",
       "    </tr>\n",
       "  </tbody>\n",
       "</table>\n",
       "</div>"
      ],
      "text/plain": [
       "   attack dataset  eps                  model norm  random_seed     trn_acc  \\\n",
       "8     pgd   mnist  0.1  strades6ce-tor-CNN002  inf            0   99.613333   \n",
       "9     pgd   mnist  0.1   stradesce-tor-CNN002  inf            0   99.963333   \n",
       "10    pgd   mnist  0.1     tulipce-tor-CNN002  inf            0   99.993333   \n",
       "11    pgd   mnist  0.1          ce-tor-CNN002  inf            0  100.000000   \n",
       "12    pgd   mnist  0.1    cure14ce-tor-CNN002  inf            0  100.000000   \n",
       "13    pgd   mnist  0.1       advce-tor-CNN002  inf            0   99.981667   \n",
       "14    pgd   mnist  0.1       llrce-tor-CNN002  inf            0  100.000000   \n",
       "15    pgd   mnist  0.1     gr1e5ce-tor-CNN002  inf            0  100.000000   \n",
       "\n",
       "    tst_acc  adv_trn_acc  adv_tst_acc  avg_trn_lip  avg_tst_lip  \\\n",
       "8     99.59    99.528333        98.72     0.471817     0.476693   \n",
       "9     99.58    99.278333        96.94     1.719355     1.737225   \n",
       "10    99.55    95.711667        93.20     9.591815     9.538045   \n",
       "11    99.51    79.450000        80.53     9.913164     9.871323   \n",
       "12    99.50    93.298333        92.07     3.664297     3.655739   \n",
       "13    99.48    99.838333        97.37     2.185941     2.200780   \n",
       "14    99.58    96.180000        94.36     3.779049     3.814385   \n",
       "15    99.53    80.631667        80.58     9.060234     9.035110   \n",
       "\n",
       "    avg_trn_lip_1  avg_tst_lip_1  avg_trn_lip_kl  avg_tst_lip_kl    arch  \\\n",
       "8        1.351692       1.360831   -1.872465e-06        0.000001  CNN002   \n",
       "9        4.687971       4.741066    4.780302e-08        0.000016  CNN002   \n",
       "10      20.466134      20.264725    1.836552e-05        0.000269  CNN002   \n",
       "11      23.046890      23.062061    5.872979e-06        0.000868  CNN002   \n",
       "12      10.950875      10.931543    3.513807e-08        0.000100  CNN002   \n",
       "13       6.027635       6.090549   -7.070044e-08        0.000016  CNN002   \n",
       "14       9.077055       9.068392    9.611180e-08        0.000073  CNN002   \n",
       "15      20.325234      20.329833    9.180654e-07        0.000652  CNN002   \n",
       "\n",
       "         loss_name   gen_gap  \n",
       "8   (11, TRADE(6))  0.023333  \n",
       "9   (10, TRADE(1))  0.383333  \n",
       "10       (7, GRv2)  0.443333  \n",
       "11    (0, Natural)  0.490000  \n",
       "12       (4, CURE)  0.500000  \n",
       "13     (8, AT(CE))  0.501667  \n",
       "14        (3, LLR)  0.420000  \n",
       "15         (2, GR)  0.470000  "
      ]
     },
     "metadata": {},
     "output_type": "display_data"
    }
   ],
   "source": [
    "df = display_results(mnistLip, mnistOtherLips)\n",
    "output_latex(df)"
   ]
  },
  {
   "cell_type": "code",
   "execution_count": 8,
   "metadata": {},
   "outputs": [
    {
     "name": "stderr",
     "output_type": "stream",
     "text": [
      "E0114 14:01:53.015810 140693067130688 auto_var.py:341] Error with {'attack': 'pgd', 'dataset': 'cifar10', 'eps': 0.031, 'model': 'aug01-scure14ce-tor-WRN_40_10-lrem2', 'norm': 'inf', 'random_seed': 0}\n"
     ]
    },
    {
     "name": "stdout",
     "output_type": "stream",
     "text": [
      "problem with ./results/experiment01/pgd-cifar10-0.031-aug01-scure14ce-tor-WRN_40_10-lrem2-inf-0.pkl\n",
      "problem with ./results/experiment01/pgd-cifar10-0.031-aug01-advce-tor-WRN_40_10-inf-0.pkl\n"
     ]
    },
    {
     "name": "stderr",
     "output_type": "stream",
     "text": [
      "E0114 14:01:53.254761 140693067130688 auto_var.py:341] Error with {'attack': 'pgd', 'dataset': 'cifar10', 'eps': 0.031, 'model': 'aug01-advce-tor-WRN_40_10', 'norm': 'inf', 'random_seed': 0}\n",
      "E0114 14:01:53.416730 140693067130688 auto_var.py:341] Error with {'attack': 'pgd', 'dataset': 'cifar10', 'eps': 0.031, 'model': 'aug01-sllrce-tor-WRN_40_10', 'norm': 'inf', 'random_seed': 0}\n"
     ]
    },
    {
     "name": "stdout",
     "output_type": "stream",
     "text": [
      "problem with ./results/experiment01/pgd-cifar10-0.031-aug01-sllrce-tor-WRN_40_10-inf-0.pkl\n"
     ]
    },
    {
     "name": "stderr",
     "output_type": "stream",
     "text": [
      "E0114 14:01:59.197704 140693067130688 auto_var.py:341] Error with {'attack': 'pgd', 'dataset': 'cifar10', 'eps': 0.031, 'model': 'aug01-tulipssem1ce-tor-WRN_40_10', 'norm': 'inf', 'random_seed': 0}\n"
     ]
    },
    {
     "name": "stdout",
     "output_type": "stream",
     "text": [
      "problem with ./results/experiment03/pgd-cifar10-0.031-aug01-tulipssem1ce-tor-WRN_40_10-inf-0.pkl\n"
     ]
    },
    {
     "name": "stderr",
     "output_type": "stream",
     "text": [
      "E0114 14:02:00.883428 140693067130688 auto_var.py:341] Error with {'attack': 'pgd', 'dataset': 'cifar10', 'eps': 0.031, 'model': 'aug01-scure14ce-tor-WRN_40_10-lrem2', 'norm': 'inf', 'random_seed': 0}\n"
     ]
    },
    {
     "name": "stdout",
     "output_type": "stream",
     "text": [
      "problem with ./results/experiment03/pgd-cifar10-0.031-aug01-scure14ce-tor-WRN_40_10-lrem2-inf-0.pkl\n"
     ]
    },
    {
     "name": "stderr",
     "output_type": "stream",
     "text": [
      "E0114 14:02:02.596534 140693067130688 auto_var.py:341] Error with {'attack': 'pgd', 'dataset': 'cifar10', 'eps': 0.031, 'model': 'aug01-advce-tor-WRN_40_10', 'norm': 'inf', 'random_seed': 0}\n"
     ]
    },
    {
     "name": "stdout",
     "output_type": "stream",
     "text": [
      "problem with ./results/experiment03/pgd-cifar10-0.031-aug01-advce-tor-WRN_40_10-inf-0.pkl\n"
     ]
    },
    {
     "name": "stderr",
     "output_type": "stream",
     "text": [
      "E0114 14:02:03.515423 140693067130688 auto_var.py:341] Error with {'attack': 'pgd', 'dataset': 'cifar10', 'eps': 0.031, 'model': 'aug01-sllrce-tor-WRN_40_10', 'norm': 'inf', 'random_seed': 0}\n"
     ]
    },
    {
     "name": "stdout",
     "output_type": "stream",
     "text": [
      "problem with ./results/experiment03/pgd-cifar10-0.031-aug01-sllrce-tor-WRN_40_10-inf-0.pkl\n",
      "('cifar10', 'WRN_40_10')\n"
     ]
    },
    {
     "data": {
      "text/html": [
       "<div>\n",
       "<style scoped>\n",
       "    .dataframe tbody tr th:only-of-type {\n",
       "        vertical-align: middle;\n",
       "    }\n",
       "\n",
       "    .dataframe tbody tr th {\n",
       "        vertical-align: top;\n",
       "    }\n",
       "\n",
       "    .dataframe thead th {\n",
       "        text-align: right;\n",
       "    }\n",
       "</style>\n",
       "<table border=\"1\" class=\"dataframe\">\n",
       "  <thead>\n",
       "    <tr style=\"text-align: right;\">\n",
       "      <th></th>\n",
       "      <th>attack</th>\n",
       "      <th>dataset</th>\n",
       "      <th>eps</th>\n",
       "      <th>model</th>\n",
       "      <th>norm</th>\n",
       "      <th>random_seed</th>\n",
       "      <th>trn_acc</th>\n",
       "      <th>tst_acc</th>\n",
       "      <th>adv_trn_acc</th>\n",
       "      <th>adv_tst_acc</th>\n",
       "      <th>avg_trn_lip</th>\n",
       "      <th>avg_tst_lip</th>\n",
       "      <th>avg_trn_lip_1</th>\n",
       "      <th>avg_tst_lip_1</th>\n",
       "      <th>avg_trn_lip_kl</th>\n",
       "      <th>avg_tst_lip_kl</th>\n",
       "      <th>arch</th>\n",
       "      <th>loss_name</th>\n",
       "      <th>gen_gap</th>\n",
       "    </tr>\n",
       "  </thead>\n",
       "  <tbody>\n",
       "    <tr>\n",
       "      <th>0</th>\n",
       "      <td>pgd</td>\n",
       "      <td>cifar10</td>\n",
       "      <td>0.031</td>\n",
       "      <td>ce-tor-WRN_40_10</td>\n",
       "      <td>inf</td>\n",
       "      <td>0</td>\n",
       "      <td>100.000</td>\n",
       "      <td>88.62</td>\n",
       "      <td>0.000</td>\n",
       "      <td>6.81</td>\n",
       "      <td>103.132339</td>\n",
       "      <td>106.384285</td>\n",
       "      <td>347.441545</td>\n",
       "      <td>356.456262</td>\n",
       "      <td>6.014626e-02</td>\n",
       "      <td>5.258273</td>\n",
       "      <td>WRN_40_10</td>\n",
       "      <td>(0, Natural)</td>\n",
       "      <td>11.380</td>\n",
       "    </tr>\n",
       "    <tr>\n",
       "      <th>1</th>\n",
       "      <td>pgd</td>\n",
       "      <td>cifar10</td>\n",
       "      <td>0.031</td>\n",
       "      <td>tulipce-tor-WRN_40_10</td>\n",
       "      <td>inf</td>\n",
       "      <td>0</td>\n",
       "      <td>99.714</td>\n",
       "      <td>71.68</td>\n",
       "      <td>21.910</td>\n",
       "      <td>13.27</td>\n",
       "      <td>9.704923</td>\n",
       "      <td>9.780603</td>\n",
       "      <td>NaN</td>\n",
       "      <td>NaN</td>\n",
       "      <td>NaN</td>\n",
       "      <td>NaN</td>\n",
       "      <td>WRN_40_10</td>\n",
       "      <td>(7, GRv2)</td>\n",
       "      <td>28.034</td>\n",
       "    </tr>\n",
       "    <tr>\n",
       "      <th>2</th>\n",
       "      <td>pgd</td>\n",
       "      <td>cifar10</td>\n",
       "      <td>0.031</td>\n",
       "      <td>strades6ce-tor-WRN_40_10</td>\n",
       "      <td>inf</td>\n",
       "      <td>0</td>\n",
       "      <td>99.794</td>\n",
       "      <td>78.34</td>\n",
       "      <td>99.752</td>\n",
       "      <td>37.27</td>\n",
       "      <td>3.580652</td>\n",
       "      <td>6.769163</td>\n",
       "      <td>11.143698</td>\n",
       "      <td>19.788508</td>\n",
       "      <td>9.408646e-06</td>\n",
       "      <td>0.083951</td>\n",
       "      <td>WRN_40_10</td>\n",
       "      <td>(11, TRADE(6))</td>\n",
       "      <td>21.454</td>\n",
       "    </tr>\n",
       "    <tr>\n",
       "      <th>3</th>\n",
       "      <td>pgd</td>\n",
       "      <td>cifar10</td>\n",
       "      <td>0.031</td>\n",
       "      <td>stradesce-tor-WRN_40_10</td>\n",
       "      <td>inf</td>\n",
       "      <td>0</td>\n",
       "      <td>100.000</td>\n",
       "      <td>81.61</td>\n",
       "      <td>99.996</td>\n",
       "      <td>38.00</td>\n",
       "      <td>8.008823</td>\n",
       "      <td>10.167241</td>\n",
       "      <td>24.386368</td>\n",
       "      <td>30.786882</td>\n",
       "      <td>-1.715497e-06</td>\n",
       "      <td>0.086684</td>\n",
       "      <td>WRN_40_10</td>\n",
       "      <td>(10, TRADE(1))</td>\n",
       "      <td>18.390</td>\n",
       "    </tr>\n",
       "    <tr>\n",
       "      <th>4</th>\n",
       "      <td>pgd</td>\n",
       "      <td>cifar10</td>\n",
       "      <td>0.031</td>\n",
       "      <td>cure14ce-tor-WRN_40_10</td>\n",
       "      <td>inf</td>\n",
       "      <td>0</td>\n",
       "      <td>92.862</td>\n",
       "      <td>74.83</td>\n",
       "      <td>8.292</td>\n",
       "      <td>7.23</td>\n",
       "      <td>8.511909</td>\n",
       "      <td>8.514249</td>\n",
       "      <td>19.157397</td>\n",
       "      <td>19.257976</td>\n",
       "      <td>8.709893e-02</td>\n",
       "      <td>0.101591</td>\n",
       "      <td>WRN_40_10</td>\n",
       "      <td>(4, CURE)</td>\n",
       "      <td>18.032</td>\n",
       "    </tr>\n",
       "    <tr>\n",
       "      <th>5</th>\n",
       "      <td>pgd</td>\n",
       "      <td>cifar10</td>\n",
       "      <td>0.031</td>\n",
       "      <td>advce-tor-WRN_40_10</td>\n",
       "      <td>inf</td>\n",
       "      <td>0</td>\n",
       "      <td>99.982</td>\n",
       "      <td>74.00</td>\n",
       "      <td>99.694</td>\n",
       "      <td>33.08</td>\n",
       "      <td>5.454242</td>\n",
       "      <td>5.681854</td>\n",
       "      <td>16.087958</td>\n",
       "      <td>16.896749</td>\n",
       "      <td>1.665260e-04</td>\n",
       "      <td>0.042565</td>\n",
       "      <td>WRN_40_10</td>\n",
       "      <td>(8, AT(CE))</td>\n",
       "      <td>25.982</td>\n",
       "    </tr>\n",
       "    <tr>\n",
       "      <th>6</th>\n",
       "      <td>pgd</td>\n",
       "      <td>cifar10</td>\n",
       "      <td>0.031</td>\n",
       "      <td>llrce-tor-WRN_40_10</td>\n",
       "      <td>inf</td>\n",
       "      <td>0</td>\n",
       "      <td>100.000</td>\n",
       "      <td>89.12</td>\n",
       "      <td>21.944</td>\n",
       "      <td>21.95</td>\n",
       "      <td>19.865181</td>\n",
       "      <td>21.330318</td>\n",
       "      <td>57.875086</td>\n",
       "      <td>61.140412</td>\n",
       "      <td>8.637365e-07</td>\n",
       "      <td>0.279248</td>\n",
       "      <td>WRN_40_10</td>\n",
       "      <td>(3, LLR)</td>\n",
       "      <td>10.880</td>\n",
       "    </tr>\n",
       "  </tbody>\n",
       "</table>\n",
       "</div>"
      ],
      "text/plain": [
       "  attack  dataset    eps                     model norm  random_seed  trn_acc  \\\n",
       "0    pgd  cifar10  0.031          ce-tor-WRN_40_10  inf            0  100.000   \n",
       "1    pgd  cifar10  0.031     tulipce-tor-WRN_40_10  inf            0   99.714   \n",
       "2    pgd  cifar10  0.031  strades6ce-tor-WRN_40_10  inf            0   99.794   \n",
       "3    pgd  cifar10  0.031   stradesce-tor-WRN_40_10  inf            0  100.000   \n",
       "4    pgd  cifar10  0.031    cure14ce-tor-WRN_40_10  inf            0   92.862   \n",
       "5    pgd  cifar10  0.031       advce-tor-WRN_40_10  inf            0   99.982   \n",
       "6    pgd  cifar10  0.031       llrce-tor-WRN_40_10  inf            0  100.000   \n",
       "\n",
       "   tst_acc  adv_trn_acc  adv_tst_acc  avg_trn_lip  avg_tst_lip  avg_trn_lip_1  \\\n",
       "0    88.62        0.000         6.81   103.132339   106.384285     347.441545   \n",
       "1    71.68       21.910        13.27     9.704923     9.780603            NaN   \n",
       "2    78.34       99.752        37.27     3.580652     6.769163      11.143698   \n",
       "3    81.61       99.996        38.00     8.008823    10.167241      24.386368   \n",
       "4    74.83        8.292         7.23     8.511909     8.514249      19.157397   \n",
       "5    74.00       99.694        33.08     5.454242     5.681854      16.087958   \n",
       "6    89.12       21.944        21.95    19.865181    21.330318      57.875086   \n",
       "\n",
       "   avg_tst_lip_1  avg_trn_lip_kl  avg_tst_lip_kl       arch       loss_name  \\\n",
       "0     356.456262    6.014626e-02        5.258273  WRN_40_10    (0, Natural)   \n",
       "1            NaN             NaN             NaN  WRN_40_10       (7, GRv2)   \n",
       "2      19.788508    9.408646e-06        0.083951  WRN_40_10  (11, TRADE(6))   \n",
       "3      30.786882   -1.715497e-06        0.086684  WRN_40_10  (10, TRADE(1))   \n",
       "4      19.257976    8.709893e-02        0.101591  WRN_40_10       (4, CURE)   \n",
       "5      16.896749    1.665260e-04        0.042565  WRN_40_10     (8, AT(CE))   \n",
       "6      61.140412    8.637365e-07        0.279248  WRN_40_10        (3, LLR)   \n",
       "\n",
       "   gen_gap  \n",
       "0   11.380  \n",
       "1   28.034  \n",
       "2   21.454  \n",
       "3   18.390  \n",
       "4   18.032  \n",
       "5   25.982  \n",
       "6   10.880  "
      ]
     },
     "metadata": {},
     "output_type": "display_data"
    },
    {
     "name": "stdout",
     "output_type": "stream",
     "text": [
      "('cifar10', 'tor')\n"
     ]
    },
    {
     "data": {
      "text/html": [
       "<div>\n",
       "<style scoped>\n",
       "    .dataframe tbody tr th:only-of-type {\n",
       "        vertical-align: middle;\n",
       "    }\n",
       "\n",
       "    .dataframe tbody tr th {\n",
       "        vertical-align: top;\n",
       "    }\n",
       "\n",
       "    .dataframe thead th {\n",
       "        text-align: right;\n",
       "    }\n",
       "</style>\n",
       "<table border=\"1\" class=\"dataframe\">\n",
       "  <thead>\n",
       "    <tr style=\"text-align: right;\">\n",
       "      <th></th>\n",
       "      <th>attack</th>\n",
       "      <th>dataset</th>\n",
       "      <th>eps</th>\n",
       "      <th>model</th>\n",
       "      <th>norm</th>\n",
       "      <th>random_seed</th>\n",
       "      <th>trn_acc</th>\n",
       "      <th>tst_acc</th>\n",
       "      <th>adv_trn_acc</th>\n",
       "      <th>adv_tst_acc</th>\n",
       "      <th>avg_trn_lip</th>\n",
       "      <th>avg_tst_lip</th>\n",
       "      <th>avg_trn_lip_1</th>\n",
       "      <th>avg_tst_lip_1</th>\n",
       "      <th>avg_trn_lip_kl</th>\n",
       "      <th>avg_tst_lip_kl</th>\n",
       "      <th>arch</th>\n",
       "      <th>loss_name</th>\n",
       "      <th>gen_gap</th>\n",
       "    </tr>\n",
       "  </thead>\n",
       "  <tbody>\n",
       "    <tr>\n",
       "      <th>7</th>\n",
       "      <td>pgd</td>\n",
       "      <td>cifar10</td>\n",
       "      <td>0.031</td>\n",
       "      <td>aug01-ce-tor-WRN_40_10</td>\n",
       "      <td>inf</td>\n",
       "      <td>0</td>\n",
       "      <td>100.000</td>\n",
       "      <td>93.81</td>\n",
       "      <td>0.002</td>\n",
       "      <td>0.00</td>\n",
       "      <td>121.004982</td>\n",
       "      <td>123.089828</td>\n",
       "      <td>418.622176</td>\n",
       "      <td>425.708713</td>\n",
       "      <td>0.261024</td>\n",
       "      <td>3.129502</td>\n",
       "      <td>tor</td>\n",
       "      <td>(0, Natural)</td>\n",
       "      <td>6.190</td>\n",
       "    </tr>\n",
       "    <tr>\n",
       "      <th>8</th>\n",
       "      <td>pgd</td>\n",
       "      <td>cifar10</td>\n",
       "      <td>0.031</td>\n",
       "      <td>aug01-tulipce-tor-WRN_40_10</td>\n",
       "      <td>inf</td>\n",
       "      <td>0</td>\n",
       "      <td>94.904</td>\n",
       "      <td>80.74</td>\n",
       "      <td>22.376</td>\n",
       "      <td>18.62</td>\n",
       "      <td>8.595004</td>\n",
       "      <td>8.620595</td>\n",
       "      <td>NaN</td>\n",
       "      <td>NaN</td>\n",
       "      <td>NaN</td>\n",
       "      <td>NaN</td>\n",
       "      <td>tor</td>\n",
       "      <td>(7, GRv2)</td>\n",
       "      <td>14.164</td>\n",
       "    </tr>\n",
       "    <tr>\n",
       "      <th>9</th>\n",
       "      <td>pgd</td>\n",
       "      <td>cifar10</td>\n",
       "      <td>0.031</td>\n",
       "      <td>aug01-strades6ce-tor-WRN_40_10</td>\n",
       "      <td>inf</td>\n",
       "      <td>0</td>\n",
       "      <td>98.928</td>\n",
       "      <td>84.46</td>\n",
       "      <td>91.232</td>\n",
       "      <td>48.57</td>\n",
       "      <td>3.137765</td>\n",
       "      <td>4.197079</td>\n",
       "      <td>10.059369</td>\n",
       "      <td>13.048935</td>\n",
       "      <td>0.000870</td>\n",
       "      <td>0.016461</td>\n",
       "      <td>tor</td>\n",
       "      <td>(11, TRADE(6))</td>\n",
       "      <td>14.468</td>\n",
       "    </tr>\n",
       "    <tr>\n",
       "      <th>10</th>\n",
       "      <td>pgd</td>\n",
       "      <td>cifar10</td>\n",
       "      <td>0.031</td>\n",
       "      <td>aug01-stradesce-tor-WRN_40_10</td>\n",
       "      <td>inf</td>\n",
       "      <td>0</td>\n",
       "      <td>99.760</td>\n",
       "      <td>84.96</td>\n",
       "      <td>88.258</td>\n",
       "      <td>43.63</td>\n",
       "      <td>7.556588</td>\n",
       "      <td>8.372922</td>\n",
       "      <td>25.408692</td>\n",
       "      <td>28.009600</td>\n",
       "      <td>0.002134</td>\n",
       "      <td>0.043146</td>\n",
       "      <td>tor</td>\n",
       "      <td>(10, TRADE(1))</td>\n",
       "      <td>14.800</td>\n",
       "    </tr>\n",
       "    <tr>\n",
       "      <th>11</th>\n",
       "      <td>pgd</td>\n",
       "      <td>cifar10</td>\n",
       "      <td>0.031</td>\n",
       "      <td>aug01-cure14ce-tor-WRN_40_10</td>\n",
       "      <td>inf</td>\n",
       "      <td>0</td>\n",
       "      <td>78.802</td>\n",
       "      <td>75.71</td>\n",
       "      <td>5.278</td>\n",
       "      <td>5.27</td>\n",
       "      <td>7.971639</td>\n",
       "      <td>7.990573</td>\n",
       "      <td>21.583233</td>\n",
       "      <td>21.616040</td>\n",
       "      <td>0.085902</td>\n",
       "      <td>0.087538</td>\n",
       "      <td>tor</td>\n",
       "      <td>(4, CURE)</td>\n",
       "      <td>3.092</td>\n",
       "    </tr>\n",
       "    <tr>\n",
       "      <th>12</th>\n",
       "      <td>pgd</td>\n",
       "      <td>cifar10</td>\n",
       "      <td>0.031</td>\n",
       "      <td>aug01-advce-tor-WRN_40_10-bs256</td>\n",
       "      <td>inf</td>\n",
       "      <td>0</td>\n",
       "      <td>95.646</td>\n",
       "      <td>80.72</td>\n",
       "      <td>73.952</td>\n",
       "      <td>42.72</td>\n",
       "      <td>5.605396</td>\n",
       "      <td>5.635007</td>\n",
       "      <td>18.141732</td>\n",
       "      <td>18.352261</td>\n",
       "      <td>0.005212</td>\n",
       "      <td>0.015826</td>\n",
       "      <td>tor</td>\n",
       "      <td>(8, AT(CE))</td>\n",
       "      <td>14.926</td>\n",
       "    </tr>\n",
       "    <tr>\n",
       "      <th>13</th>\n",
       "      <td>pgd</td>\n",
       "      <td>cifar10</td>\n",
       "      <td>0.031</td>\n",
       "      <td>aug01-llrce-tor-WRN_40_10</td>\n",
       "      <td>inf</td>\n",
       "      <td>0</td>\n",
       "      <td>100.000</td>\n",
       "      <td>92.48</td>\n",
       "      <td>19.684</td>\n",
       "      <td>17.87</td>\n",
       "      <td>21.750652</td>\n",
       "      <td>23.253151</td>\n",
       "      <td>65.973042</td>\n",
       "      <td>70.279050</td>\n",
       "      <td>0.000014</td>\n",
       "      <td>0.230248</td>\n",
       "      <td>tor</td>\n",
       "      <td>(3, LLR)</td>\n",
       "      <td>7.520</td>\n",
       "    </tr>\n",
       "  </tbody>\n",
       "</table>\n",
       "</div>"
      ],
      "text/plain": [
       "   attack  dataset    eps                            model norm  random_seed  \\\n",
       "7     pgd  cifar10  0.031           aug01-ce-tor-WRN_40_10  inf            0   \n",
       "8     pgd  cifar10  0.031      aug01-tulipce-tor-WRN_40_10  inf            0   \n",
       "9     pgd  cifar10  0.031   aug01-strades6ce-tor-WRN_40_10  inf            0   \n",
       "10    pgd  cifar10  0.031    aug01-stradesce-tor-WRN_40_10  inf            0   \n",
       "11    pgd  cifar10  0.031     aug01-cure14ce-tor-WRN_40_10  inf            0   \n",
       "12    pgd  cifar10  0.031  aug01-advce-tor-WRN_40_10-bs256  inf            0   \n",
       "13    pgd  cifar10  0.031        aug01-llrce-tor-WRN_40_10  inf            0   \n",
       "\n",
       "    trn_acc  tst_acc  adv_trn_acc  adv_tst_acc  avg_trn_lip  avg_tst_lip  \\\n",
       "7   100.000    93.81        0.002         0.00   121.004982   123.089828   \n",
       "8    94.904    80.74       22.376        18.62     8.595004     8.620595   \n",
       "9    98.928    84.46       91.232        48.57     3.137765     4.197079   \n",
       "10   99.760    84.96       88.258        43.63     7.556588     8.372922   \n",
       "11   78.802    75.71        5.278         5.27     7.971639     7.990573   \n",
       "12   95.646    80.72       73.952        42.72     5.605396     5.635007   \n",
       "13  100.000    92.48       19.684        17.87    21.750652    23.253151   \n",
       "\n",
       "    avg_trn_lip_1  avg_tst_lip_1  avg_trn_lip_kl  avg_tst_lip_kl arch  \\\n",
       "7      418.622176     425.708713        0.261024        3.129502  tor   \n",
       "8             NaN            NaN             NaN             NaN  tor   \n",
       "9       10.059369      13.048935        0.000870        0.016461  tor   \n",
       "10      25.408692      28.009600        0.002134        0.043146  tor   \n",
       "11      21.583233      21.616040        0.085902        0.087538  tor   \n",
       "12      18.141732      18.352261        0.005212        0.015826  tor   \n",
       "13      65.973042      70.279050        0.000014        0.230248  tor   \n",
       "\n",
       "         loss_name  gen_gap  \n",
       "7     (0, Natural)    6.190  \n",
       "8        (7, GRv2)   14.164  \n",
       "9   (11, TRADE(6))   14.468  \n",
       "10  (10, TRADE(1))   14.800  \n",
       "11       (4, CURE)    3.092  \n",
       "12     (8, AT(CE))   14.926  \n",
       "13        (3, LLR)    7.520  "
      ]
     },
     "metadata": {},
     "output_type": "display_data"
    }
   ],
   "source": [
    "df = display_results(cifarLip, cifarOtherLips)\n",
    "output_latex(df)"
   ]
  },
  {
   "cell_type": "code",
   "execution_count": 5,
   "metadata": {},
   "outputs": [
    {
     "name": "stdout",
     "output_type": "stream",
     "text": [
      "('svhn', 'WRN_40_10')\n"
     ]
    },
    {
     "data": {
      "text/html": [
       "<div>\n",
       "<style scoped>\n",
       "    .dataframe tbody tr th:only-of-type {\n",
       "        vertical-align: middle;\n",
       "    }\n",
       "\n",
       "    .dataframe tbody tr th {\n",
       "        vertical-align: top;\n",
       "    }\n",
       "\n",
       "    .dataframe thead th {\n",
       "        text-align: right;\n",
       "    }\n",
       "</style>\n",
       "<table border=\"1\" class=\"dataframe\">\n",
       "  <thead>\n",
       "    <tr style=\"text-align: right;\">\n",
       "      <th></th>\n",
       "      <th>attack</th>\n",
       "      <th>dataset</th>\n",
       "      <th>eps</th>\n",
       "      <th>model</th>\n",
       "      <th>norm</th>\n",
       "      <th>random_seed</th>\n",
       "      <th>trn_acc</th>\n",
       "      <th>tst_acc</th>\n",
       "      <th>adv_trn_acc</th>\n",
       "      <th>adv_tst_acc</th>\n",
       "      <th>avg_trn_lip</th>\n",
       "      <th>avg_tst_lip</th>\n",
       "      <th>avg_trn_lip_1</th>\n",
       "      <th>avg_tst_lip_1</th>\n",
       "      <th>avg_trn_lip_kl</th>\n",
       "      <th>avg_tst_lip_kl</th>\n",
       "      <th>arch</th>\n",
       "      <th>loss_name</th>\n",
       "      <th>gen_gap</th>\n",
       "    </tr>\n",
       "  </thead>\n",
       "  <tbody>\n",
       "    <tr>\n",
       "      <th>0</th>\n",
       "      <td>pgd</td>\n",
       "      <td>svhn</td>\n",
       "      <td>0.031</td>\n",
       "      <td>ce-tor-WRN_40_10</td>\n",
       "      <td>inf</td>\n",
       "      <td>0</td>\n",
       "      <td>0.999986</td>\n",
       "      <td>0.958474</td>\n",
       "      <td>0.034290</td>\n",
       "      <td>0.024700</td>\n",
       "      <td>48.150909</td>\n",
       "      <td>48.617779</td>\n",
       "      <td>149.078116</td>\n",
       "      <td>149.817892</td>\n",
       "      <td>0.045008</td>\n",
       "      <td>0.738318</td>\n",
       "      <td>WRN_40_10</td>\n",
       "      <td>(0, Natural)</td>\n",
       "      <td>0.041512</td>\n",
       "    </tr>\n",
       "    <tr>\n",
       "      <th>1</th>\n",
       "      <td>pgd</td>\n",
       "      <td>svhn</td>\n",
       "      <td>0.031</td>\n",
       "      <td>strades6ce-tor-WRN_40_10</td>\n",
       "      <td>inf</td>\n",
       "      <td>0</td>\n",
       "      <td>0.971853</td>\n",
       "      <td>0.918331</td>\n",
       "      <td>0.819990</td>\n",
       "      <td>0.581131</td>\n",
       "      <td>1.166008</td>\n",
       "      <td>1.597083</td>\n",
       "      <td>3.849708</td>\n",
       "      <td>5.199245</td>\n",
       "      <td>0.001586</td>\n",
       "      <td>0.005057</td>\n",
       "      <td>WRN_40_10</td>\n",
       "      <td>(11, TRADE(6))</td>\n",
       "      <td>0.053521</td>\n",
       "    </tr>\n",
       "    <tr>\n",
       "      <th>2</th>\n",
       "      <td>pgd</td>\n",
       "      <td>svhn</td>\n",
       "      <td>0.031</td>\n",
       "      <td>strades10ce-tor-WRN_40_10</td>\n",
       "      <td>inf</td>\n",
       "      <td>0</td>\n",
       "      <td>0.946299</td>\n",
       "      <td>0.903542</td>\n",
       "      <td>0.795419</td>\n",
       "      <td>0.575791</td>\n",
       "      <td>0.805747</td>\n",
       "      <td>1.146986</td>\n",
       "      <td>NaN</td>\n",
       "      <td>NaN</td>\n",
       "      <td>NaN</td>\n",
       "      <td>NaN</td>\n",
       "      <td>WRN_40_10</td>\n",
       "      <td>(12, TRADE(10))</td>\n",
       "      <td>0.042757</td>\n",
       "    </tr>\n",
       "    <tr>\n",
       "      <th>3</th>\n",
       "      <td>pgd</td>\n",
       "      <td>svhn</td>\n",
       "      <td>0.031</td>\n",
       "      <td>curece-tor-WRN_40_10</td>\n",
       "      <td>inf</td>\n",
       "      <td>0</td>\n",
       "      <td>0.910029</td>\n",
       "      <td>0.907230</td>\n",
       "      <td>0.195585</td>\n",
       "      <td>0.190535</td>\n",
       "      <td>5.777227</td>\n",
       "      <td>5.557568</td>\n",
       "      <td>15.955604</td>\n",
       "      <td>15.261774</td>\n",
       "      <td>0.058604</td>\n",
       "      <td>0.055697</td>\n",
       "      <td>WRN_40_10</td>\n",
       "      <td>(4, CURE)</td>\n",
       "      <td>0.002800</td>\n",
       "    </tr>\n",
       "    <tr>\n",
       "      <th>4</th>\n",
       "      <td>pgd</td>\n",
       "      <td>svhn</td>\n",
       "      <td>0.031</td>\n",
       "      <td>advce-tor-WRN_40_10-lrem2</td>\n",
       "      <td>inf</td>\n",
       "      <td>0</td>\n",
       "      <td>0.952005</td>\n",
       "      <td>0.924478</td>\n",
       "      <td>0.724682</td>\n",
       "      <td>0.550860</td>\n",
       "      <td>3.642485</td>\n",
       "      <td>3.780584</td>\n",
       "      <td>12.568644</td>\n",
       "      <td>13.025192</td>\n",
       "      <td>0.008108</td>\n",
       "      <td>0.013778</td>\n",
       "      <td>WRN_40_10</td>\n",
       "      <td>(8, AT(CE))</td>\n",
       "      <td>0.027527</td>\n",
       "    </tr>\n",
       "    <tr>\n",
       "      <th>5</th>\n",
       "      <td>pgd</td>\n",
       "      <td>svhn</td>\n",
       "      <td>0.031</td>\n",
       "      <td>llrce-tor-WRN_40_10</td>\n",
       "      <td>inf</td>\n",
       "      <td>0</td>\n",
       "      <td>0.999973</td>\n",
       "      <td>0.951214</td>\n",
       "      <td>0.345632</td>\n",
       "      <td>0.306238</td>\n",
       "      <td>17.138792</td>\n",
       "      <td>18.932571</td>\n",
       "      <td>53.669503</td>\n",
       "      <td>59.484519</td>\n",
       "      <td>0.000012</td>\n",
       "      <td>0.183467</td>\n",
       "      <td>WRN_40_10</td>\n",
       "      <td>(3, LLR)</td>\n",
       "      <td>0.048759</td>\n",
       "    </tr>\n",
       "  </tbody>\n",
       "</table>\n",
       "</div>"
      ],
      "text/plain": [
       "  attack dataset    eps                      model norm  random_seed  \\\n",
       "0    pgd    svhn  0.031           ce-tor-WRN_40_10  inf            0   \n",
       "1    pgd    svhn  0.031   strades6ce-tor-WRN_40_10  inf            0   \n",
       "2    pgd    svhn  0.031  strades10ce-tor-WRN_40_10  inf            0   \n",
       "3    pgd    svhn  0.031       curece-tor-WRN_40_10  inf            0   \n",
       "4    pgd    svhn  0.031  advce-tor-WRN_40_10-lrem2  inf            0   \n",
       "5    pgd    svhn  0.031        llrce-tor-WRN_40_10  inf            0   \n",
       "\n",
       "    trn_acc   tst_acc  adv_trn_acc  adv_tst_acc  avg_trn_lip  avg_tst_lip  \\\n",
       "0  0.999986  0.958474     0.034290     0.024700    48.150909    48.617779   \n",
       "1  0.971853  0.918331     0.819990     0.581131     1.166008     1.597083   \n",
       "2  0.946299  0.903542     0.795419     0.575791     0.805747     1.146986   \n",
       "3  0.910029  0.907230     0.195585     0.190535     5.777227     5.557568   \n",
       "4  0.952005  0.924478     0.724682     0.550860     3.642485     3.780584   \n",
       "5  0.999973  0.951214     0.345632     0.306238    17.138792    18.932571   \n",
       "\n",
       "   avg_trn_lip_1  avg_tst_lip_1  avg_trn_lip_kl  avg_tst_lip_kl       arch  \\\n",
       "0     149.078116     149.817892        0.045008        0.738318  WRN_40_10   \n",
       "1       3.849708       5.199245        0.001586        0.005057  WRN_40_10   \n",
       "2            NaN            NaN             NaN             NaN  WRN_40_10   \n",
       "3      15.955604      15.261774        0.058604        0.055697  WRN_40_10   \n",
       "4      12.568644      13.025192        0.008108        0.013778  WRN_40_10   \n",
       "5      53.669503      59.484519        0.000012        0.183467  WRN_40_10   \n",
       "\n",
       "         loss_name   gen_gap  \n",
       "0     (0, Natural)  0.041512  \n",
       "1   (11, TRADE(6))  0.053521  \n",
       "2  (12, TRADE(10))  0.042757  \n",
       "3        (4, CURE)  0.002800  \n",
       "4      (8, AT(CE))  0.027527  \n",
       "5         (3, LLR)  0.048759  "
      ]
     },
     "metadata": {},
     "output_type": "display_data"
    }
   ],
   "source": [
    "df = display_results(svhnLip, svhnOtherLips)\n",
    "output_latex(df)"
   ]
  },
  {
   "cell_type": "code",
   "execution_count": 3,
   "metadata": {},
   "outputs": [],
   "source": [
    "from scipy.special import softmax\n",
    "def get_arch(path):\n",
    "    return path.split(\"-\")[path.split(\"-\").index('tor')+1]\n",
    "\n",
    "def get_ds(path):\n",
    "    return path.split(\"-\")[1]\n",
    "\n",
    "def predict_real(model, X):\n",
    "    X = X.transpose(0, 3, 1, 2)\n",
    "    dataset = data_utils.TensorDataset(torch.from_numpy(X).float())\n",
    "    loader = torch.utils.data.DataLoader(dataset, batch_size=128, shuffle=False, num_workers=2)\n",
    "    ret = []\n",
    "    for [x] in loader:\n",
    "        ret.append(model(x.to('cuda')).detach().cpu().numpy())\n",
    "    return np.concatenate(ret, axis=0)\n",
    "\n",
    "def calc_lip(model, X, Xp, top_norm, btm_norm):\n",
    "    top = np.linalg.norm(predict_real(model, X)-predict_real(model, Xp), ord=top_norm, axis=1)\n",
    "    down = np.linalg.norm(X.reshape(len(Xp), -1)-Xp.reshape(len(Xp), -1), ord=btm_norm, axis=1)\n",
    "    return top / (down+1e-6)\n",
    "\n",
    "def get_lip(model, X, top_norm=2, btm_norm=2, epsilon=1.0):\n",
    "    lip = estimate_local_lip_v2(model, X, top_norm=top_norm, btm_norm=btm_norm, epsilon=epsilon)\n",
    "    lip_ = calc_lip(model, X, lip, top_norm=top_norm, btm_norm=btm_norm)\n",
    "    return lip_\n",
    "\n",
    "class ModelWrapper():\n",
    "    def __init__(self, model):\n",
    "        self.model = model\n",
    "    def predict_proba(self, X):\n",
    "        return softmax(predict_real(self.model, X), axis=1)\n",
    "    def predict_real(self, X):\n",
    "        return predict_real(self.model, X)\n",
    "    def predict(self, X):\n",
    "        return predict_real(self.model, X).argmax(axis=1)\n",
    "    \n",
    "cifar_classes = ('plane', 'car', 'bird', 'cat', 'deer', 'dog', 'frog', 'horse', 'ship', 'truck')"
   ]
  },
  {
   "cell_type": "code",
   "execution_count": 9,
   "metadata": {},
   "outputs": [],
   "source": [
    "model_path = \"./models/pgd-cifar10-0.031-advce-tor-WRN_40_10-inf-0.pt\"\n",
    "model = globals()[get_arch(model_path)](n_classes=10)\n",
    "model.load_state_dict(torch.load(model_path))\n",
    "model.eval()\n",
    "model.cuda()\n",
    "model = ModelWrapper(model)\n",
    "trnX, trny, tstX, tsty = auto_var.get_var_with_argument(\"dataset\", get_ds(model_path))"
   ]
  },
  {
   "cell_type": "code",
   "execution_count": 11,
   "metadata": {},
   "outputs": [],
   "source": [
    "pred = model.predict_proba(trnX)\n",
    "log_loss = np.array([np.log(pred[i][trny[i]]) for i in range(len(pred))])"
   ]
  },
  {
   "cell_type": "code",
   "execution_count": 13,
   "metadata": {},
   "outputs": [
    {
     "data": {
      "text/plain": [
       "(array([1.0000e+00, 0.0000e+00, 0.0000e+00, 4.0000e+00, 1.0000e+01,\n",
       "        1.5000e+01, 2.2000e+01, 5.0000e+01, 8.7000e+01, 4.9811e+04]),\n",
       " array([-1.5260077 , -1.3734069 , -1.2208061 , -1.0682054 , -0.9156046 ,\n",
       "        -0.7630038 , -0.61040306, -0.4578023 , -0.30520153, -0.15260077,\n",
       "         0.        ], dtype=float32),\n",
       " <a list of 10 Patch objects>)"
      ]
     },
     "execution_count": 13,
     "metadata": {},
     "output_type": "execute_result"
    },
    {
     "data": {
      "image/png": "[encoded data removed]",
      "text/plain": [
       "<Figure size 432x288 with 1 Axes>"
      ]
     },
     "metadata": {
      "needs_background": "light"
     },
     "output_type": "display_data"
    }
   ],
   "source": [
    "plt.hist(log_loss)"
   ]
  },
  {
   "cell_type": "code",
   "execution_count": 16,
   "metadata": {},
   "outputs": [],
   "source": [
    "model_path = \"./models/pgd-cifar10-0.031-strades6ce-tor-WRN_40_10-inf-0-ep0120.pt\"\n",
    "model = globals()[get_arch(model_path)](n_classes=10)\n",
    "model.load_state_dict(torch.load(model_path), strict=False)\n",
    "model.eval()\n",
    "model.cuda()\n",
    "model = ModelWrapper(model)\n",
    "trnX, trny, tstX, tsty = auto_var.get_var_with_argument(\"dataset\", get_ds(model_path))\n",
    "pred = model.predict_proba(trnX)\n",
    "log_loss2 = np.array([np.log(pred[i][trny[i]]) for i in range(len(pred))])"
   ]
  },
  {
   "cell_type": "code",
   "execution_count": 17,
   "metadata": {},
   "outputs": [
    {
     "data": {
      "text/plain": [
       "(array([   18.,   115.,   426.,  1486.,  4644.,  8722.,  4822., 12827.,\n",
       "        10287.,  6653.]),\n",
       " array([-13.443183  , -12.117084  , -10.790984  ,  -9.464885  ,\n",
       "         -8.138785  ,  -6.8126855 ,  -5.486586  ,  -4.1604867 ,\n",
       "         -2.834387  ,  -1.5082875 ,  -0.18218805], dtype=float32),\n",
       " <a list of 10 Patch objects>)"
      ]
     },
     "execution_count": 17,
     "metadata": {},
     "output_type": "execute_result"
    },
    {
     "data": {
      "image/png": "[encoded data removed]",
      "text/plain": [
       "<Figure size 432x288 with 1 Axes>"
      ]
     },
     "metadata": {
      "needs_background": "light"
     },
     "output_type": "display_data"
    }
   ],
   "source": [
    "plt.hist(log_loss2)"
   ]
  },
  {
   "cell_type": "code",
   "execution_count": 4,
   "metadata": {},
   "outputs": [
    {
     "name": "stdout",
     "output_type": "stream",
     "text": [
      "12.135422058105469\n"
     ]
    }
   ],
   "source": [
    "from lolip.utils import estimate_local_mse\n",
    "model_path = \"./models/pgd-cifar10-0.031-aug01-ce-tor-WRN_40_10-inf-0-ep0120.pt\"\n",
    "model = globals()[get_arch(model_path)](n_classes=10)\n",
    "model.load_state_dict(torch.load(model_path)['model_state_dict'])\n",
    "model.eval()\n",
    "model.cuda()\n",
    "trnX, trny, tstX, tsty = auto_var.get_var_with_argument(\"dataset\", get_ds(model_path))\n",
    "ret = estimate_local_mse(model, trnX[:100])\n",
    "print(ret[0])"
   ]
  },
  {
   "cell_type": "code",
   "execution_count": 5,
   "metadata": {},
   "outputs": [
    {
     "name": "stdout",
     "output_type": "stream",
     "text": [
      "12.803192138671875\n"
     ]
    }
   ],
   "source": [
    "from lolip.utils import estimate_local_mse\n",
    "model_path = \"./models/pgd-cifar10-0.031-aug01-gr1e4ce-tor-WRN_40_10-inf-0-ep0120.pt\"\n",
    "model = globals()[get_arch(model_path)](n_classes=10)\n",
    "model.load_state_dict(torch.load(model_path)['model_state_dict'])\n",
    "model.eval()\n",
    "model.cuda()\n",
    "trnX, trny, tstX, tsty = auto_var.get_var_with_argument(\"dataset\", get_ds(model_path))\n",
    "ret = estimate_local_mse(model, trnX[:100])\n",
    "print(ret[0])"
   ]
  },
  {
   "cell_type": "code",
   "execution_count": 268,
   "metadata": {},
   "outputs": [],
   "source": [
    "model_path = \"./models/pgd-mnist-0.1-ce-tor-CNN002-inf-0.pt\"\n",
    "model = globals()[get_arch(model_path)](n_classes=10)\n",
    "model.load_state_dict(torch.load(model_path))\n",
    "model.eval()\n",
    "model.cuda()\n",
    "model = ModelWrapper(model)\n",
    "trnX, trny, tstX, tsty = auto_var.get_var_with_argument(\"dataset\", get_ds(model_path))"
   ]
  },
  {
   "cell_type": "code",
   "execution_count": 280,
   "metadata": {},
   "outputs": [],
   "source": [
    "from lolip.attacks.torch.projected_gradient_descent import ProjectedGradientDescent\n",
    "n = 10000\n",
    "i = 2\n",
    "nb_iter=10\n",
    "eps = 0.05\n",
    "attack_model = ProjectedGradientDescent(\n",
    "    model_fn=model.model,\n",
    "    norm=np.inf,\n",
    "    eps=eps,\n",
    "    eps_iter=eps*2/nb_iter,\n",
    "    nb_iter=nb_iter,\n",
    ")\n",
    "adv_tstX = attack_model.perturb(tstX[:n], tsty[:n])\n",
    "pred = model.predict_proba(tstX[:n])\n",
    "advpred = model.predict_proba(adv_tstX[:n])\n",
    "proba = np.array([pred[i][tsty[i]] for i in range(n)])\n",
    "advproba = np.array([advpred[i][tsty[i]] for i in range(n)])"
   ]
  },
  {
   "cell_type": "code",
   "execution_count": 281,
   "metadata": {},
   "outputs": [
    {
     "data": {
      "text/plain": [
       "0.9951"
      ]
     },
     "execution_count": 281,
     "metadata": {},
     "output_type": "execute_result"
    }
   ],
   "source": [
    "(pred.argmax(1) == tsty).mean()"
   ]
  },
  {
   "cell_type": "code",
   "execution_count": 282,
   "metadata": {},
   "outputs": [
    {
     "data": {
      "text/plain": [
       "0.9484"
      ]
     },
     "execution_count": 282,
     "metadata": {},
     "output_type": "execute_result"
    }
   ],
   "source": [
    "(advpred.argmax(1) == tsty).mean()"
   ]
  },
  {
   "cell_type": "code",
   "execution_count": 274,
   "metadata": {},
   "outputs": [
    {
     "data": {
      "text/plain": [
       "(array([], dtype=int64),)"
      ]
     },
     "execution_count": 274,
     "metadata": {},
     "output_type": "execute_result"
    }
   ],
   "source": [
    "robust = (advpred.argmax(1) == tsty)\n",
    "np.where(np.logical_and(proba[robust] < 0.95, proba[robust] >0))\n",
    "np.where(proba[robust] <= 0.99)"
   ]
  },
  {
   "cell_type": "code",
   "execution_count": 265,
   "metadata": {},
   "outputs": [
    {
     "data": {
      "text/plain": [
       "array([1., 1., 1., ..., 1., 1., 1.], dtype=float32)"
      ]
     },
     "execution_count": 265,
     "metadata": {},
     "output_type": "execute_result"
    }
   ],
   "source": [
    "proba[robust]"
   ]
  },
  {
   "cell_type": "code",
   "execution_count": 257,
   "metadata": {},
   "outputs": [
    {
     "data": {
      "text/plain": [
       "1482"
      ]
     },
     "execution_count": 257,
     "metadata": {},
     "output_type": "execute_result"
    }
   ],
   "source": [
    "np.where(correct)[0][117]"
   ]
  },
  {
   "cell_type": "code",
   "execution_count": 270,
   "metadata": {},
   "outputs": [
    {
     "name": "stdout",
     "output_type": "stream",
     "text": [
      "[(0.97487134, 5997), (0.97412044, 6400), (0.97044486, 1299), (0.97031534, 8325), (0.97002757, 4571), (0.96796405, 2414), (0.9637031, 5634), (0.96196944, 2195), (0.9615806, 1226), (0.9583196, 2742), (0.95528656, 5201), (0.95127004, 4743), (0.94789404, 3559), (0.94345146, 8246), (0.93751746, 1522), (0.9320616, 6173), (0.9306014, 3441), (0.93056595, 450), (0.91929656, 6560), (0.9192738, 2720), (0.9174346, 9015), (0.90024596, 1182), (0.89951736, 716), (0.8991391, 445), (0.88419014, 340), (0.87735033, 2921), (0.87473536, 447), (0.8679314, 2129), (0.8668577, 2369), (0.8641693, 6651), (0.8543442, 9692), (0.85244143, 2070), (0.85155416, 115), (0.849741, 8527), (0.8376695, 1039), (0.8313084, 3727), (0.82303584, 829), (0.8223893, 3853), (0.8061314, 4284), (0.7674289, 5749), (0.7514165, 6625), (0.7208942, 582), (0.719863, 2314), (0.71396136, 9839), (0.71158767, 1393), (0.6905592, 6572), (0.67504376, 551), (0.62629986, 4823), (0.6142822, 4504), (0.49901107, 9679), (0.47881937, 1737), (0.3323425, 2040), (0.2985857, 1112), (0.29627708, 3767), (0.26597393, 1878), (0.25996208, 4497), (0.16826051, 4176), (0.15960269, 2135), (0.15666234, 4201), (0.13482077, 1414), (0.12963794, 659), (0.1282369, 3225), (0.12687024, 4078), (0.12480376, 1709), (0.11838809, 4860), (0.11117306, 6576), (0.09162904, 449), (0.086606316, 2447), (0.06928274, 938), (0.058995526, 9664), (0.05853575, 674), (0.05719537, 4007), (0.042191684, 1319), (0.027204731, 1014), (0.023694852, 1247), (0.022280302, 4507), (0.017813424, 6571), (0.016122205, 2953), (0.014699608, 625), (0.012547882, 9642), (0.011463635, 5955), (0.0073765754, 2939), (0.0068611926, 2293), (0.0027966485, 5937), (0.0017072533, 947), (0.0010824726, 2927), (0.0008200706, 3762), (0.0006264829, 9770), (0.000600234, 4740), (0.00022178733, 1901), (9.420263e-05, 1260), (8.250908e-05, 2654), (2.730377e-05, 3422), (2.586953e-05, 6597), (2.1373335e-05, 3520), (1.0191607e-05, 2035), (8.376114e-06, 2597), (6.934258e-07, 9729), (1.526215e-07, 2130), (2.7230344e-08, 2896)]\n"
     ]
    }
   ],
   "source": [
    "print(sorted([(p, i) for i, p in enumerate(proba)])[::-1][-100:])"
   ]
  },
  {
   "cell_type": "code",
   "execution_count": 212,
   "metadata": {},
   "outputs": [
    {
     "name": "stdout",
     "output_type": "stream",
     "text": [
      "[(1.0, 56), (4.4828436e-11, 19), (1.3591169e-15, 48), (8.946531e-21, 10), (2.2604156e-21, 13), (1.1726429e-22, 0), (1.1739716e-23, 69), (4.1126709e-25, 17), (3.1557007e-25, 77), (2.7697353e-25, 8), (1.19499354e-26, 87), (6.2973175e-27, 71), (6.8695745e-28, 31), (4.2315117e-28, 55), (1.056405e-28, 3), (6.9575236e-29, 82), (6.510607e-29, 1), (3.1628894e-29, 83), (4.020948e-30, 25), (1.2907183e-31, 27), (8.524556e-32, 22), (5.066804e-32, 51), (1.7231304e-32, 90), (1.5467976e-32, 70), (1.00739616e-32, 30), (1.0578339e-33, 43), (7.3458727e-34, 35), (3.3874175e-34, 24), (2.4483497e-34, 86), (2.2316131e-34, 88), (1.6890013e-34, 74), (1.5932688e-34, 76), (8.682368e-35, 15), (2.4569468e-35, 38), (1.8190208e-35, 34), (1.3883007e-35, 49), (7.872429e-36, 95), (6.9625706e-36, 4), (2.9803417e-36, 44), (2.4875104e-36, 99), (5.785949e-37, 94), (3.8333342e-37, 68), (2.3415904e-37, 23), (1.3195095e-37, 26), (1.1820249e-37, 62), (2.414749e-38, 93), (1.9969548e-38, 5), (1.6091957e-38, 59), (5.817903e-39, 52), (4.96047e-39, 47), (3.808843e-39, 32), (4.28994e-40, 57), (3.23292e-40, 75), (3.13714e-40, 67), (3.13115e-40, 2), (8.9759e-41, 89), (6.93e-41, 60), (2.6266e-41, 63), (1.8904e-41, 28), (1.8302e-41, 72), (1.3479e-41, 96), (1.1636e-41, 53), (1.0087e-41, 11), (2.605e-42, 80), (1.515e-42, 66), (8.37e-43, 39), (6.52e-43, 98), (5.24e-43, 97), (3.4e-43, 41), (2.73e-43, 54), (1.16e-43, 91), (6e-44, 14), (3.1e-44, 64), (1.5e-44, 79), (1.1e-44, 81), (8e-45, 7), (4e-45, 78), (4e-45, 29), (1e-45, 61), (1e-45, 37), (0.0, 92), (0.0, 85), (0.0, 84), (0.0, 73), (0.0, 65), (0.0, 58), (0.0, 50), (0.0, 46), (0.0, 45), (0.0, 42), (0.0, 40), (0.0, 36), (0.0, 33), (0.0, 21), (0.0, 20), (0.0, 18), (0.0, 16), (0.0, 12), (0.0, 9), (0.0, 6)]\n"
     ]
    }
   ],
   "source": [
    "print(sorted([(p, i) for i, p in enumerate(advproba)])[::-1])"
   ]
  },
  {
   "cell_type": "code",
   "execution_count": null,
   "metadata": {},
   "outputs": [],
   "source": []
  },
  {
   "cell_type": "code",
   "execution_count": 271,
   "metadata": {},
   "outputs": [
    {
     "name": "stderr",
     "output_type": "stream",
     "text": [
      "W0106 15:42:14.924072 140719580231488 image.py:700] Clipping input data to the valid range for imshow with RGB data ([0..1] for floats or [0..255] for integers).\n"
     ]
    },
    {
     "name": "stdout",
     "output_type": "stream",
     "text": [
      "true class: 8\n",
      "prediction: 8, proba: 0.7208942174911499\n",
      "prediction: 2, proba: 1.0\n"
     ]
    },
    {
     "data": {
      "text/plain": [
       "[]"
      ]
     },
     "execution_count": 271,
     "metadata": {},
     "output_type": "execute_result"
    },
    {
     "data": {
      "image/png": "[encoded data removed]",
      "text/plain": [
       "<Figure size 432x288 with 2 Axes>"
      ]
     },
     "metadata": {
      "needs_background": "light"
     },
     "output_type": "display_data"
    }
   ],
   "source": [
    "i=582\n",
    "#i=78\n",
    "print(f\"true class: {int(tsty[i])}\")\n",
    "print(f\"prediction: {int(pred.argmax(1)[i])}, proba: {pred.max(1)[i]}\")\n",
    "print(f\"prediction: {int(advpred.argmax(1)[i])}, proba: {advpred.max(1)[i]}\")\n",
    "\n",
    "f = plt.figure()\n",
    "f.add_subplot(1, 2, 1)\n",
    "plt.imshow(np.concatenate([tstX[i], tstX[i], tstX[i]], axis=2))\n",
    "f.add_subplot(1, 2, 2)\n",
    "plt.imshow(np.concatenate([adv_tstX[i], adv_tstX[i], adv_tstX[i]], axis=2))\n",
    "plt.plot()"
   ]
  },
  {
   "cell_type": "code",
   "execution_count": 7,
   "metadata": {},
   "outputs": [
    {
     "ename": "NameError",
     "evalue": "name 'get_arch' is not defined",
     "output_type": "error",
     "traceback": [
      "\u001b[0;31m---------------------------------------------------------------------------\u001b[0m",
      "\u001b[0;31mNameError\u001b[0m                                 Traceback (most recent call last)",
      "\u001b[0;32m<ipython-input-7-57c06d514725>\u001b[0m in \u001b[0;36m<module>\u001b[0;34m\u001b[0m\n\u001b[1;32m      1\u001b[0m \u001b[0mmodel_path\u001b[0m \u001b[0;34m=\u001b[0m \u001b[0;34m\"./models/pgd-cifar10-0.031-advce-tor-WRN_40_10-inf-0.pt\"\u001b[0m\u001b[0;34m\u001b[0m\u001b[0;34m\u001b[0m\u001b[0m\n\u001b[0;32m----> 2\u001b[0;31m \u001b[0mmodel\u001b[0m \u001b[0;34m=\u001b[0m \u001b[0mglobals\u001b[0m\u001b[0;34m(\u001b[0m\u001b[0;34m)\u001b[0m\u001b[0;34m[\u001b[0m\u001b[0mget_arch\u001b[0m\u001b[0;34m(\u001b[0m\u001b[0mmodel_path\u001b[0m\u001b[0;34m)\u001b[0m\u001b[0;34m]\u001b[0m\u001b[0;34m(\u001b[0m\u001b[0mn_classes\u001b[0m\u001b[0;34m=\u001b[0m\u001b[0;36m10\u001b[0m\u001b[0;34m)\u001b[0m\u001b[0;34m\u001b[0m\u001b[0;34m\u001b[0m\u001b[0m\n\u001b[0m\u001b[1;32m      3\u001b[0m \u001b[0mmodel\u001b[0m\u001b[0;34m.\u001b[0m\u001b[0mload_state_dict\u001b[0m\u001b[0;34m(\u001b[0m\u001b[0mtorch\u001b[0m\u001b[0;34m.\u001b[0m\u001b[0mload\u001b[0m\u001b[0;34m(\u001b[0m\u001b[0mmodel_path\u001b[0m\u001b[0;34m)\u001b[0m\u001b[0;34m)\u001b[0m\u001b[0;34m\u001b[0m\u001b[0;34m\u001b[0m\u001b[0m\n\u001b[1;32m      4\u001b[0m \u001b[0mmodel\u001b[0m\u001b[0;34m.\u001b[0m\u001b[0meval\u001b[0m\u001b[0;34m(\u001b[0m\u001b[0;34m)\u001b[0m\u001b[0;34m\u001b[0m\u001b[0;34m\u001b[0m\u001b[0m\n\u001b[1;32m      5\u001b[0m \u001b[0mmodel\u001b[0m\u001b[0;34m.\u001b[0m\u001b[0mcuda\u001b[0m\u001b[0;34m(\u001b[0m\u001b[0;34m)\u001b[0m\u001b[0;34m\u001b[0m\u001b[0;34m\u001b[0m\u001b[0m\n",
      "\u001b[0;31mNameError\u001b[0m: name 'get_arch' is not defined"
     ]
    }
   ],
   "source": []
  },
  {
   "cell_type": "code",
   "execution_count": 215,
   "metadata": {},
   "outputs": [
    {
     "data": {
      "image/png": "[encoded data removed]",
      "text/plain": [
       "<Figure size 432x288 with 1 Axes>"
      ]
     },
     "metadata": {
      "needs_background": "light"
     },
     "output_type": "display_data"
    }
   ],
   "source": [
    "plt.axis('off')\n",
    "plt.imshow(np.concatenate([tstX[i], tstX[i], tstX[i]], axis=2))\n",
    "#plt.imshow(np.concatenate([adv_tstX[i], adv_tstX[i], adv_tstX[i]], axis=2))\n",
    "plt.savefig(\"./figs/mnist_img2.png\", transparent=True)"
   ]
  },
  {
   "cell_type": "code",
   "execution_count": 122,
   "metadata": {},
   "outputs": [],
   "source": [
    "model_path = \"./models/pgd-cifar10-0.031-ce-tor-WRN_40_10-inf-0.pt\"\n",
    "model = globals()[get_arch(model_path)](n_classes=10)\n",
    "model.load_state_dict(torch.load(model_path))\n",
    "model.eval()\n",
    "model.cuda()\n",
    "model = ModelWrapper(model)\n",
    "trnX, trny, tstX, tsty = auto_var.get_var_with_argument(\"dataset\", get_ds(model_path))\n",
    "\n",
    "a = joblib.load(\"./results/experiment03/pgd-cifar10-0.031-ce-tor-WRN_40_10-inf-0.pkl\")"
   ]
  },
  {
   "cell_type": "code",
   "execution_count": 123,
   "metadata": {},
   "outputs": [
    {
     "name": "stdout",
     "output_type": "stream",
     "text": [
      "[(0.91781914, 71), (0.7050022, 78), (0.627071, 87), (0.4679357, 20), (0.19889718, 10), (0.16712534, 47), (0.112924755, 49), (0.10954493, 81), (0.05335039, 85), (0.03948349, 91), (0.013468802, 22), (0.011327028, 32), (0.0032605529, 6), (0.0013139844, 53), (0.000441432, 7), (0.00015538931, 9), (4.0713585e-05, 58), (3.4332275e-05, 77), (5.722046e-06, 5), (3.8102835e-06, 24), (1.9073486e-06, 21), (1.4421756e-06, 35), (5.8958244e-07, 37), (0.0, 96), (0.0, 95), (0.0, 93), (0.0, 92), (0.0, 90), (0.0, 89), (0.0, 88), (0.0, 86), (0.0, 84), (0.0, 83), (0.0, 82), (0.0, 80), (0.0, 79), (0.0, 75), (0.0, 73), (0.0, 72), (0.0, 70), (0.0, 69), (0.0, 67), (0.0, 66), (0.0, 65), (0.0, 64), (0.0, 62), (0.0, 60), (0.0, 56), (0.0, 55), (0.0, 54), (0.0, 51), (0.0, 50), (0.0, 48), (0.0, 45), (0.0, 44), (0.0, 43), (0.0, 41), (0.0, 40), (0.0, 39), (0.0, 38), (0.0, 36), (0.0, 34), (0.0, 31), (0.0, 30), (0.0, 29), (0.0, 28), (0.0, 27), (0.0, 23), (0.0, 19), (0.0, 18), (0.0, 17), (0.0, 14), (0.0, 13), (0.0, 11), (0.0, 8), (0.0, 1), (0.0, 0), (-7.731055e-07, 52), (-1.9073486e-06, 98), (-1.9073486e-06, 94), (-3.8146973e-06, 25), (-7.581144e-06, 61), (-1.0900537e-05, 57), (-1.1444092e-05, 12), (-1.7166138e-05, 76), (-1.9073486e-05, 99), (-1.9073486e-05, 46), (-4.5776367e-05, 16), (-0.00037240982, 97), (-0.00059854984, 15), (-0.0006235242, 4), (-0.0016828775, 42), (-0.0017291903, 33), (-0.0022979379, 26), (-0.004998684, 68), (-0.010016739, 63), (-0.012192607, 2), (-0.052314818, 3), (-0.07139075, 59), (-0.33155727, 74)]\n"
     ]
    }
   ],
   "source": [
    "n = 100\n",
    "pred = model.predict_proba(tstX[:n])\n",
    "advpred = model.predict_proba(a['tst_lip_1_pert'][:n])\n",
    "proba = np.array([pred[i][tsty[i]] for i in range(n)])\n",
    "advproba = np.array([advpred[i][tsty[i]] for i in range(n)])\n",
    "\n",
    "print(sorted([(p, i) for i, p in enumerate(proba - advproba)])[::-1])\n",
    "#print(proba)\n",
    "#print(advproba)"
   ]
  },
  {
   "cell_type": "code",
   "execution_count": 154,
   "metadata": {},
   "outputs": [
    {
     "name": "stdout",
     "output_type": "stream",
     "text": [
      "true class: cat\n",
      "prediction: cat, proba: 0.9999980926513672\n",
      "prediction: cat, proba: 0.9999980926513672\n"
     ]
    },
    {
     "data": {
      "text/plain": [
       "[]"
      ]
     },
     "execution_count": 154,
     "metadata": {},
     "output_type": "execute_result"
    },
    {
     "data": {
      "image/png": "[encoded data removed]",
      "text/plain": [
       "<Figure size 432x288 with 2 Axes>"
      ]
     },
     "metadata": {
      "needs_background": "light"
     },
     "output_type": "display_data"
    }
   ],
   "source": [
    "i=0\n",
    "#i=78\n",
    "print(f\"true class: {cifar_classes[int(tsty[i])]}\")\n",
    "print(f\"prediction: {cifar_classes[int(pred.argmax(1)[i])]}, proba: {pred.max(1)[i]}\")\n",
    "print(f\"prediction: {cifar_classes[int(advpred.argmax(1)[i])]}, proba: {advpred.max(1)[i]}\")\n",
    "\n",
    "f = plt.figure()\n",
    "f.add_subplot(1,2, 1)\n",
    "plt.imshow(tstX[i])\n",
    "f.add_subplot(1,2, 2)\n",
    "plt.imshow(a['tst_lip_1_pert'][i])\n",
    "plt.plot()"
   ]
  },
  {
   "cell_type": "code",
   "execution_count": 152,
   "metadata": {},
   "outputs": [
    {
     "data": {
      "text/plain": [
       "<matplotlib.image.AxesImage at 0x7ffac38fc190>"
      ]
     },
     "execution_count": 152,
     "metadata": {},
     "output_type": "execute_result"
    },
    {
     "data": {
      "image/png": "[encoded data removed]",
      "text/plain": [
       "<Figure size 432x288 with 1 Axes>"
      ]
     },
     "metadata": {
      "needs_background": "light"
     },
     "output_type": "display_data"
    }
   ],
   "source": []
  },
  {
   "cell_type": "code",
   "execution_count": 159,
   "metadata": {},
   "outputs": [],
   "source": [
    "from lolip.attacks.torch.projected_gradient_descent import ProjectedGradientDescent\n",
    "i = 2\n",
    "n = 200\n",
    "nb_iter=10\n",
    "eps = 0.031\n",
    "attack_model = ProjectedGradientDescent(\n",
    "    model_fn=model.model,\n",
    "    norm=np.inf,\n",
    "    eps=eps,\n",
    "    eps_iter=eps*2/nb_iter,\n",
    "    nb_iter=nb_iter,\n",
    ")\n",
    "adv_tstX = attack_model.perturb(tstX[:n], tsty[:n])\n",
    "predpro = model.predict_proba(tstX[:n])\n",
    "advpro = model.predict_proba(adv_tstX[:n])\n",
    "proba = np.array([predpro[i][tsty[i]] for i in range(n)])\n",
    "advproba = np.array([advpro[i][tsty[i]] for i in range(n)])"
   ]
  },
  {
   "cell_type": "code",
   "execution_count": 168,
   "metadata": {},
   "outputs": [
    {
     "name": "stdout",
     "output_type": "stream",
     "text": [
      "[(3.928364e-19, 38), (2.139491e-20, 50), (6.2324763e-21, 67), (7.5909937e-22, 14), (5.8268816e-22, 11), (2.890054e-23, 56), (2.0332044e-24, 45), (5.753915e-25, 41), (3.278957e-25, 89), (1.7603159e-25, 44), (4.0502673e-26, 23), (3.8533094e-26, 47), (3.400378e-26, 96), (3.983777e-27, 19), (2.5159128e-27, 93), (1.2369445e-27, 95), (7.5774886e-28, 82), (1.7982877e-28, 6), (1.7919399e-28, 76), (7.5623535e-29, 28), (6.4600397e-29, 92), (2.8477258e-29, 13), (6.962432e-30, 62), (4.382583e-30, 98), (4.076206e-30, 39), (3.408397e-30, 79), (7.753089e-31, 60), (6.6937868e-31, 90), (6.2585087e-31, 37), (6.050055e-31, 88), (3.8625567e-31, 80), (3.3014763e-31, 34), (2.4592397e-31, 81), (2.066421e-31, 1), (1.6975366e-31, 40), (5.7094654e-32, 4), (1.2647153e-32, 73), (1.2139842e-32, 69), (1.09526326e-32, 15), (1.0822801e-32, 9), (7.681779e-33, 66), (7.1334875e-33, 33), (5.092126e-33, 71), (3.8350386e-33, 29), (2.8612442e-33, 27), (1.5129782e-33, 77), (1.3103929e-33, 20), (3.4747925e-34, 2), (2.4914444e-34, 48), (2.436926e-34, 7), (3.726584e-35, 31), (3.3291917e-35, 54), (1.9452664e-35, 5), (1.221149e-35, 75), (8.9405945e-36, 24), (7.529655e-36, 17), (1.0760535e-36, 30), (1.0651574e-36, 51), (4.251215e-37, 18), (4.065089e-37, 72), (3.4252378e-37, 99), (3.3228697e-37, 70), (1.8998399e-37, 83), (1.1829721e-37, 64), (4.6206898e-38, 16), (3.2353243e-38, 49), (1.8488127e-38, 43), (1.7803884e-38, 35), (1.4985397e-38, 21), (1.4857102e-38, 97), (1.3763654e-38, 63), (1.046764e-38, 3), (6.438702e-39, 12), (3.52691e-40, 59), (2.04032e-40, 42), (1.4652e-40, 87), (1.11856e-40, 86), (7.0746e-41, 25), (2.4653e-41, 85), (1.4204e-41, 74), (1.2252e-41, 36), (2.91e-42, 57), (2.396e-42, 65), (8.09e-43, 52), (3.74e-43, 68), (2.55e-43, 10), (1.37e-43, 58), (2.2e-44, 46), (1.1e-44, 61), (1e-45, 84), (1e-45, 55), (1e-45, 53), (1e-45, 22), (0.0, 94), (0.0, 91), (0.0, 78), (0.0, 32), (0.0, 26), (0.0, 8), (0.0, 0)]\n"
     ]
    }
   ],
   "source": [
    "print(sorted([(p, i) for i, p in enumerate(advproba)])[::-1])"
   ]
  },
  {
   "cell_type": "code",
   "execution_count": 158,
   "metadata": {},
   "outputs": [
    {
     "name": "stdout",
     "output_type": "stream",
     "text": [
      "[[9.60847202e-31 1.00000000e+00 1.60442974e-27 8.66779592e-30\n",
      "  5.83278945e-32 8.44278725e-22 7.71061711e-31 1.03557711e-28\n",
      "  1.10328465e-33 8.09422565e-25]]\n",
      "true class: ship\n",
      "prediction: car, proba: 1.0\n"
     ]
    },
    {
     "name": "stderr",
     "output_type": "stream",
     "text": [
      "W0106 13:19:10.995937 140719580231488 image.py:700] Clipping input data to the valid range for imshow with RGB data ([0..1] for floats or [0..255] for integers).\n"
     ]
    },
    {
     "data": {
      "text/plain": [
       "<matplotlib.image.AxesImage at 0x7ffac3937750>"
      ]
     },
     "execution_count": 158,
     "metadata": {},
     "output_type": "execute_result"
    },
    {
     "data": {
      "image/png": "[encoded data removed]",
      "text/plain": [
       "<Figure size 432x288 with 1 Axes>"
      ]
     },
     "metadata": {
      "needs_background": "light"
     },
     "output_type": "display_data"
    }
   ],
   "source": [
    "from lolip.attacks.torch.projected_gradient_descent import ProjectedGradientDescent\n",
    "i = 2\n",
    "nb_iter=10\n",
    "eps = 0.031\n",
    "attack_model = ProjectedGradientDescent(\n",
    "    model_fn=model.model,\n",
    "    norm=np.inf,\n",
    "    eps=eps,\n",
    "    eps_iter=eps*2/nb_iter,\n",
    "    nb_iter=nb_iter,\n",
    ")\n",
    "\n",
    "adv_tstX = attack_model.perturb(tstX[i:i+1], tsty[i:i+1])\n",
    "print(model.predict_proba(adv_tstX))\n",
    "print(f\"true class: {cifar_classes[int(tsty[i])]}\")\n",
    "print(f\"prediction: {cifar_classes[int(model.predict(adv_tstX)[0])]}, proba: {model.predict_proba(adv_tstX).max(1)[0]}\")\n",
    "\n",
    "plt.imshow(adv_tstX[0])"
   ]
  },
  {
   "cell_type": "code",
   "execution_count": 111,
   "metadata": {},
   "outputs": [
    {
     "name": "stdout",
     "output_type": "stream",
     "text": [
      "[[3.9642419e-13 4.6638211e-11 3.3105352e-10 3.0798118e-11 6.5500468e-01\n",
      "  1.1840269e-06 1.5918528e-12 3.4499472e-01 5.9323409e-14 1.8311993e-11]]\n",
      "prediction: deer, proba: 0.6550046801567078\n"
     ]
    },
    {
     "data": {
      "text/plain": [
       "<matplotlib.image.AxesImage at 0x7ffac51bc090>"
      ]
     },
     "execution_count": 111,
     "metadata": {},
     "output_type": "execute_result"
    },
    {
     "data": {
      "image/png": "[encoded data removed]",
      "text/plain": [
       "<Figure size 432x288 with 1 Axes>"
      ]
     },
     "metadata": {
      "needs_background": "light"
     },
     "output_type": "display_data"
    }
   ],
   "source": [
    "from lolip.attacks.torch.projected_gradient_descent import ProjectedGradientDescent\n",
    "nb_iter=10\n",
    "eps = 0.0035\n",
    "attack_model = ProjectedGradientDescent(\n",
    "    model_fn=model.model,\n",
    "    norm=np.inf,\n",
    "    eps=eps,\n",
    "    eps_iter=eps*2/nb_iter,\n",
    "    nb_iter=nb_iter,\n",
    ")\n",
    "\n",
    "adv_trnX = attack_model.perturb(trnX[i:i+1], trny[i:i+1])\n",
    "print(model.predict_proba(adv_trnX))\n",
    "print(f\"prediction: {cifar_classes[int(model.predict(adv_trnX)[0])]}, proba: {model.predict_proba(adv_trnX).max(1)[0]}\")\n",
    "\n",
    "plt.imshow(adv_trnX[0])\n",
    "#adv_tstX = attack_model.perturb(tstX)\n",
    "#print((ModelWrapper(model).predict(trnX) == trny).mean())\n",
    "#print((ModelWrapper(model).predict(adv_trnX) == trny).mean())"
   ]
  },
  {
   "cell_type": "code",
   "execution_count": 25,
   "metadata": {},
   "outputs": [],
   "source": [
    "Xs = []\n",
    "for eps in [0.4, 0.6, 0.8, 1.0, 1.2]:\n",
    "    Xs.append(estimate_local_lip_v2(model, trnX[:10], top_norm=1, btm_norm=np.inf, epsilon=eps))"
   ]
  },
  {
   "cell_type": "code",
   "execution_count": null,
   "metadata": {},
   "outputs": [],
   "source": []
  },
  {
   "cell_type": "code",
   "execution_count": 22,
   "metadata": {},
   "outputs": [
    {
     "data": {
      "text/plain": [
       "(array([1.5200e+02, 6.5120e+03, 2.2573e+04, 2.0928e+04, 7.5230e+03,\n",
       "        1.8900e+03, 3.4400e+02, 6.7000e+01, 8.0000e+00, 2.0000e+00]),\n",
       " array([ 0.,  5., 10., 15., 20., 25., 30., 35., 40., 45., 50.],\n",
       "       dtype=float32),\n",
       " <a list of 10 Patch objects>)"
      ]
     },
     "execution_count": 22,
     "metadata": {},
     "output_type": "execute_result"
    },
    {
     "data": {
      "image/png": "[encoded data removed]",
      "text/plain": [
       "<Figure size 432x288 with 1 Axes>"
      ]
     },
     "metadata": {
      "needs_background": "light"
     },
     "output_type": "display_data"
    }
   ],
   "source": [
    "model_path = \"./models/pgd-mnist-0.1-trades10ce-tor-CNN001-inf-0.pt\"\n",
    "model = globals()[get_arch(model_path)](n_classes=10)\n",
    "model.load_state_dict(torch.load(model_path))\n",
    "model.eval()\n",
    "model.cuda()\n",
    "trnX, trny, tstX, tsty = auto_var.get_var_with_argument(\"dataset\", get_ds(model_path))\n",
    "\n",
    "a = joblib.load(\"./results/experiment03/pgd-mnist-0.1-trades10ce-tor-CNN001-inf-0.pkl\")\n",
    "lip_ = calc_lip(model, trnX, a['trn_lip_1_pert'], top_norm=1, btm_norm=np.inf)\n",
    "plt.hist(lip_, range=(0, 50))\n"
   ]
  },
  {
   "cell_type": "code",
   "execution_count": 19,
   "metadata": {},
   "outputs": [
    {
     "name": "stdout",
     "output_type": "stream",
     "text": [
      "[10.795519   9.563145   7.785195  ...  9.9654455  7.2449346 10.036863 ]\n"
     ]
    },
    {
     "data": {
      "text/plain": [
       "(array([5.3420e+03, 1.6160e+04, 1.9820e+04, 1.2501e+04, 4.6880e+03,\n",
       "        1.1830e+03, 2.4400e+02, 5.1000e+01, 7.0000e+00, 4.0000e+00]),\n",
       " array([ 1.0522541,  4.1215   ,  7.190746 , 10.259992 , 13.329238 ,\n",
       "        16.398483 , 19.46773  , 22.536976 , 25.60622  , 28.675467 ,\n",
       "        31.744713 ], dtype=float32),\n",
       " <a list of 10 Patch objects>)"
      ]
     },
     "execution_count": 19,
     "metadata": {},
     "output_type": "execute_result"
    },
    {
     "data": {
      "image/png": "[encoded data removed]",
      "text/plain": [
       "<Figure size 432x288 with 1 Axes>"
      ]
     },
     "metadata": {
      "needs_background": "light"
     },
     "output_type": "display_data"
    }
   ],
   "source": []
  },
  {
   "cell_type": "code",
   "execution_count": null,
   "metadata": {},
   "outputs": [],
   "source": []
  },
  {
   "cell_type": "code",
   "execution_count": 32,
   "metadata": {},
   "outputs": [
    {
     "name": "stdout",
     "output_type": "stream",
     "text": [
      "0.0775341446240743\n"
     ]
    }
   ],
   "source": [
    "lip_ = get_lip(model, trnX)"
   ]
  },
  {
   "cell_type": "code",
   "execution_count": 17,
   "metadata": {},
   "outputs": [
    {
     "data": {
      "text/plain": [
       "array([5, 0, 4, ..., 5, 6, 8])"
      ]
     },
     "execution_count": 17,
     "metadata": {},
     "output_type": "execute_result"
    }
   ],
   "source": [
    "ModelWrapper(model).predict(trnX)"
   ]
  },
  {
   "cell_type": "code",
   "execution_count": 16,
   "metadata": {},
   "outputs": [
    {
     "data": {
      "text/plain": [
       "{'epoch': 156,\n",
       " 'trn_loss': 0.4567526239236196,\n",
       " 'trn_acc': 0.81165,\n",
       " 'tst_loss': 0.3531107112646103,\n",
       " 'tst_acc': 0.8642}"
      ]
     },
     "execution_count": 16,
     "metadata": {},
     "output_type": "execute_result"
    }
   ],
   "source": [
    "a = joblib.load(\"results/experiment01/pgd-fashion-0.1-advce-tor-CNN002-inf-0.pkl\")\n",
    "a['history'][-5]\n"
   ]
  },
  {
   "cell_type": "code",
   "execution_count": 11,
   "metadata": {},
   "outputs": [
    {
     "data": {
      "text/plain": [
       "0.9520045865924075"
      ]
     },
     "execution_count": 11,
     "metadata": {},
     "output_type": "execute_result"
    }
   ],
   "source": [
    "#a = joblib.load(\"./results/experiment01/pgd-fashion-0.1-advkld-tor-CNN002-inf-0.pkl\")\n",
    "a = joblib.load(\"./results/experiment01/pgd-svhn-0.031-advce-tor-WRN_40_10-lrem2-inf-0.pkl\")\n",
    "a['trn_acc']"
   ]
  },
  {
   "cell_type": "code",
   "execution_count": 9,
   "metadata": {},
   "outputs": [
    {
     "name": "stdout",
     "output_type": "stream",
     "text": [
      "{'epoch': 1, 'trn_loss': 2545.292989117686, 'trn_acc': 0.9041, 'tst_loss': 0.055050141417980196, 'tst_acc': 0.9826}\n"
     ]
    },
    {
     "data": {
      "text/plain": [
       "[<matplotlib.lines.Line2D at 0x7f87a8910a90>]"
      ]
     },
     "execution_count": 9,
     "metadata": {},
     "output_type": "execute_result"
    },
    {
     "data": {
      "image/png": "[encoded data removed]",
      "text/plain": [
       "<Figure size 432x288 with 1 Axes>"
      ]
     },
     "metadata": {
      "needs_background": "light"
     },
     "output_type": "display_data"
    }
   ],
   "source": [
    "a = joblib.load(\"./results/experiment01/pgd-mnist-0.1-gr1e4ce-tor-CNN002-inf-0.pkl\")\n",
    "print(a['history'][0])\n",
    "plt.plot([h['trn_loss'] for h in a['history']])\n",
    "plt.plot([h['trn_acc'] for h in a['history']])\n",
    "plt.plot([h['tst_acc'] for h in a['history']])"
   ]
  },
  {
   "cell_type": "code",
   "execution_count": 57,
   "metadata": {},
   "outputs": [],
   "source": [
    "from scipy.special import kl_div\n",
    "\n",
    "def kld(p, q):\n",
    "    return p * np.log(p/q) + (1-p) * np.log((1-p)/(1-q))\n",
    "\n",
    "def trades(p, advp, beta=1.0):\n",
    "    return -np.log(p) + beta * kld(advp, p)\n",
    "\n",
    "def ptrades(p, advp, beta=1.0):\n",
    "    return -np.log(p) + beta * kld(advp, p) / np.linalg.norm(p - advp, ord=np.inf)\n",
    "\n",
    "def ce(p):\n",
    "    return -np.log(p)"
   ]
  },
  {
   "cell_type": "code",
   "execution_count": 61,
   "metadata": {},
   "outputs": [
    {
     "data": {
      "text/plain": [
       "<matplotlib.legend.Legend at 0x7f364e583b50>"
      ]
     },
     "execution_count": 61,
     "metadata": {},
     "output_type": "execute_result"
    },
    {
     "data": {
      "image/png": "[encoded data removed]",
      "text/plain": [
       "<Figure size 432x288 with 1 Axes>"
      ]
     },
     "metadata": {
      "needs_background": "light"
     },
     "output_type": "display_data"
    }
   ],
   "source": [
    "advp = np.arange(1, 101) / 100\n",
    "plt.plot(advp, ce(advp), label=\"CE\")\n",
    "plt.plot(advp, trades(p=0.9, advp=advp, beta=1.0), label=\"beta=1\")\n",
    "plt.plot(advp, trades(p=0.9, advp=advp, beta=5.0), label=\"beta=5\")\n",
    "plt.plot(advp, ptrades(p=0.9, advp=advp, beta=1.0), label=\"p beta=1\")\n",
    "#plt.plot(advp, trades(p=0.95, advp=advp, beta=1.0), label=\"beta=5\")\n",
    "plt.legend()"
   ]
  },
  {
   "cell_type": "code",
   "execution_count": 64,
   "metadata": {},
   "outputs": [
    {
     "name": "stderr",
     "output_type": "stream",
     "text": [
      "/home/arbiter/.pyenv/versions/3.7.4/envs/general/lib/python3.7/site-packages/ipykernel_launcher.py:4: RuntimeWarning: divide by zero encountered in log\n",
      "  after removing the cwd from sys.path.\n",
      "/home/arbiter/.pyenv/versions/3.7.4/envs/general/lib/python3.7/site-packages/ipykernel_launcher.py:4: RuntimeWarning: invalid value encountered in multiply\n",
      "  after removing the cwd from sys.path.\n"
     ]
    },
    {
     "data": {
      "text/plain": [
       "<matplotlib.legend.Legend at 0x7f364e47bf10>"
      ]
     },
     "execution_count": 64,
     "metadata": {},
     "output_type": "execute_result"
    },
    {
     "data": {
      "image/png": "[encoded data removed]",
      "text/plain": [
       "<Figure size 432x288 with 1 Axes>"
      ]
     },
     "metadata": {
      "needs_background": "light"
     },
     "output_type": "display_data"
    }
   ],
   "source": [
    "advp = np.arange(1, 101) / 100\n",
    "plt.plot(advp, ce(advp), label=\"CE\")\n",
    "plt.plot(advp, trades(p=0.6, advp=advp, beta=1.0), label=\"beta=1\")\n",
    "plt.plot(advp, trades(p=0.6, advp=advp, beta=5.0), label=\"beta=5\")\n",
    "plt.plot(advp, ptrades(p=0.6, advp=advp, beta=1.0), label=\"p beta=1\")\n",
    "\n",
    "#plt.plot(advp, trades(p=0.95, advp=advp, beta=1.0), label=\"beta=5\")\n",
    "plt.legend()"
   ]
  },
  {
   "cell_type": "code",
   "execution_count": null,
   "metadata": {},
   "outputs": [],
   "source": [
    "def plot_boundary(xx)\n",
    "    Z = clf.predict_proba(np.c_[xx.ravel(), yy.ravel()])[:, 1]\n",
    "\n",
    "    # Put the result into a color plot\n",
    "    Z = Z.reshape(xx.shape)\n",
    "    ax.contourf(xx, yy, Z, cmap=cm, alpha=.8)\n",
    "\n",
    "    # Plot also the training points\n",
    "    ax.scatter(X_train[:, 0], X_train[:, 1], c=y_train, cmap=cm_bright,\n",
    "               edgecolors='black', s=25)\n",
    "    # and testing points\n",
    "    ax.scatter(X_test[:, 0], X_test[:, 1], c=y_test, cmap=cm_bright,\n",
    "               alpha=0.6, edgecolors='black', s=25)\n",
    "\n",
    "    ax.set_xlim(xx.min(), xx.max())\n",
    "    ax.set_ylim(yy.min(), yy.max())\n",
    "    ax.set_xticks(())\n",
    "    ax.set_yticks(())"
   ]
  },
  {
   "cell_type": "code",
   "execution_count": null,
   "metadata": {},
   "outputs": [],
   "source": [
    "auto_var.set_variable_value(\"random_seed\", 0)\n",
    "trnX, trny, tstX, tsty = auto_var.get_var_with_argument(\"dataset\", \"halfmoon-1000-0.25\")\n",
    "model = TorchModel(lbl_enc=None, n_features=(2, ), n_classes=2, architecture=\"MLP\", epochs=60, learning_rate=1e-2)\n",
    "_ = model.fit(trnX, trny, verbose=0)"
   ]
  },
  {
   "cell_type": "code",
   "execution_count": 7,
   "metadata": {},
   "outputs": [
    {
     "data": {
      "text/plain": [
       "(750,)"
      ]
     },
     "execution_count": 7,
     "metadata": {},
     "output_type": "execute_result"
    }
   ],
   "source": [
    "trnX.shape\n",
    "tstX.shape"
   ]
  }
 ],
 "metadata": {
  "kernelspec": {
   "display_name": "Python 3",
   "language": "python",
   "name": "python3"
  },
  "language_info": {
   "codemirror_mode": {
    "name": "ipython",
    "version": 3
   },
   "file_extension": ".py",
   "mimetype": "text/x-python",
   "name": "python",
   "nbconvert_exporter": "python",
   "pygments_lexer": "ipython3",
   "version": "3.7.4"
  }
 },
 "nbformat": 4,
 "nbformat_minor": 4
}
