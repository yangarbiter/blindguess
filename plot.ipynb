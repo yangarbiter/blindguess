{
 "cells": [
  {
   "cell_type": "code",
   "execution_count": 1,
   "metadata": {},
   "outputs": [],
   "source": [
    "import numpy as np\n",
    "\n",
    "from params import mnistLip\n",
    "from utils import params_to_dataframe"
   ]
  },
  {
   "cell_type": "code",
   "execution_count": 5,
   "metadata": {},
   "outputs": [
    {
     "name": "stderr",
     "output_type": "stream",
     "text": [
      "I1220 19:41:58.631351 140514308515648 auto_var.py:261] Running time: 0.008085\n",
      "I1220 19:41:58.720958 140514308515648 auto_var.py:261] Running time: 0.002265\n",
      "I1220 19:41:58.833690 140514308515648 auto_var.py:261] Running time: 0.003520\n",
      "I1220 19:41:58.935016 140514308515648 auto_var.py:261] Running time: 0.002501\n",
      "I1220 19:41:59.019493 140514308515648 auto_var.py:261] Running time: 0.002419\n",
      "I1220 19:41:59.104125 140514308515648 auto_var.py:261] Running time: 0.002319\n"
     ]
    },
    {
     "data": {
      "text/html": [
       "<div>\n",
       "<style scoped>\n",
       "    .dataframe tbody tr th:only-of-type {\n",
       "        vertical-align: middle;\n",
       "    }\n",
       "\n",
       "    .dataframe tbody tr th {\n",
       "        vertical-align: top;\n",
       "    }\n",
       "\n",
       "    .dataframe thead th {\n",
       "        text-align: right;\n",
       "    }\n",
       "</style>\n",
       "<table border=\"1\" class=\"dataframe\">\n",
       "  <thead>\n",
       "    <tr style=\"text-align: right;\">\n",
       "      <th></th>\n",
       "      <th>attack</th>\n",
       "      <th>dataset</th>\n",
       "      <th>eps</th>\n",
       "      <th>model</th>\n",
       "      <th>norm</th>\n",
       "      <th>random_seed</th>\n",
       "      <th>trn_acc</th>\n",
       "      <th>history</th>\n",
       "    </tr>\n",
       "  </thead>\n",
       "  <tbody>\n",
       "    <tr>\n",
       "      <th>0</th>\n",
       "      <td>pgd</td>\n",
       "      <td>mnist</td>\n",
       "      <td>1.0</td>\n",
       "      <td>ce-tor-CNN001</td>\n",
       "      <td>2</td>\n",
       "      <td>0</td>\n",
       "      <td>0.827783</td>\n",
       "      <td>[{'epoch': 1, 'trn_loss': 0.013314929431676864...</td>\n",
       "    </tr>\n",
       "    <tr>\n",
       "      <th>1</th>\n",
       "      <td>pgd</td>\n",
       "      <td>mnist</td>\n",
       "      <td>1.0</td>\n",
       "      <td>tradesce-tor-CNN001</td>\n",
       "      <td>2</td>\n",
       "      <td>0</td>\n",
       "      <td>0.880333</td>\n",
       "      <td>[{'epoch': 1, 'trn_loss': 0.015263692235946655...</td>\n",
       "    </tr>\n",
       "    <tr>\n",
       "      <th>2</th>\n",
       "      <td>pgd</td>\n",
       "      <td>mnist</td>\n",
       "      <td>1.0</td>\n",
       "      <td>advce-tor-CNN001</td>\n",
       "      <td>2</td>\n",
       "      <td>0</td>\n",
       "      <td>0.797633</td>\n",
       "      <td>[{'epoch': 1, 'trn_loss': 0.014614923663934071...</td>\n",
       "    </tr>\n",
       "    <tr>\n",
       "      <th>3</th>\n",
       "      <td>pgd</td>\n",
       "      <td>fashion</td>\n",
       "      <td>1.0</td>\n",
       "      <td>ce-tor-CNN001</td>\n",
       "      <td>2</td>\n",
       "      <td>0</td>\n",
       "      <td>0.775017</td>\n",
       "      <td>[{'epoch': 1, 'trn_loss': 0.013581056243181228...</td>\n",
       "    </tr>\n",
       "    <tr>\n",
       "      <th>4</th>\n",
       "      <td>pgd</td>\n",
       "      <td>fashion</td>\n",
       "      <td>1.0</td>\n",
       "      <td>tradesce-tor-CNN001</td>\n",
       "      <td>2</td>\n",
       "      <td>0</td>\n",
       "      <td>0.755367</td>\n",
       "      <td>[{'epoch': 1, 'trn_loss': 0.015424778167406719...</td>\n",
       "    </tr>\n",
       "    <tr>\n",
       "      <th>5</th>\n",
       "      <td>pgd</td>\n",
       "      <td>fashion</td>\n",
       "      <td>1.0</td>\n",
       "      <td>advce-tor-CNN001</td>\n",
       "      <td>2</td>\n",
       "      <td>0</td>\n",
       "      <td>0.704750</td>\n",
       "      <td>[{'epoch': 1, 'trn_loss': 0.014740302062034607...</td>\n",
       "    </tr>\n",
       "  </tbody>\n",
       "</table>\n",
       "</div>"
      ],
      "text/plain": [
       "  attack  dataset  eps                model norm  random_seed   trn_acc                                            history\n",
       "0    pgd    mnist  1.0        ce-tor-CNN001    2            0  0.827783  [{'epoch': 1, 'trn_loss': 0.013314929431676864...\n",
       "1    pgd    mnist  1.0  tradesce-tor-CNN001    2            0  0.880333  [{'epoch': 1, 'trn_loss': 0.015263692235946655...\n",
       "2    pgd    mnist  1.0     advce-tor-CNN001    2            0  0.797633  [{'epoch': 1, 'trn_loss': 0.014614923663934071...\n",
       "3    pgd  fashion  1.0        ce-tor-CNN001    2            0  0.775017  [{'epoch': 1, 'trn_loss': 0.013581056243181228...\n",
       "4    pgd  fashion  1.0  tradesce-tor-CNN001    2            0  0.755367  [{'epoch': 1, 'trn_loss': 0.015424778167406719...\n",
       "5    pgd  fashion  1.0     advce-tor-CNN001    2            0  0.704750  [{'epoch': 1, 'trn_loss': 0.014740302062034607..."
      ]
     },
     "execution_count": 5,
     "metadata": {},
     "output_type": "execute_result"
    }
   ],
   "source": [
    "_, _, grid_params, _ = mnistLip()()\n",
    "params_to_dataframe(grid_params, columns=['trn_acc', 'history'], result_file_dir='./results/experiment01/')"
   ]
  }
 ],
 "metadata": {
  "kernelspec": {
   "display_name": "Python 3",
   "language": "python",
   "name": "python3"
  },
  "language_info": {
   "codemirror_mode": {
    "name": "ipython",
    "version": 3
   },
   "file_extension": ".py",
   "mimetype": "text/x-python",
   "name": "python",
   "nbconvert_exporter": "python",
   "pygments_lexer": "ipython3",
   "version": "3.7.4"
  }
 },
 "nbformat": 4,
 "nbformat_minor": 4
}
