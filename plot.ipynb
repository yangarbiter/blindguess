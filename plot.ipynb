{
 "cells": [
  {
   "cell_type": "code",
   "execution_count": 1,
   "metadata": {},
   "outputs": [],
   "source": [
    "import re\n",
    "\n",
    "import numpy as np\n",
    "import torch\n",
    "import torch.utils.data as data_utils\n",
    "\n",
    "from lolip.models.torch_utils.archs import *\n",
    "from lolip.variables import auto_var\n",
    "from lolip.utils import estimate_local_lip, estimate_local_lip_v2\n",
    "from params import mnistLip, cifarLip\n",
    "from utils import params_to_dataframe"
   ]
  },
  {
   "cell_type": "code",
   "execution_count": 2,
   "metadata": {},
   "outputs": [
    {
     "name": "stderr",
     "output_type": "stream",
     "text": [
      "WARNING: Logging before flag parsing goes to stderr.\n",
      "I1226 13:06:27.531631 139855695370048 auto_var.py:261] Running time: 0.002733\n",
      "I1226 13:06:27.602882 139855695370048 auto_var.py:261] Running time: 0.002485\n",
      "I1226 13:06:27.663352 139855695370048 auto_var.py:261] Running time: 0.002370\n",
      "I1226 13:06:27.721719 139855695370048 auto_var.py:261] Running time: 0.002376\n",
      "I1226 13:06:27.780065 139855695370048 auto_var.py:261] Running time: 0.002357\n",
      "I1226 13:06:27.838659 139855695370048 auto_var.py:261] Running time: 0.002347\n",
      "I1226 13:06:27.907860 139855695370048 auto_var.py:261] Running time: 0.002469\n",
      "I1226 13:06:27.966541 139855695370048 auto_var.py:261] Running time: 0.002484\n",
      "I1226 13:06:28.024966 139855695370048 auto_var.py:261] Running time: 0.002346\n",
      "I1226 13:06:28.082932 139855695370048 auto_var.py:261] Running time: 0.002378\n"
     ]
    },
    {
     "data": {
      "text/html": [
       "<div>\n",
       "<style scoped>\n",
       "    .dataframe tbody tr th:only-of-type {\n",
       "        vertical-align: middle;\n",
       "    }\n",
       "\n",
       "    .dataframe tbody tr th {\n",
       "        vertical-align: top;\n",
       "    }\n",
       "\n",
       "    .dataframe thead th {\n",
       "        text-align: right;\n",
       "    }\n",
       "</style>\n",
       "<table border=\"1\" class=\"dataframe\">\n",
       "  <thead>\n",
       "    <tr style=\"text-align: right;\">\n",
       "      <th></th>\n",
       "      <th>attack</th>\n",
       "      <th>dataset</th>\n",
       "      <th>eps</th>\n",
       "      <th>model</th>\n",
       "      <th>norm</th>\n",
       "      <th>random_seed</th>\n",
       "      <th>trn_acc</th>\n",
       "      <th>tst_acc</th>\n",
       "      <th>adv_trn_acc</th>\n",
       "      <th>adv_tst_acc</th>\n",
       "      <th>avg_trn_lip</th>\n",
       "      <th>avg_tst_lip</th>\n",
       "      <th>history</th>\n",
       "    </tr>\n",
       "  </thead>\n",
       "  <tbody>\n",
       "    <tr>\n",
       "      <th>0</th>\n",
       "      <td>pgd</td>\n",
       "      <td>mnist</td>\n",
       "      <td>0.1</td>\n",
       "      <td>ce-tor-CNN001</td>\n",
       "      <td>inf</td>\n",
       "      <td>0</td>\n",
       "      <td>1.000000</td>\n",
       "      <td>0.9920</td>\n",
       "      <td>0.408133</td>\n",
       "      <td>0.4183</td>\n",
       "      <td>24.914808</td>\n",
       "      <td>25.083706</td>\n",
       "      <td>[{'epoch': 1, 'trn_loss': 0.4666699381828308, ...</td>\n",
       "    </tr>\n",
       "    <tr>\n",
       "      <th>1</th>\n",
       "      <td>pgd</td>\n",
       "      <td>mnist</td>\n",
       "      <td>0.1</td>\n",
       "      <td>trades6ce-tor-CNN001</td>\n",
       "      <td>inf</td>\n",
       "      <td>0</td>\n",
       "      <td>0.999967</td>\n",
       "      <td>0.9924</td>\n",
       "      <td>0.919833</td>\n",
       "      <td>0.9062</td>\n",
       "      <td>5.737867</td>\n",
       "      <td>5.748982</td>\n",
       "      <td>[{'epoch': 1, 'trn_loss': 0.4758203192869822, ...</td>\n",
       "    </tr>\n",
       "    <tr>\n",
       "      <th>2</th>\n",
       "      <td>pgd</td>\n",
       "      <td>mnist</td>\n",
       "      <td>0.1</td>\n",
       "      <td>curece-tor-CNN001</td>\n",
       "      <td>inf</td>\n",
       "      <td>0</td>\n",
       "      <td>1.000000</td>\n",
       "      <td>0.9925</td>\n",
       "      <td>0.991367</td>\n",
       "      <td>0.9528</td>\n",
       "      <td>2.679286</td>\n",
       "      <td>2.685152</td>\n",
       "      <td>[{'epoch': 1, 'trn_loss': 0.3844251032114029, ...</td>\n",
       "    </tr>\n",
       "    <tr>\n",
       "      <th>3</th>\n",
       "      <td>pgd</td>\n",
       "      <td>mnist</td>\n",
       "      <td>0.1</td>\n",
       "      <td>advce-tor-CNN001</td>\n",
       "      <td>inf</td>\n",
       "      <td>0</td>\n",
       "      <td>0.999817</td>\n",
       "      <td>0.9931</td>\n",
       "      <td>0.996400</td>\n",
       "      <td>0.9670</td>\n",
       "      <td>2.771575</td>\n",
       "      <td>2.795055</td>\n",
       "      <td>[{'epoch': 1, 'trn_loss': 0.7555228825410207, ...</td>\n",
       "    </tr>\n",
       "    <tr>\n",
       "      <th>4</th>\n",
       "      <td>pgd</td>\n",
       "      <td>mnist</td>\n",
       "      <td>0.1</td>\n",
       "      <td>llrce-tor-CNN001</td>\n",
       "      <td>inf</td>\n",
       "      <td>0</td>\n",
       "      <td>0.999983</td>\n",
       "      <td>0.9934</td>\n",
       "      <td>0.860450</td>\n",
       "      <td>0.8399</td>\n",
       "      <td>12.434842</td>\n",
       "      <td>12.424883</td>\n",
       "      <td>[{'epoch': 1, 'trn_loss': 1.71617512169679, 't...</td>\n",
       "    </tr>\n",
       "    <tr>\n",
       "      <th>5</th>\n",
       "      <td>pgd</td>\n",
       "      <td>fashion</td>\n",
       "      <td>0.1</td>\n",
       "      <td>ce-tor-CNN001</td>\n",
       "      <td>inf</td>\n",
       "      <td>0</td>\n",
       "      <td>0.999533</td>\n",
       "      <td>0.9263</td>\n",
       "      <td>0.008750</td>\n",
       "      <td>0.0558</td>\n",
       "      <td>76.034775</td>\n",
       "      <td>76.180283</td>\n",
       "      <td>[{'epoch': 1, 'trn_loss': 0.6656579953034719, ...</td>\n",
       "    </tr>\n",
       "    <tr>\n",
       "      <th>6</th>\n",
       "      <td>pgd</td>\n",
       "      <td>fashion</td>\n",
       "      <td>0.1</td>\n",
       "      <td>trades6ce-tor-CNN001</td>\n",
       "      <td>inf</td>\n",
       "      <td>0</td>\n",
       "      <td>0.976017</td>\n",
       "      <td>0.9194</td>\n",
       "      <td>0.503983</td>\n",
       "      <td>0.5260</td>\n",
       "      <td>8.076009</td>\n",
       "      <td>8.072925</td>\n",
       "      <td>[{'epoch': 1, 'trn_loss': 0.7347536305745442, ...</td>\n",
       "    </tr>\n",
       "    <tr>\n",
       "      <th>7</th>\n",
       "      <td>pgd</td>\n",
       "      <td>fashion</td>\n",
       "      <td>0.1</td>\n",
       "      <td>curece-tor-CNN001</td>\n",
       "      <td>inf</td>\n",
       "      <td>0</td>\n",
       "      <td>1.000000</td>\n",
       "      <td>0.9246</td>\n",
       "      <td>0.066433</td>\n",
       "      <td>0.1160</td>\n",
       "      <td>29.049671</td>\n",
       "      <td>28.866903</td>\n",
       "      <td>[{'epoch': 1, 'trn_loss': 0.6249589390118917, ...</td>\n",
       "    </tr>\n",
       "    <tr>\n",
       "      <th>8</th>\n",
       "      <td>pgd</td>\n",
       "      <td>fashion</td>\n",
       "      <td>0.1</td>\n",
       "      <td>advce-tor-CNN001</td>\n",
       "      <td>inf</td>\n",
       "      <td>0</td>\n",
       "      <td>0.888167</td>\n",
       "      <td>0.8686</td>\n",
       "      <td>0.829900</td>\n",
       "      <td>0.8119</td>\n",
       "      <td>1.136331</td>\n",
       "      <td>1.133796</td>\n",
       "      <td>[{'epoch': 1, 'trn_loss': 1.1296655715942383, ...</td>\n",
       "    </tr>\n",
       "    <tr>\n",
       "      <th>9</th>\n",
       "      <td>pgd</td>\n",
       "      <td>fashion</td>\n",
       "      <td>0.1</td>\n",
       "      <td>llrce-tor-CNN001</td>\n",
       "      <td>inf</td>\n",
       "      <td>0</td>\n",
       "      <td>0.975550</td>\n",
       "      <td>0.9157</td>\n",
       "      <td>0.393817</td>\n",
       "      <td>0.4215</td>\n",
       "      <td>9.833105</td>\n",
       "      <td>9.933347</td>\n",
       "      <td>[{'epoch': 1, 'trn_loss': 3.6845599964141846, ...</td>\n",
       "    </tr>\n",
       "  </tbody>\n",
       "</table>\n",
       "</div>"
      ],
      "text/plain": [
       "  attack  dataset  eps                 model norm  random_seed   trn_acc  \\\n",
       "0    pgd    mnist  0.1         ce-tor-CNN001  inf            0  1.000000   \n",
       "1    pgd    mnist  0.1  trades6ce-tor-CNN001  inf            0  0.999967   \n",
       "2    pgd    mnist  0.1     curece-tor-CNN001  inf            0  1.000000   \n",
       "3    pgd    mnist  0.1      advce-tor-CNN001  inf            0  0.999817   \n",
       "4    pgd    mnist  0.1      llrce-tor-CNN001  inf            0  0.999983   \n",
       "5    pgd  fashion  0.1         ce-tor-CNN001  inf            0  0.999533   \n",
       "6    pgd  fashion  0.1  trades6ce-tor-CNN001  inf            0  0.976017   \n",
       "7    pgd  fashion  0.1     curece-tor-CNN001  inf            0  1.000000   \n",
       "8    pgd  fashion  0.1      advce-tor-CNN001  inf            0  0.888167   \n",
       "9    pgd  fashion  0.1      llrce-tor-CNN001  inf            0  0.975550   \n",
       "\n",
       "   tst_acc  adv_trn_acc  adv_tst_acc  avg_trn_lip  avg_tst_lip  \\\n",
       "0   0.9920     0.408133       0.4183    24.914808    25.083706   \n",
       "1   0.9924     0.919833       0.9062     5.737867     5.748982   \n",
       "2   0.9925     0.991367       0.9528     2.679286     2.685152   \n",
       "3   0.9931     0.996400       0.9670     2.771575     2.795055   \n",
       "4   0.9934     0.860450       0.8399    12.434842    12.424883   \n",
       "5   0.9263     0.008750       0.0558    76.034775    76.180283   \n",
       "6   0.9194     0.503983       0.5260     8.076009     8.072925   \n",
       "7   0.9246     0.066433       0.1160    29.049671    28.866903   \n",
       "8   0.8686     0.829900       0.8119     1.136331     1.133796   \n",
       "9   0.9157     0.393817       0.4215     9.833105     9.933347   \n",
       "\n",
       "                                             history  \n",
       "0  [{'epoch': 1, 'trn_loss': 0.4666699381828308, ...  \n",
       "1  [{'epoch': 1, 'trn_loss': 0.4758203192869822, ...  \n",
       "2  [{'epoch': 1, 'trn_loss': 0.3844251032114029, ...  \n",
       "3  [{'epoch': 1, 'trn_loss': 0.7555228825410207, ...  \n",
       "4  [{'epoch': 1, 'trn_loss': 1.71617512169679, 't...  \n",
       "5  [{'epoch': 1, 'trn_loss': 0.6656579953034719, ...  \n",
       "6  [{'epoch': 1, 'trn_loss': 0.7347536305745442, ...  \n",
       "7  [{'epoch': 1, 'trn_loss': 0.6249589390118917, ...  \n",
       "8  [{'epoch': 1, 'trn_loss': 1.1296655715942383, ...  \n",
       "9  [{'epoch': 1, 'trn_loss': 3.6845599964141846, ...  "
      ]
     },
     "execution_count": 2,
     "metadata": {},
     "output_type": "execute_result"
    }
   ],
   "source": [
    "_, _, grid_params, _ = mnistLip()()\n",
    "params_to_dataframe(grid_params, columns=['trn_acc', 'tst_acc', 'adv_trn_acc', 'adv_tst_acc', 'avg_trn_lip', 'avg_tst_lip', 'history'], result_file_dir='./results/experiment01/')"
   ]
  },
  {
   "cell_type": "code",
   "execution_count": 5,
   "metadata": {},
   "outputs": [
    {
     "name": "stderr",
     "output_type": "stream",
     "text": [
      "I1225 21:58:26.209870 140102087153472 auto_var.py:261] Running time: 0.000397\n",
      "I1225 21:58:26.281889 140102087153472 auto_var.py:261] Running time: 0.000039\n",
      "I1225 21:58:26.347605 140102087153472 auto_var.py:261] Running time: 0.000041\n"
     ]
    },
    {
     "name": "stdout",
     "output_type": "stream",
     "text": [
      "[{'dataset': ['cifar10'], 'model': ['ce-tor-WRN_40_10', 'tradesce-tor-WRN_40_10', 'trades6ce-tor-WRN_40_10', 'advce-tor-WRN_40_10', 'llrce-tor-WRN_40_10'], 'eps': [0.031], 'norm': ['inf'], 'attack': ['pgd'], 'random_seed': [0]}]\n"
     ]
    },
    {
     "name": "stderr",
     "output_type": "stream",
     "text": [
      "I1225 21:58:26.412562 140102087153472 auto_var.py:261] Running time: 0.000038\n",
      "I1225 21:58:26.477847 140102087153472 auto_var.py:261] Running time: 0.000039\n"
     ]
    },
    {
     "ename": "ValueError",
     "evalue": "not enough values to unpack (expected 2, got 0)",
     "output_type": "error",
     "traceback": [
      "\u001b[0;31m---------------------------------------------------------------------------\u001b[0m",
      "\u001b[0;31mValueError\u001b[0m                                Traceback (most recent call last)",
      "\u001b[0;32m<ipython-input-5-7a5f2f157161>\u001b[0m in \u001b[0;36m<module>\u001b[0;34m\u001b[0m\n\u001b[1;32m      1\u001b[0m \u001b[0m_\u001b[0m\u001b[0;34m,\u001b[0m \u001b[0m_\u001b[0m\u001b[0;34m,\u001b[0m \u001b[0mgrid_params\u001b[0m\u001b[0;34m,\u001b[0m \u001b[0m_\u001b[0m \u001b[0;34m=\u001b[0m \u001b[0mcifarLip\u001b[0m\u001b[0;34m(\u001b[0m\u001b[0;34m)\u001b[0m\u001b[0;34m(\u001b[0m\u001b[0;34m)\u001b[0m\u001b[0;34m\u001b[0m\u001b[0;34m\u001b[0m\u001b[0m\n\u001b[1;32m      2\u001b[0m \u001b[0mprint\u001b[0m\u001b[0;34m(\u001b[0m\u001b[0mgrid_params\u001b[0m\u001b[0;34m)\u001b[0m\u001b[0;34m\u001b[0m\u001b[0;34m\u001b[0m\u001b[0m\n\u001b[0;32m----> 3\u001b[0;31m \u001b[0mparams_to_dataframe\u001b[0m\u001b[0;34m(\u001b[0m\u001b[0mgrid_params\u001b[0m\u001b[0;34m,\u001b[0m \u001b[0mcolumns\u001b[0m\u001b[0;34m=\u001b[0m\u001b[0;34m[\u001b[0m\u001b[0;34m'trn_acc'\u001b[0m\u001b[0;34m,\u001b[0m \u001b[0;34m'history'\u001b[0m\u001b[0;34m]\u001b[0m\u001b[0;34m,\u001b[0m \u001b[0mresult_file_dir\u001b[0m\u001b[0;34m=\u001b[0m\u001b[0;34m'./results/experiment01/'\u001b[0m\u001b[0;34m)\u001b[0m\u001b[0;34m\u001b[0m\u001b[0;34m\u001b[0m\u001b[0m\n\u001b[0m",
      "\u001b[0;32m~/adversarial/robust-local-lip/utils.py\u001b[0m in \u001b[0;36mparams_to_dataframe\u001b[0;34m(grid_param, columns, proc_fns, file_format, result_file_dir, logging_level)\u001b[0m\n\u001b[1;32m     79\u001b[0m         \u001b[0;32massert\u001b[0m \u001b[0mlen\u001b[0m\u001b[0;34m(\u001b[0m\u001b[0mproc_fns\u001b[0m\u001b[0;34m)\u001b[0m \u001b[0;34m==\u001b[0m \u001b[0mlen\u001b[0m\u001b[0;34m(\u001b[0m\u001b[0mcolumns\u001b[0m\u001b[0;34m)\u001b[0m\u001b[0;34m\u001b[0m\u001b[0;34m\u001b[0m\u001b[0m\n\u001b[1;32m     80\u001b[0m \u001b[0;34m\u001b[0m\u001b[0m\n\u001b[0;32m---> 81\u001b[0;31m     \u001b[0mparams\u001b[0m\u001b[0;34m,\u001b[0m \u001b[0mresults\u001b[0m \u001b[0;34m=\u001b[0m \u001b[0mzip\u001b[0m\u001b[0;34m(\u001b[0m\u001b[0;34m*\u001b[0m\u001b[0;34m[\u001b[0m\u001b[0;34m(\u001b[0m\u001b[0mparams\u001b[0m\u001b[0;34m[\u001b[0m\u001b[0mi\u001b[0m\u001b[0;34m]\u001b[0m\u001b[0;34m,\u001b[0m \u001b[0mresults\u001b[0m\u001b[0;34m[\u001b[0m\u001b[0mi\u001b[0m\u001b[0;34m]\u001b[0m\u001b[0;34m)\u001b[0m \u001b[0;32mfor\u001b[0m \u001b[0mi\u001b[0m \u001b[0;32min\u001b[0m \u001b[0mrange\u001b[0m\u001b[0;34m(\u001b[0m\u001b[0mlen\u001b[0m\u001b[0;34m(\u001b[0m\u001b[0mparams\u001b[0m\u001b[0;34m)\u001b[0m\u001b[0;34m)\u001b[0m \u001b[0;32mif\u001b[0m \u001b[0mresults\u001b[0m\u001b[0;34m[\u001b[0m\u001b[0mi\u001b[0m\u001b[0;34m]\u001b[0m\u001b[0;34m]\u001b[0m\u001b[0;34m)\u001b[0m\u001b[0;34m\u001b[0m\u001b[0;34m\u001b[0m\u001b[0m\n\u001b[0m\u001b[1;32m     82\u001b[0m     \u001b[0mparams\u001b[0m\u001b[0;34m,\u001b[0m \u001b[0mresults\u001b[0m \u001b[0;34m=\u001b[0m \u001b[0mlist\u001b[0m\u001b[0;34m(\u001b[0m\u001b[0mparams\u001b[0m\u001b[0;34m)\u001b[0m\u001b[0;34m,\u001b[0m \u001b[0mlist\u001b[0m\u001b[0;34m(\u001b[0m\u001b[0mresults\u001b[0m\u001b[0;34m)\u001b[0m\u001b[0;34m\u001b[0m\u001b[0;34m\u001b[0m\u001b[0m\n\u001b[1;32m     83\u001b[0m     \u001b[0;32mfor\u001b[0m \u001b[0mi\u001b[0m\u001b[0;34m,\u001b[0m \u001b[0m_\u001b[0m \u001b[0;32min\u001b[0m \u001b[0menumerate\u001b[0m\u001b[0;34m(\u001b[0m\u001b[0mparams\u001b[0m\u001b[0;34m)\u001b[0m\u001b[0;34m:\u001b[0m\u001b[0;34m\u001b[0m\u001b[0;34m\u001b[0m\u001b[0m\n",
      "\u001b[0;31mValueError\u001b[0m: not enough values to unpack (expected 2, got 0)"
     ]
    }
   ],
   "source": [
    "_, _, grid_params, _ = cifarLip()()\n",
    "print(grid_params)\n",
    "params_to_dataframe(grid_params, columns=['trn_acc', 'history'], result_file_dir='./results/experiment01/')"
   ]
  },
  {
   "cell_type": "code",
   "execution_count": 9,
   "metadata": {},
   "outputs": [],
   "source": [
    "def get_arch(path):\n",
    "    return path.split(\"-\")[path.split(\"-\").index('tor')+1]\n",
    "\n",
    "def get_ds(path):\n",
    "    return path.split(\"-\")[1]\n",
    "\n",
    "def predict_real(model, X):\n",
    "    X = X.transpose(0, 3, 1, 2)\n",
    "    dataset = data_utils.TensorDataset(torch.from_numpy(X).float())\n",
    "    loader = torch.utils.data.DataLoader(dataset, batch_size=128, shuffle=False, num_workers=2)\n",
    "    ret = []\n",
    "    for [x] in loader:\n",
    "        ret.append(model(x.to('cuda')).detach().cpu().numpy())\n",
    "    return np.concatenate(ret, axis=0)\n",
    "\n",
    "def calc_lip(model, X, Xp, top_norm, btm_norm):\n",
    "    top = np.linalg.norm(predict_real(model, X)-predict_real(model, Xp), ord=top_norm, axis=1)\n",
    "    down = np.linalg.norm(X.reshape(len(Xp), -1)-Xp.reshape(len(Xp), -1), ord=btm_norm, axis=1)\n",
    "    return top / (down+1e-6)\n",
    "\n",
    "def get_lip(model, X, top_norm=2, btm_norm=2, epsilon=1.0):\n",
    "    lip = estimate_local_lip_v2(model, X, top_norm=top_norm, btm_norm=btm_norm, epsilon=epsilon)\n",
    "    lip_ = calc_lip(model, X, lip, top_norm=top_norm, btm_norm=btm_norm)\n",
    "    return lip_\n",
    "\n",
    "class ModelWrapper():\n",
    "    def __init__(self, model):\n",
    "        self.model = model\n",
    "    def predict_real(self, X):\n",
    "        return predict_real(self.model, X)\n",
    "    def predict(self, X):\n",
    "        return predict_real(self.model, X).argmax(axis=1)"
   ]
  },
  {
   "cell_type": "code",
   "execution_count": 10,
   "metadata": {},
   "outputs": [
    {
     "name": "stdout",
     "output_type": "stream",
     "text": [
      "30.94554163004557\n",
      "30.943932\n"
     ]
    }
   ],
   "source": [
    "model_path = \"./models/pgd-mnist-0.031-ce-tor-CNN001-inf-0.pt\"\n",
    "model = globals()[get_arch(model_path)](n_classes=10)\n",
    "model.load_state_dict(torch.load(model_path))\n",
    "model.eval()\n",
    "model.cuda()\n",
    "\n",
    "trnX, trny, tstX, tsty = auto_var.get_var_with_argument(\"dataset\", get_ds(model_path))\n",
    "lip_ = get_lip(model, trnX, btm_norm=np.inf, epsilon=0.03)\n",
    "print(lip_.mean())"
   ]
  },
  {
   "cell_type": "code",
   "execution_count": 11,
   "metadata": {},
   "outputs": [
    {
     "data": {
      "text/plain": [
       "array([5, 0, 4, ..., 5, 6, 8], dtype=uint8)"
      ]
     },
     "execution_count": 11,
     "metadata": {},
     "output_type": "execute_result"
    }
   ],
   "source": [
    "trny"
   ]
  },
  {
   "cell_type": "code",
   "execution_count": 32,
   "metadata": {},
   "outputs": [
    {
     "name": "stdout",
     "output_type": "stream",
     "text": [
      "0.0775341446240743\n"
     ]
    }
   ],
   "source": [
    "lip_ = get_lip(model, trnX)"
   ]
  },
  {
   "cell_type": "code",
   "execution_count": 34,
   "metadata": {},
   "outputs": [
    {
     "data": {
      "text/plain": [
       "0.07753084"
      ]
     },
     "execution_count": 34,
     "metadata": {},
     "output_type": "execute_result"
    }
   ],
   "source": [
    "np.attacks.torch.projected_gradient_descent import ProjectedGradientDescent\n",
    "nb_iter=10\n",
    "attack_model = ProjectedGradientDescent(\n",
    "    model_fn=model,\n",
    "    norm=np.inf,\n",
    "    eps=0.1,\n",
    "    eps_iter=0.1*2/nb_iter,\n",
    "    nb_iter=nb_iter,\n",
    ")\n",
    "\n",
    "adv_trnX = attack_model.perturb(trnX)\n",
    "adv_tstX = attack_model.perturb(tstX)\n",
    "print((ModelWrapper(model).predict(trnX) == trny).mean())\n",
    "print((ModelWrapper(model).predict(adv_trnX) == trny).mean())"
   ]
  },
  {
   "cell_type": "code",
   "execution_count": 17,
   "metadata": {},
   "outputs": [
    {
     "data": {
      "text/plain": [
       "array([5, 0, 4, ..., 5, 6, 8])"
      ]
     },
     "execution_count": 17,
     "metadata": {},
     "output_type": "execute_result"
    }
   ],
   "source": [
    "ModelWrapper(model).predict(trnX)"
   ]
  },
  {
   "cell_type": "code",
   "execution_count": 22,
   "metadata": {},
   "outputs": [
    {
     "data": {
      "text/plain": [
       "tensor([[  1.1423, -15.6917,  -2.8912,  10.5858, -23.0581,  16.7434, -13.0156,\n",
       "          -4.2783,  -6.4978,  -4.8898],\n",
       "        [ 37.1476, -22.2011,  -6.6458,  -2.7661, -23.4233,  11.0323, -16.3949,\n",
       "           0.3449,  -4.4311,  -9.6248],\n",
       "        [ -9.1166,  -7.7489,  -7.2385,  -2.2442,  18.8515,  -1.9383,  -7.7448,\n",
       "          -0.3562,  -2.3477,   9.9469],\n",
       "        [-11.4429,  15.3514,  -1.6532,  -1.5187,  -1.6904,  -6.5238,  -9.2465,\n",
       "           1.9417,   2.3212,  -1.5107],\n",
       "        [-11.5020,  -6.4233, -10.5065,  -9.7716,  11.6808,  -0.2899, -14.0837,\n",
       "           7.9795,   0.2486,  22.2252],\n",
       "        [ -5.8696, -16.1103,  20.7923,  -2.4183, -11.1075,  -6.0231,  -9.4093,\n",
       "           0.1035,  -1.5336,  -0.1243],\n",
       "        [-12.1381,  18.7317,   1.8925,   1.5545,  -6.0536,  -4.0237,  -6.7087,\n",
       "          -4.4256,  -0.2390,  -3.4156],\n",
       "        [  1.6682, -14.4947,   6.3997,  30.9872, -23.0401,   4.2524, -27.6506,\n",
       "         -12.2829,   5.5641,   0.2893],\n",
       "        [-10.8424,  15.2722,  -2.2534,  -2.2202,  -2.7596,  -3.0094,  -5.1515,\n",
       "          -3.2876,  -1.5673,   0.2698],\n",
       "        [ -7.8173,  -9.4487,  -7.0836,  -9.7945,  21.7490,   5.0895,  -3.3603,\n",
       "          -4.5483,  -1.1249,   8.3570]], grad_fn=<AddmmBackward>)"
      ]
     },
     "execution_count": 22,
     "metadata": {},
     "output_type": "execute_result"
    }
   ],
   "source": [
    "model(torch.Tensor(trnX[0:10].transpose(0, 3, 1, 2)))"
   ]
  }
 ],
 "metadata": {
  "kernelspec": {
   "display_name": "Python 3",
   "language": "python",
   "name": "python3"
  },
  "language_info": {
   "codemirror_mode": {
    "name": "ipython",
    "version": 3
   },
   "file_extension": ".py",
   "mimetype": "text/x-python",
   "name": "python",
   "nbconvert_exporter": "python",
   "pygments_lexer": "ipython3",
   "version": "3.7.4"
  }
 },
 "nbformat": 4,
 "nbformat_minor": 4
}
