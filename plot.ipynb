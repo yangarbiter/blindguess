{
 "cells": [
  {
   "cell_type": "code",
   "execution_count": 1,
   "metadata": {},
   "outputs": [],
   "source": [
    "import re\n",
    "from os.path import join\n",
    "from IPython.display import display\n",
    "\n",
    "import matplotlib.pyplot as plt\n",
    "import joblib\n",
    "import pandas as pd\n",
    "import numpy as np\n",
    "import torch\n",
    "import torch.utils.data as data_utils\n",
    "\n",
    "from lolip.models.torch_utils.archs import *\n",
    "from lolip.variables import auto_var\n",
    "from lolip.models.torch_model import TorchModel\n",
    "from lolip.utils import estimate_local_lip_v2\n",
    "from params import mnistLip, cifarLip, svhnLip, mnistOtherLips, mnistFixLips, cifarOtherLips\n",
    "from params import cifarFixLips, svhnOtherLips, resImgFixLips\n",
    "from utils import params_to_dataframe\n",
    "\n",
    "TEX_DIR = \"./tex_files\"\n",
    "\n",
    "auto_var.set_logging_level(0)"
   ]
  },
  {
   "cell_type": "code",
   "execution_count": 2,
   "metadata": {},
   "outputs": [],
   "source": [
    "def get_model_name(model_name, hyper=None):\n",
    "    if 'tulip' in model_name:\n",
    "        return 3, 'GR'\n",
    "    elif 'advkld' in model_name:\n",
    "        return 7, 'AT(KLD)'\n",
    "    elif 'advce' in model_name:\n",
    "        return 8, 'AT'\n",
    "    elif 'pstrades6' in model_name:\n",
    "        return 21, 'PTRADE(6)'\n",
    "    elif 'pstrades10' in model_name:\n",
    "        return 22, 'PTRADE(10)'\n",
    "    elif 'pstrades' in model_name:\n",
    "        return 20, 'PTRADE(1)'\n",
    "    elif 'strades6' in model_name:\n",
    "        return 11, 'TRADES(6)'\n",
    "    elif 'strades10' in model_name:\n",
    "        return 12, 'TRADES(10)'\n",
    "    elif 'strades' in model_name:\n",
    "        return 10, 'TRADES(1)'\n",
    "    elif 'ptrades6' in model_name:\n",
    "        return 14, 'PTRADE(6/b)'\n",
    "    elif 'ptrades10' in model_name:\n",
    "        return 15, 'PTRADE(10/b)'\n",
    "    elif 'ptrades' in model_name:\n",
    "        return 13, 'PTRADE(1/b)'\n",
    "    elif 'trades6' in model_name:\n",
    "        return 24, 'TRADES(6/b)'\n",
    "    elif 'trades10' in model_name:\n",
    "        return 25, 'TRADES(10/b)'\n",
    "    elif 'trades' in model_name:\n",
    "        return 23, 'TRADES(1/b)'\n",
    "    elif 'cure' in model_name:\n",
    "        return 5, 'CURE'\n",
    "    elif 'llr' in model_name:\n",
    "        return 4, 'LLR'\n",
    "    elif 'gr' in model_name:\n",
    "        return 2, 'GRv0'\n",
    "    elif 'kld' in model_name:\n",
    "        return 1, 'Natural(kld)'\n",
    "    else:\n",
    "        return 0, 'Natural'\n",
    "    \n",
    "col_name = {\n",
    "    'trn_acc': 'tr acc',\n",
    "    'tst_acc': 'ts acc',\n",
    "    'adv_trn_acc': 'adv tr acc',\n",
    "    'adv_tst_acc': 'adv ts acc',\n",
    "    'avg_trn_lip_kl': 'tr lip(KL)',\n",
    "    'avg_tst_lip_kl': 'ts lip(KL)',\n",
    "    'avg_trn_lip_1': 'tr lip(1)',\n",
    "    'avg_tst_lip_1': 'ts lip(1)',\n",
    "}\n",
    "\n",
    "def output_latex(df):\n",
    "    for name, d in df.groupby([\"dataset\", \"arch\"]):\n",
    "        d = d.set_index('loss_name')\n",
    "        d = d.sort_index(axis=0)\n",
    "        d.index = [i[1] for i in d.index]\n",
    "        d = d[['trn_acc', 'tst_acc', 'adv_trn_acc', 'adv_tst_acc', 'avg_trn_lip_1', 'avg_tst_lip_1']]\n",
    "        d = d.rename(columns=col_name)\n",
    "        tex = d.to_latex(index=True, float_format=\"%.2f\", column_format=\"lccccccccc\")\n",
    "        with open(join(TEX_DIR, \"_\".join(name)+\"_tab.tex\"), \"w\") as f:\n",
    "            f.write(tex)\n",
    "    print(tex)\n",
    "\n",
    "def display_results(exp, otherExp=None):\n",
    "    columns = ['trn_acc', 'tst_acc', 'adv_trn_acc', 'adv_tst_acc', 'avg_trn_lip', 'avg_tst_lip']\n",
    "    _, _, grid_params, _ = exp()()\n",
    "    df = params_to_dataframe(grid_params,\n",
    "                             columns=columns,\n",
    "                             result_file_dir='./results/experiment01/',\n",
    "                             logging_level=0)\n",
    "    for c in ['trn_acc', 'tst_acc', 'adv_trn_acc', 'adv_tst_acc']:\n",
    "        df[c] *= 100\n",
    "    if otherExp is not None:\n",
    "        _, _, grid_params, _ = otherExp()()\n",
    "        add_df = params_to_dataframe(grid_params,\n",
    "                                 columns=['avg_trn_lip_1', 'avg_tst_lip_1', 'avg_trn_lip_kl', 'avg_tst_lip_kl'],\n",
    "                                 result_file_dir='./results/experiment03/',\n",
    "                                 logging_level=0)\n",
    "\n",
    "        df = df.merge(add_df, how=\"left\", on=['model', 'dataset', 'attack', 'norm', 'eps', 'random_seed'])\n",
    "    else:\n",
    "        df['avg_trn_lip_1'] = np.nan\n",
    "        df['avg_tst_lip_1'] = np.nan\n",
    "        df['avg_trn_lip_kl'] = np.nan\n",
    "        df['avg_tst_lip_kl'] = np.nan\n",
    "\n",
    "    df['arch'] = df['model'].apply(lambda a: a.split(\"-\")[2])\n",
    "    df['loss_name'] = df['model'].apply(lambda a: get_model_name(a.split(\"-\")[0] if 'aug' not in a.split(\"-\")[0] else a.split(\"-\")[1]))\n",
    "    df['gen_gap'] = df['trn_acc'] - df['tst_acc']\n",
    "\n",
    "    for name, d in df.groupby([\"dataset\", \"arch\"]):\n",
    "        print(name)\n",
    "        display(d)\n",
    "    return df\n",
    "\n",
    "def display_results_fix(exp):\n",
    "    columns = ['trn_acc', 'tst_acc', 'adv_trn_acc', 'adv_tst_acc', 'avg_trn_lip_1', 'avg_tst_lip_1']\n",
    "    _, _, grid_params, _ = exp()()\n",
    "    df = params_to_dataframe(grid_params,\n",
    "                             columns=columns,\n",
    "                             result_file_dir='./results/experiment02/',\n",
    "                             logging_level=0)\n",
    "    for c in ['trn_acc', 'tst_acc', 'adv_trn_acc', 'adv_tst_acc']:\n",
    "        df[c] *= 100\n",
    "\n",
    "    df['arch'] = df['model'].apply(lambda a: a.split(\"-\")[2])\n",
    "    df['loss_name'] = df['model'].apply(lambda a: get_model_name(a.split(\"-\")[0] if 'aug' not in a.split(\"-\")[0] else a.split(\"-\")[1]))\n",
    "\n",
    "    for name, d in df.groupby([\"dataset\", \"arch\"]):\n",
    "        print(name)\n",
    "        display(d)\n",
    "    return df"
   ]
  },
  {
   "cell_type": "code",
   "execution_count": 3,
   "metadata": {},
   "outputs": [
    {
     "name": "stdout",
     "output_type": "stream",
     "text": [
      "('mnist', 'CNN001')\n"
     ]
    },
    {
     "data": {
      "text/html": [
       "<div>\n",
       "<style scoped>\n",
       "    .dataframe tbody tr th:only-of-type {\n",
       "        vertical-align: middle;\n",
       "    }\n",
       "\n",
       "    .dataframe tbody tr th {\n",
       "        vertical-align: top;\n",
       "    }\n",
       "\n",
       "    .dataframe thead th {\n",
       "        text-align: right;\n",
       "    }\n",
       "</style>\n",
       "<table border=\"1\" class=\"dataframe\">\n",
       "  <thead>\n",
       "    <tr style=\"text-align: right;\">\n",
       "      <th></th>\n",
       "      <th>attack</th>\n",
       "      <th>dataset</th>\n",
       "      <th>eps</th>\n",
       "      <th>model</th>\n",
       "      <th>norm</th>\n",
       "      <th>random_seed</th>\n",
       "      <th>trn_acc</th>\n",
       "      <th>tst_acc</th>\n",
       "      <th>adv_trn_acc</th>\n",
       "      <th>adv_tst_acc</th>\n",
       "      <th>avg_trn_lip_1</th>\n",
       "      <th>avg_tst_lip_1</th>\n",
       "      <th>arch</th>\n",
       "      <th>loss_name</th>\n",
       "    </tr>\n",
       "  </thead>\n",
       "  <tbody>\n",
       "    <tr>\n",
       "      <th>0</th>\n",
       "      <td>pgd</td>\n",
       "      <td>mnist</td>\n",
       "      <td>0.1</td>\n",
       "      <td>strades6ce-tor-CNN001</td>\n",
       "      <td>inf</td>\n",
       "      <td>0</td>\n",
       "      <td>96.981667</td>\n",
       "      <td>97.07</td>\n",
       "      <td>91.415000</td>\n",
       "      <td>91.31</td>\n",
       "      <td>2.737411</td>\n",
       "      <td>2.752654</td>\n",
       "      <td>CNN001</td>\n",
       "      <td>(11, TRADE(6))</td>\n",
       "    </tr>\n",
       "    <tr>\n",
       "      <th>1</th>\n",
       "      <td>pgd</td>\n",
       "      <td>mnist</td>\n",
       "      <td>0.1</td>\n",
       "      <td>stradesce-tor-CNN001</td>\n",
       "      <td>inf</td>\n",
       "      <td>0</td>\n",
       "      <td>99.806667</td>\n",
       "      <td>99.26</td>\n",
       "      <td>98.696667</td>\n",
       "      <td>96.60</td>\n",
       "      <td>9.619464</td>\n",
       "      <td>9.690696</td>\n",
       "      <td>CNN001</td>\n",
       "      <td>(10, TRADE(1))</td>\n",
       "    </tr>\n",
       "    <tr>\n",
       "      <th>2</th>\n",
       "      <td>pgd</td>\n",
       "      <td>mnist</td>\n",
       "      <td>0.1</td>\n",
       "      <td>ce-tor-CNN001</td>\n",
       "      <td>inf</td>\n",
       "      <td>0</td>\n",
       "      <td>100.000000</td>\n",
       "      <td>99.20</td>\n",
       "      <td>60.280000</td>\n",
       "      <td>59.83</td>\n",
       "      <td>66.886009</td>\n",
       "      <td>67.246512</td>\n",
       "      <td>CNN001</td>\n",
       "      <td>(0, Natural)</td>\n",
       "    </tr>\n",
       "    <tr>\n",
       "      <th>3</th>\n",
       "      <td>pgd</td>\n",
       "      <td>mnist</td>\n",
       "      <td>0.1</td>\n",
       "      <td>tulipce-tor-CNN001</td>\n",
       "      <td>inf</td>\n",
       "      <td>0</td>\n",
       "      <td>99.988333</td>\n",
       "      <td>99.29</td>\n",
       "      <td>94.516667</td>\n",
       "      <td>91.03</td>\n",
       "      <td>26.081958</td>\n",
       "      <td>26.047614</td>\n",
       "      <td>CNN001</td>\n",
       "      <td>(3, GR)</td>\n",
       "    </tr>\n",
       "    <tr>\n",
       "      <th>4</th>\n",
       "      <td>pgd</td>\n",
       "      <td>mnist</td>\n",
       "      <td>0.1</td>\n",
       "      <td>advce-tor-CNN001</td>\n",
       "      <td>inf</td>\n",
       "      <td>0</td>\n",
       "      <td>99.981667</td>\n",
       "      <td>99.31</td>\n",
       "      <td>99.883333</td>\n",
       "      <td>97.21</td>\n",
       "      <td>8.730167</td>\n",
       "      <td>8.840337</td>\n",
       "      <td>CNN001</td>\n",
       "      <td>(8, AT)</td>\n",
       "    </tr>\n",
       "    <tr>\n",
       "      <th>5</th>\n",
       "      <td>pgd</td>\n",
       "      <td>mnist</td>\n",
       "      <td>0.1</td>\n",
       "      <td>llrce-tor-CNN001</td>\n",
       "      <td>inf</td>\n",
       "      <td>0</td>\n",
       "      <td>99.998333</td>\n",
       "      <td>99.34</td>\n",
       "      <td>97.725000</td>\n",
       "      <td>92.38</td>\n",
       "      <td>33.917080</td>\n",
       "      <td>34.063950</td>\n",
       "      <td>CNN001</td>\n",
       "      <td>(4, LLR)</td>\n",
       "    </tr>\n",
       "  </tbody>\n",
       "</table>\n",
       "</div>"
      ],
      "text/plain": [
       "  attack dataset  eps                  model norm  random_seed     trn_acc  \\\n",
       "0    pgd   mnist  0.1  strades6ce-tor-CNN001  inf            0   96.981667   \n",
       "1    pgd   mnist  0.1   stradesce-tor-CNN001  inf            0   99.806667   \n",
       "2    pgd   mnist  0.1          ce-tor-CNN001  inf            0  100.000000   \n",
       "3    pgd   mnist  0.1     tulipce-tor-CNN001  inf            0   99.988333   \n",
       "4    pgd   mnist  0.1       advce-tor-CNN001  inf            0   99.981667   \n",
       "5    pgd   mnist  0.1       llrce-tor-CNN001  inf            0   99.998333   \n",
       "\n",
       "   tst_acc  adv_trn_acc  adv_tst_acc  avg_trn_lip_1  avg_tst_lip_1    arch  \\\n",
       "0    97.07    91.415000        91.31       2.737411       2.752654  CNN001   \n",
       "1    99.26    98.696667        96.60       9.619464       9.690696  CNN001   \n",
       "2    99.20    60.280000        59.83      66.886009      67.246512  CNN001   \n",
       "3    99.29    94.516667        91.03      26.081958      26.047614  CNN001   \n",
       "4    99.31    99.883333        97.21       8.730167       8.840337  CNN001   \n",
       "5    99.34    97.725000        92.38      33.917080      34.063950  CNN001   \n",
       "\n",
       "        loss_name  \n",
       "0  (11, TRADE(6))  \n",
       "1  (10, TRADE(1))  \n",
       "2    (0, Natural)  \n",
       "3         (3, GR)  \n",
       "4         (8, AT)  \n",
       "5        (4, LLR)  "
      ]
     },
     "metadata": {},
     "output_type": "display_data"
    },
    {
     "name": "stdout",
     "output_type": "stream",
     "text": [
      "('mnist', 'CNN002')\n"
     ]
    },
    {
     "data": {
      "text/html": [
       "<div>\n",
       "<style scoped>\n",
       "    .dataframe tbody tr th:only-of-type {\n",
       "        vertical-align: middle;\n",
       "    }\n",
       "\n",
       "    .dataframe tbody tr th {\n",
       "        vertical-align: top;\n",
       "    }\n",
       "\n",
       "    .dataframe thead th {\n",
       "        text-align: right;\n",
       "    }\n",
       "</style>\n",
       "<table border=\"1\" class=\"dataframe\">\n",
       "  <thead>\n",
       "    <tr style=\"text-align: right;\">\n",
       "      <th></th>\n",
       "      <th>attack</th>\n",
       "      <th>dataset</th>\n",
       "      <th>eps</th>\n",
       "      <th>model</th>\n",
       "      <th>norm</th>\n",
       "      <th>random_seed</th>\n",
       "      <th>trn_acc</th>\n",
       "      <th>tst_acc</th>\n",
       "      <th>adv_trn_acc</th>\n",
       "      <th>adv_tst_acc</th>\n",
       "      <th>avg_trn_lip_1</th>\n",
       "      <th>avg_tst_lip_1</th>\n",
       "      <th>arch</th>\n",
       "      <th>loss_name</th>\n",
       "    </tr>\n",
       "  </thead>\n",
       "  <tbody>\n",
       "    <tr>\n",
       "      <th>6</th>\n",
       "      <td>pgd</td>\n",
       "      <td>mnist</td>\n",
       "      <td>0.1</td>\n",
       "      <td>strades6ce-tor-CNN002</td>\n",
       "      <td>inf</td>\n",
       "      <td>0</td>\n",
       "      <td>99.613333</td>\n",
       "      <td>99.59</td>\n",
       "      <td>99.533333</td>\n",
       "      <td>98.73</td>\n",
       "      <td>1.351692</td>\n",
       "      <td>1.360831</td>\n",
       "      <td>CNN002</td>\n",
       "      <td>(11, TRADE(6))</td>\n",
       "    </tr>\n",
       "    <tr>\n",
       "      <th>7</th>\n",
       "      <td>pgd</td>\n",
       "      <td>mnist</td>\n",
       "      <td>0.1</td>\n",
       "      <td>stradesce-tor-CNN002</td>\n",
       "      <td>inf</td>\n",
       "      <td>0</td>\n",
       "      <td>99.963333</td>\n",
       "      <td>99.58</td>\n",
       "      <td>99.800000</td>\n",
       "      <td>98.10</td>\n",
       "      <td>4.687971</td>\n",
       "      <td>4.741066</td>\n",
       "      <td>CNN002</td>\n",
       "      <td>(10, TRADE(1))</td>\n",
       "    </tr>\n",
       "    <tr>\n",
       "      <th>8</th>\n",
       "      <td>pgd</td>\n",
       "      <td>mnist</td>\n",
       "      <td>0.1</td>\n",
       "      <td>ce-tor-CNN002</td>\n",
       "      <td>inf</td>\n",
       "      <td>0</td>\n",
       "      <td>100.000000</td>\n",
       "      <td>99.51</td>\n",
       "      <td>85.728333</td>\n",
       "      <td>86.01</td>\n",
       "      <td>23.046890</td>\n",
       "      <td>23.062061</td>\n",
       "      <td>CNN002</td>\n",
       "      <td>(0, Natural)</td>\n",
       "    </tr>\n",
       "    <tr>\n",
       "      <th>9</th>\n",
       "      <td>pgd</td>\n",
       "      <td>mnist</td>\n",
       "      <td>0.1</td>\n",
       "      <td>tulipce-tor-CNN002</td>\n",
       "      <td>inf</td>\n",
       "      <td>0</td>\n",
       "      <td>99.993333</td>\n",
       "      <td>99.55</td>\n",
       "      <td>96.263333</td>\n",
       "      <td>93.71</td>\n",
       "      <td>20.466134</td>\n",
       "      <td>20.264725</td>\n",
       "      <td>CNN002</td>\n",
       "      <td>(3, GR)</td>\n",
       "    </tr>\n",
       "    <tr>\n",
       "      <th>10</th>\n",
       "      <td>pgd</td>\n",
       "      <td>mnist</td>\n",
       "      <td>0.1</td>\n",
       "      <td>advce-tor-CNN002</td>\n",
       "      <td>inf</td>\n",
       "      <td>0</td>\n",
       "      <td>99.981667</td>\n",
       "      <td>99.48</td>\n",
       "      <td>99.950000</td>\n",
       "      <td>98.03</td>\n",
       "      <td>6.027635</td>\n",
       "      <td>6.090549</td>\n",
       "      <td>CNN002</td>\n",
       "      <td>(8, AT)</td>\n",
       "    </tr>\n",
       "    <tr>\n",
       "      <th>11</th>\n",
       "      <td>pgd</td>\n",
       "      <td>mnist</td>\n",
       "      <td>0.1</td>\n",
       "      <td>llrce-tor-CNN002</td>\n",
       "      <td>inf</td>\n",
       "      <td>0</td>\n",
       "      <td>100.000000</td>\n",
       "      <td>99.58</td>\n",
       "      <td>97.878333</td>\n",
       "      <td>95.55</td>\n",
       "      <td>9.077055</td>\n",
       "      <td>9.068392</td>\n",
       "      <td>CNN002</td>\n",
       "      <td>(4, LLR)</td>\n",
       "    </tr>\n",
       "  </tbody>\n",
       "</table>\n",
       "</div>"
      ],
      "text/plain": [
       "   attack dataset  eps                  model norm  random_seed     trn_acc  \\\n",
       "6     pgd   mnist  0.1  strades6ce-tor-CNN002  inf            0   99.613333   \n",
       "7     pgd   mnist  0.1   stradesce-tor-CNN002  inf            0   99.963333   \n",
       "8     pgd   mnist  0.1          ce-tor-CNN002  inf            0  100.000000   \n",
       "9     pgd   mnist  0.1     tulipce-tor-CNN002  inf            0   99.993333   \n",
       "10    pgd   mnist  0.1       advce-tor-CNN002  inf            0   99.981667   \n",
       "11    pgd   mnist  0.1       llrce-tor-CNN002  inf            0  100.000000   \n",
       "\n",
       "    tst_acc  adv_trn_acc  adv_tst_acc  avg_trn_lip_1  avg_tst_lip_1    arch  \\\n",
       "6     99.59    99.533333        98.73       1.351692       1.360831  CNN002   \n",
       "7     99.58    99.800000        98.10       4.687971       4.741066  CNN002   \n",
       "8     99.51    85.728333        86.01      23.046890      23.062061  CNN002   \n",
       "9     99.55    96.263333        93.71      20.466134      20.264725  CNN002   \n",
       "10    99.48    99.950000        98.03       6.027635       6.090549  CNN002   \n",
       "11    99.58    97.878333        95.55       9.077055       9.068392  CNN002   \n",
       "\n",
       "         loss_name  \n",
       "6   (11, TRADE(6))  \n",
       "7   (10, TRADE(1))  \n",
       "8     (0, Natural)  \n",
       "9          (3, GR)  \n",
       "10         (8, AT)  \n",
       "11        (4, LLR)  "
      ]
     },
     "metadata": {},
     "output_type": "display_data"
    },
    {
     "name": "stdout",
     "output_type": "stream",
     "text": [
      "\\begin{tabular}{lccccccccc}\n",
      "\\toprule\n",
      "{} &  tr acc &  ts acc &  adv tr acc &  adv ts acc &  tr lip(1) &  ts lip(1) \\\\\n",
      "\\midrule\n",
      "Natural  &  100.00 &   99.51 &       85.73 &       86.01 &      23.05 &      23.06 \\\\\n",
      "GR       &   99.99 &   99.55 &       96.26 &       93.71 &      20.47 &      20.26 \\\\\n",
      "LLR      &  100.00 &   99.58 &       97.88 &       95.55 &       9.08 &       9.07 \\\\\n",
      "AT       &   99.98 &   99.48 &       99.95 &       98.03 &       6.03 &       6.09 \\\\\n",
      "TRADE(1) &   99.96 &   99.58 &       99.80 &       98.10 &       4.69 &       4.74 \\\\\n",
      "TRADE(6) &   99.61 &   99.59 &       99.53 &       98.73 &       1.35 &       1.36 \\\\\n",
      "\\bottomrule\n",
      "\\end{tabular}\n",
      "\n"
     ]
    }
   ],
   "source": [
    "df = display_results_fix(mnistFixLips)\n",
    "output_latex(df)"
   ]
  },
  {
   "cell_type": "code",
   "execution_count": 4,
   "metadata": {},
   "outputs": [
    {
     "name": "stdout",
     "output_type": "stream",
     "text": [
      "('cifar10', 'WRN_40_10')\n"
     ]
    },
    {
     "data": {
      "text/html": [
       "<div>\n",
       "<style scoped>\n",
       "    .dataframe tbody tr th:only-of-type {\n",
       "        vertical-align: middle;\n",
       "    }\n",
       "\n",
       "    .dataframe tbody tr th {\n",
       "        vertical-align: top;\n",
       "    }\n",
       "\n",
       "    .dataframe thead th {\n",
       "        text-align: right;\n",
       "    }\n",
       "</style>\n",
       "<table border=\"1\" class=\"dataframe\">\n",
       "  <thead>\n",
       "    <tr style=\"text-align: right;\">\n",
       "      <th></th>\n",
       "      <th>attack</th>\n",
       "      <th>dataset</th>\n",
       "      <th>eps</th>\n",
       "      <th>model</th>\n",
       "      <th>norm</th>\n",
       "      <th>random_seed</th>\n",
       "      <th>trn_acc</th>\n",
       "      <th>tst_acc</th>\n",
       "      <th>adv_trn_acc</th>\n",
       "      <th>adv_tst_acc</th>\n",
       "      <th>avg_trn_lip_1</th>\n",
       "      <th>avg_tst_lip_1</th>\n",
       "      <th>arch</th>\n",
       "      <th>loss_name</th>\n",
       "    </tr>\n",
       "  </thead>\n",
       "  <tbody>\n",
       "    <tr>\n",
       "      <th>0</th>\n",
       "      <td>pgd</td>\n",
       "      <td>cifar10</td>\n",
       "      <td>0.031</td>\n",
       "      <td>ce-tor-WRN_40_10</td>\n",
       "      <td>inf</td>\n",
       "      <td>0</td>\n",
       "      <td>100.000</td>\n",
       "      <td>88.62</td>\n",
       "      <td>0.000</td>\n",
       "      <td>0.00</td>\n",
       "      <td>347.441545</td>\n",
       "      <td>356.456262</td>\n",
       "      <td>WRN_40_10</td>\n",
       "      <td>(0, Natural)</td>\n",
       "    </tr>\n",
       "    <tr>\n",
       "      <th>1</th>\n",
       "      <td>pgd</td>\n",
       "      <td>cifar10</td>\n",
       "      <td>0.031</td>\n",
       "      <td>tulipce-tor-WRN_40_10</td>\n",
       "      <td>inf</td>\n",
       "      <td>0</td>\n",
       "      <td>99.714</td>\n",
       "      <td>71.68</td>\n",
       "      <td>22.950</td>\n",
       "      <td>13.73</td>\n",
       "      <td>33.186252</td>\n",
       "      <td>33.265875</td>\n",
       "      <td>WRN_40_10</td>\n",
       "      <td>(3, GR)</td>\n",
       "    </tr>\n",
       "    <tr>\n",
       "      <th>2</th>\n",
       "      <td>pgd</td>\n",
       "      <td>cifar10</td>\n",
       "      <td>0.031</td>\n",
       "      <td>stradesce-tor-WRN_40_10</td>\n",
       "      <td>inf</td>\n",
       "      <td>0</td>\n",
       "      <td>100.000</td>\n",
       "      <td>81.61</td>\n",
       "      <td>99.996</td>\n",
       "      <td>38.06</td>\n",
       "      <td>24.386368</td>\n",
       "      <td>30.786882</td>\n",
       "      <td>WRN_40_10</td>\n",
       "      <td>(10, TRADE(1))</td>\n",
       "    </tr>\n",
       "    <tr>\n",
       "      <th>3</th>\n",
       "      <td>pgd</td>\n",
       "      <td>cifar10</td>\n",
       "      <td>0.031</td>\n",
       "      <td>strades6ce-tor-WRN_40_10</td>\n",
       "      <td>inf</td>\n",
       "      <td>0</td>\n",
       "      <td>99.794</td>\n",
       "      <td>78.34</td>\n",
       "      <td>99.752</td>\n",
       "      <td>37.33</td>\n",
       "      <td>11.143698</td>\n",
       "      <td>19.788508</td>\n",
       "      <td>WRN_40_10</td>\n",
       "      <td>(11, TRADE(6))</td>\n",
       "    </tr>\n",
       "    <tr>\n",
       "      <th>4</th>\n",
       "      <td>pgd</td>\n",
       "      <td>cifar10</td>\n",
       "      <td>0.031</td>\n",
       "      <td>advce-tor-WRN_40_10</td>\n",
       "      <td>inf</td>\n",
       "      <td>0</td>\n",
       "      <td>99.982</td>\n",
       "      <td>74.00</td>\n",
       "      <td>99.694</td>\n",
       "      <td>33.09</td>\n",
       "      <td>16.087958</td>\n",
       "      <td>16.896749</td>\n",
       "      <td>WRN_40_10</td>\n",
       "      <td>(8, AT)</td>\n",
       "    </tr>\n",
       "    <tr>\n",
       "      <th>5</th>\n",
       "      <td>pgd</td>\n",
       "      <td>cifar10</td>\n",
       "      <td>0.031</td>\n",
       "      <td>llrce-tor-WRN_40_10</td>\n",
       "      <td>inf</td>\n",
       "      <td>0</td>\n",
       "      <td>100.000</td>\n",
       "      <td>89.12</td>\n",
       "      <td>22.532</td>\n",
       "      <td>15.83</td>\n",
       "      <td>57.875086</td>\n",
       "      <td>61.140412</td>\n",
       "      <td>WRN_40_10</td>\n",
       "      <td>(4, LLR)</td>\n",
       "    </tr>\n",
       "  </tbody>\n",
       "</table>\n",
       "</div>"
      ],
      "text/plain": [
       "  attack  dataset    eps                     model norm  random_seed  trn_acc  \\\n",
       "0    pgd  cifar10  0.031          ce-tor-WRN_40_10  inf            0  100.000   \n",
       "1    pgd  cifar10  0.031     tulipce-tor-WRN_40_10  inf            0   99.714   \n",
       "2    pgd  cifar10  0.031   stradesce-tor-WRN_40_10  inf            0  100.000   \n",
       "3    pgd  cifar10  0.031  strades6ce-tor-WRN_40_10  inf            0   99.794   \n",
       "4    pgd  cifar10  0.031       advce-tor-WRN_40_10  inf            0   99.982   \n",
       "5    pgd  cifar10  0.031       llrce-tor-WRN_40_10  inf            0  100.000   \n",
       "\n",
       "   tst_acc  adv_trn_acc  adv_tst_acc  avg_trn_lip_1  avg_tst_lip_1       arch  \\\n",
       "0    88.62        0.000         0.00     347.441545     356.456262  WRN_40_10   \n",
       "1    71.68       22.950        13.73      33.186252      33.265875  WRN_40_10   \n",
       "2    81.61       99.996        38.06      24.386368      30.786882  WRN_40_10   \n",
       "3    78.34       99.752        37.33      11.143698      19.788508  WRN_40_10   \n",
       "4    74.00       99.694        33.09      16.087958      16.896749  WRN_40_10   \n",
       "5    89.12       22.532        15.83      57.875086      61.140412  WRN_40_10   \n",
       "\n",
       "        loss_name  \n",
       "0    (0, Natural)  \n",
       "1         (3, GR)  \n",
       "2  (10, TRADE(1))  \n",
       "3  (11, TRADE(6))  \n",
       "4         (8, AT)  \n",
       "5        (4, LLR)  "
      ]
     },
     "metadata": {},
     "output_type": "display_data"
    },
    {
     "name": "stdout",
     "output_type": "stream",
     "text": [
      "('cifar10', 'tor')\n"
     ]
    },
    {
     "data": {
      "text/html": [
       "<div>\n",
       "<style scoped>\n",
       "    .dataframe tbody tr th:only-of-type {\n",
       "        vertical-align: middle;\n",
       "    }\n",
       "\n",
       "    .dataframe tbody tr th {\n",
       "        vertical-align: top;\n",
       "    }\n",
       "\n",
       "    .dataframe thead th {\n",
       "        text-align: right;\n",
       "    }\n",
       "</style>\n",
       "<table border=\"1\" class=\"dataframe\">\n",
       "  <thead>\n",
       "    <tr style=\"text-align: right;\">\n",
       "      <th></th>\n",
       "      <th>attack</th>\n",
       "      <th>dataset</th>\n",
       "      <th>eps</th>\n",
       "      <th>model</th>\n",
       "      <th>norm</th>\n",
       "      <th>random_seed</th>\n",
       "      <th>trn_acc</th>\n",
       "      <th>tst_acc</th>\n",
       "      <th>adv_trn_acc</th>\n",
       "      <th>adv_tst_acc</th>\n",
       "      <th>avg_trn_lip_1</th>\n",
       "      <th>avg_tst_lip_1</th>\n",
       "      <th>arch</th>\n",
       "      <th>loss_name</th>\n",
       "    </tr>\n",
       "  </thead>\n",
       "  <tbody>\n",
       "    <tr>\n",
       "      <th>6</th>\n",
       "      <td>pgd</td>\n",
       "      <td>cifar10</td>\n",
       "      <td>0.031</td>\n",
       "      <td>aug01-ce-tor-WRN_40_10</td>\n",
       "      <td>inf</td>\n",
       "      <td>0</td>\n",
       "      <td>100.000</td>\n",
       "      <td>93.81</td>\n",
       "      <td>0.002</td>\n",
       "      <td>0.00</td>\n",
       "      <td>418.622176</td>\n",
       "      <td>425.708713</td>\n",
       "      <td>tor</td>\n",
       "      <td>(0, Natural)</td>\n",
       "    </tr>\n",
       "    <tr>\n",
       "      <th>7</th>\n",
       "      <td>pgd</td>\n",
       "      <td>cifar10</td>\n",
       "      <td>0.031</td>\n",
       "      <td>aug01-tulipce-tor-WRN_40_10</td>\n",
       "      <td>inf</td>\n",
       "      <td>0</td>\n",
       "      <td>94.904</td>\n",
       "      <td>80.74</td>\n",
       "      <td>25.264</td>\n",
       "      <td>21.32</td>\n",
       "      <td>28.566197</td>\n",
       "      <td>28.527540</td>\n",
       "      <td>tor</td>\n",
       "      <td>(3, GR)</td>\n",
       "    </tr>\n",
       "    <tr>\n",
       "      <th>8</th>\n",
       "      <td>pgd</td>\n",
       "      <td>cifar10</td>\n",
       "      <td>0.031</td>\n",
       "      <td>aug01-strades6ce-tor-WRN_40_10</td>\n",
       "      <td>inf</td>\n",
       "      <td>0</td>\n",
       "      <td>98.928</td>\n",
       "      <td>84.46</td>\n",
       "      <td>91.234</td>\n",
       "      <td>48.58</td>\n",
       "      <td>10.059369</td>\n",
       "      <td>13.048935</td>\n",
       "      <td>tor</td>\n",
       "      <td>(11, TRADE(6))</td>\n",
       "    </tr>\n",
       "    <tr>\n",
       "      <th>9</th>\n",
       "      <td>pgd</td>\n",
       "      <td>cifar10</td>\n",
       "      <td>0.031</td>\n",
       "      <td>aug01-stradesce-tor-WRN_40_10</td>\n",
       "      <td>inf</td>\n",
       "      <td>0</td>\n",
       "      <td>99.760</td>\n",
       "      <td>84.96</td>\n",
       "      <td>88.260</td>\n",
       "      <td>43.66</td>\n",
       "      <td>25.408692</td>\n",
       "      <td>28.009600</td>\n",
       "      <td>tor</td>\n",
       "      <td>(10, TRADE(1))</td>\n",
       "    </tr>\n",
       "    <tr>\n",
       "      <th>10</th>\n",
       "      <td>pgd</td>\n",
       "      <td>cifar10</td>\n",
       "      <td>0.031</td>\n",
       "      <td>aug01-advce-tor-WRN_40_10-lrem2</td>\n",
       "      <td>inf</td>\n",
       "      <td>0</td>\n",
       "      <td>99.842</td>\n",
       "      <td>83.51</td>\n",
       "      <td>93.450</td>\n",
       "      <td>43.51</td>\n",
       "      <td>24.322157</td>\n",
       "      <td>26.230431</td>\n",
       "      <td>tor</td>\n",
       "      <td>(8, AT)</td>\n",
       "    </tr>\n",
       "    <tr>\n",
       "      <th>11</th>\n",
       "      <td>pgd</td>\n",
       "      <td>cifar10</td>\n",
       "      <td>0.031</td>\n",
       "      <td>aug01-llrce-tor-WRN_40_10</td>\n",
       "      <td>inf</td>\n",
       "      <td>0</td>\n",
       "      <td>100.000</td>\n",
       "      <td>92.48</td>\n",
       "      <td>20.156</td>\n",
       "      <td>18.23</td>\n",
       "      <td>65.973042</td>\n",
       "      <td>70.279050</td>\n",
       "      <td>tor</td>\n",
       "      <td>(4, LLR)</td>\n",
       "    </tr>\n",
       "  </tbody>\n",
       "</table>\n",
       "</div>"
      ],
      "text/plain": [
       "   attack  dataset    eps                            model norm  random_seed  \\\n",
       "6     pgd  cifar10  0.031           aug01-ce-tor-WRN_40_10  inf            0   \n",
       "7     pgd  cifar10  0.031      aug01-tulipce-tor-WRN_40_10  inf            0   \n",
       "8     pgd  cifar10  0.031   aug01-strades6ce-tor-WRN_40_10  inf            0   \n",
       "9     pgd  cifar10  0.031    aug01-stradesce-tor-WRN_40_10  inf            0   \n",
       "10    pgd  cifar10  0.031  aug01-advce-tor-WRN_40_10-lrem2  inf            0   \n",
       "11    pgd  cifar10  0.031        aug01-llrce-tor-WRN_40_10  inf            0   \n",
       "\n",
       "    trn_acc  tst_acc  adv_trn_acc  adv_tst_acc  avg_trn_lip_1  avg_tst_lip_1  \\\n",
       "6   100.000    93.81        0.002         0.00     418.622176     425.708713   \n",
       "7    94.904    80.74       25.264        21.32      28.566197      28.527540   \n",
       "8    98.928    84.46       91.234        48.58      10.059369      13.048935   \n",
       "9    99.760    84.96       88.260        43.66      25.408692      28.009600   \n",
       "10   99.842    83.51       93.450        43.51      24.322157      26.230431   \n",
       "11  100.000    92.48       20.156        18.23      65.973042      70.279050   \n",
       "\n",
       "   arch       loss_name  \n",
       "6   tor    (0, Natural)  \n",
       "7   tor         (3, GR)  \n",
       "8   tor  (11, TRADE(6))  \n",
       "9   tor  (10, TRADE(1))  \n",
       "10  tor         (8, AT)  \n",
       "11  tor        (4, LLR)  "
      ]
     },
     "metadata": {},
     "output_type": "display_data"
    },
    {
     "name": "stdout",
     "output_type": "stream",
     "text": [
      "\\begin{tabular}{lccccccccc}\n",
      "\\toprule\n",
      "{} &  tr acc &  ts acc &  adv tr acc &  adv ts acc &  tr lip(1) &  ts lip(1) \\\\\n",
      "\\midrule\n",
      "Natural  &  100.00 &   93.81 &        0.00 &        0.00 &     418.62 &     425.71 \\\\\n",
      "GR       &   94.90 &   80.74 &       25.26 &       21.32 &      28.57 &      28.53 \\\\\n",
      "LLR      &  100.00 &   92.48 &       20.16 &       18.23 &      65.97 &      70.28 \\\\\n",
      "AT       &   99.84 &   83.51 &       93.45 &       43.51 &      24.32 &      26.23 \\\\\n",
      "TRADE(1) &   99.76 &   84.96 &       88.26 &       43.66 &      25.41 &      28.01 \\\\\n",
      "TRADE(6) &   98.93 &   84.46 &       91.23 &       48.58 &      10.06 &      13.05 \\\\\n",
      "\\bottomrule\n",
      "\\end{tabular}\n",
      "\n"
     ]
    }
   ],
   "source": [
    "#df = display_results(cifarLip, cifarOtherLips)\n",
    "df = display_results_fix(cifarFixLips)\n",
    "output_latex(df)"
   ]
  },
  {
   "cell_type": "code",
   "execution_count": 5,
   "metadata": {},
   "outputs": [
    {
     "name": "stdout",
     "output_type": "stream",
     "text": [
      "('svhn', 'WRN_40_10')\n"
     ]
    },
    {
     "data": {
      "text/html": [
       "<div>\n",
       "<style scoped>\n",
       "    .dataframe tbody tr th:only-of-type {\n",
       "        vertical-align: middle;\n",
       "    }\n",
       "\n",
       "    .dataframe tbody tr th {\n",
       "        vertical-align: top;\n",
       "    }\n",
       "\n",
       "    .dataframe thead th {\n",
       "        text-align: right;\n",
       "    }\n",
       "</style>\n",
       "<table border=\"1\" class=\"dataframe\">\n",
       "  <thead>\n",
       "    <tr style=\"text-align: right;\">\n",
       "      <th></th>\n",
       "      <th>attack</th>\n",
       "      <th>dataset</th>\n",
       "      <th>eps</th>\n",
       "      <th>model</th>\n",
       "      <th>norm</th>\n",
       "      <th>random_seed</th>\n",
       "      <th>trn_acc</th>\n",
       "      <th>tst_acc</th>\n",
       "      <th>adv_trn_acc</th>\n",
       "      <th>adv_tst_acc</th>\n",
       "      <th>avg_trn_lip</th>\n",
       "      <th>avg_tst_lip</th>\n",
       "      <th>avg_trn_lip_1</th>\n",
       "      <th>avg_tst_lip_1</th>\n",
       "      <th>avg_trn_lip_kl</th>\n",
       "      <th>avg_tst_lip_kl</th>\n",
       "      <th>arch</th>\n",
       "      <th>loss_name</th>\n",
       "      <th>gen_gap</th>\n",
       "    </tr>\n",
       "  </thead>\n",
       "  <tbody>\n",
       "    <tr>\n",
       "      <th>0</th>\n",
       "      <td>pgd</td>\n",
       "      <td>svhn</td>\n",
       "      <td>0.031</td>\n",
       "      <td>ce-tor-WRN_40_10</td>\n",
       "      <td>inf</td>\n",
       "      <td>0</td>\n",
       "      <td>0.999986</td>\n",
       "      <td>0.958474</td>\n",
       "      <td>0.034290</td>\n",
       "      <td>0.024700</td>\n",
       "      <td>48.150909</td>\n",
       "      <td>48.617779</td>\n",
       "      <td>149.078116</td>\n",
       "      <td>149.817892</td>\n",
       "      <td>0.045008</td>\n",
       "      <td>0.738318</td>\n",
       "      <td>WRN_40_10</td>\n",
       "      <td>(0, Natural)</td>\n",
       "      <td>0.041512</td>\n",
       "    </tr>\n",
       "    <tr>\n",
       "      <th>1</th>\n",
       "      <td>pgd</td>\n",
       "      <td>svhn</td>\n",
       "      <td>0.031</td>\n",
       "      <td>strades6ce-tor-WRN_40_10</td>\n",
       "      <td>inf</td>\n",
       "      <td>0</td>\n",
       "      <td>0.971853</td>\n",
       "      <td>0.918331</td>\n",
       "      <td>0.819990</td>\n",
       "      <td>0.581131</td>\n",
       "      <td>1.166008</td>\n",
       "      <td>1.597083</td>\n",
       "      <td>3.849708</td>\n",
       "      <td>5.199245</td>\n",
       "      <td>0.001586</td>\n",
       "      <td>0.005057</td>\n",
       "      <td>WRN_40_10</td>\n",
       "      <td>(11, TRADE(6))</td>\n",
       "      <td>0.053521</td>\n",
       "    </tr>\n",
       "    <tr>\n",
       "      <th>2</th>\n",
       "      <td>pgd</td>\n",
       "      <td>svhn</td>\n",
       "      <td>0.031</td>\n",
       "      <td>strades10ce-tor-WRN_40_10</td>\n",
       "      <td>inf</td>\n",
       "      <td>0</td>\n",
       "      <td>0.946299</td>\n",
       "      <td>0.903542</td>\n",
       "      <td>0.795419</td>\n",
       "      <td>0.575791</td>\n",
       "      <td>0.805747</td>\n",
       "      <td>1.146986</td>\n",
       "      <td>NaN</td>\n",
       "      <td>NaN</td>\n",
       "      <td>NaN</td>\n",
       "      <td>NaN</td>\n",
       "      <td>WRN_40_10</td>\n",
       "      <td>(12, TRADE(10))</td>\n",
       "      <td>0.042757</td>\n",
       "    </tr>\n",
       "    <tr>\n",
       "      <th>3</th>\n",
       "      <td>pgd</td>\n",
       "      <td>svhn</td>\n",
       "      <td>0.031</td>\n",
       "      <td>curece-tor-WRN_40_10</td>\n",
       "      <td>inf</td>\n",
       "      <td>0</td>\n",
       "      <td>0.910029</td>\n",
       "      <td>0.907230</td>\n",
       "      <td>0.195585</td>\n",
       "      <td>0.190535</td>\n",
       "      <td>5.777227</td>\n",
       "      <td>5.557568</td>\n",
       "      <td>15.955604</td>\n",
       "      <td>15.261774</td>\n",
       "      <td>0.058604</td>\n",
       "      <td>0.055697</td>\n",
       "      <td>WRN_40_10</td>\n",
       "      <td>(4, CURE)</td>\n",
       "      <td>0.002800</td>\n",
       "    </tr>\n",
       "    <tr>\n",
       "      <th>4</th>\n",
       "      <td>pgd</td>\n",
       "      <td>svhn</td>\n",
       "      <td>0.031</td>\n",
       "      <td>advce-tor-WRN_40_10-lrem2</td>\n",
       "      <td>inf</td>\n",
       "      <td>0</td>\n",
       "      <td>0.952005</td>\n",
       "      <td>0.924478</td>\n",
       "      <td>0.724682</td>\n",
       "      <td>0.550860</td>\n",
       "      <td>3.642485</td>\n",
       "      <td>3.780584</td>\n",
       "      <td>12.568644</td>\n",
       "      <td>13.025192</td>\n",
       "      <td>0.008108</td>\n",
       "      <td>0.013778</td>\n",
       "      <td>WRN_40_10</td>\n",
       "      <td>(8, AT(CE))</td>\n",
       "      <td>0.027527</td>\n",
       "    </tr>\n",
       "    <tr>\n",
       "      <th>5</th>\n",
       "      <td>pgd</td>\n",
       "      <td>svhn</td>\n",
       "      <td>0.031</td>\n",
       "      <td>llrce-tor-WRN_40_10</td>\n",
       "      <td>inf</td>\n",
       "      <td>0</td>\n",
       "      <td>0.999973</td>\n",
       "      <td>0.951214</td>\n",
       "      <td>0.345632</td>\n",
       "      <td>0.306238</td>\n",
       "      <td>17.138792</td>\n",
       "      <td>18.932571</td>\n",
       "      <td>53.669503</td>\n",
       "      <td>59.484519</td>\n",
       "      <td>0.000012</td>\n",
       "      <td>0.183467</td>\n",
       "      <td>WRN_40_10</td>\n",
       "      <td>(3, LLR)</td>\n",
       "      <td>0.048759</td>\n",
       "    </tr>\n",
       "  </tbody>\n",
       "</table>\n",
       "</div>"
      ],
      "text/plain": [
       "  attack dataset    eps                      model norm  random_seed  \\\n",
       "0    pgd    svhn  0.031           ce-tor-WRN_40_10  inf            0   \n",
       "1    pgd    svhn  0.031   strades6ce-tor-WRN_40_10  inf            0   \n",
       "2    pgd    svhn  0.031  strades10ce-tor-WRN_40_10  inf            0   \n",
       "3    pgd    svhn  0.031       curece-tor-WRN_40_10  inf            0   \n",
       "4    pgd    svhn  0.031  advce-tor-WRN_40_10-lrem2  inf            0   \n",
       "5    pgd    svhn  0.031        llrce-tor-WRN_40_10  inf            0   \n",
       "\n",
       "    trn_acc   tst_acc  adv_trn_acc  adv_tst_acc  avg_trn_lip  avg_tst_lip  \\\n",
       "0  0.999986  0.958474     0.034290     0.024700    48.150909    48.617779   \n",
       "1  0.971853  0.918331     0.819990     0.581131     1.166008     1.597083   \n",
       "2  0.946299  0.903542     0.795419     0.575791     0.805747     1.146986   \n",
       "3  0.910029  0.907230     0.195585     0.190535     5.777227     5.557568   \n",
       "4  0.952005  0.924478     0.724682     0.550860     3.642485     3.780584   \n",
       "5  0.999973  0.951214     0.345632     0.306238    17.138792    18.932571   \n",
       "\n",
       "   avg_trn_lip_1  avg_tst_lip_1  avg_trn_lip_kl  avg_tst_lip_kl       arch  \\\n",
       "0     149.078116     149.817892        0.045008        0.738318  WRN_40_10   \n",
       "1       3.849708       5.199245        0.001586        0.005057  WRN_40_10   \n",
       "2            NaN            NaN             NaN             NaN  WRN_40_10   \n",
       "3      15.955604      15.261774        0.058604        0.055697  WRN_40_10   \n",
       "4      12.568644      13.025192        0.008108        0.013778  WRN_40_10   \n",
       "5      53.669503      59.484519        0.000012        0.183467  WRN_40_10   \n",
       "\n",
       "         loss_name   gen_gap  \n",
       "0     (0, Natural)  0.041512  \n",
       "1   (11, TRADE(6))  0.053521  \n",
       "2  (12, TRADE(10))  0.042757  \n",
       "3        (4, CURE)  0.002800  \n",
       "4      (8, AT(CE))  0.027527  \n",
       "5         (3, LLR)  0.048759  "
      ]
     },
     "metadata": {},
     "output_type": "display_data"
    }
   ],
   "source": [
    "df = display_results(svhnLip, svhnOtherLips)\n",
    "output_latex(df)"
   ]
  },
  {
   "cell_type": "code",
   "execution_count": 3,
   "metadata": {},
   "outputs": [],
   "source": [
    "def display_results_2(exp):\n",
    "    columns = ['trn_acc', 'tst_acc', 'adv_trn_acc', 'adv_tst_acc', 'avg_trn_lip_1', 'avg_tst_lip_1']\n",
    "    _, _, grid_params, _ = exp()()\n",
    "    df = params_to_dataframe(grid_params,\n",
    "                             columns=columns,\n",
    "                             result_file_dir='./results/restrictedImgnet3/',\n",
    "                             logging_level=0)\n",
    "    for c in ['trn_acc', 'tst_acc', 'adv_trn_acc', 'adv_tst_acc']:\n",
    "        df[c] *= 100\n",
    "\n",
    "    df['arch'] = df['model'].apply(lambda a: a.split(\"-\")[2])\n",
    "    df['loss_name'] = df['model'].apply(lambda a: get_model_name(a.split(\"-\")[0] if 'aug' not in a.split(\"-\")[0] else a.split(\"-\")[1]))\n",
    "\n",
    "    for name, d in df.groupby([\"dataset\", \"arch\"]):\n",
    "        print(name)\n",
    "        display(d)\n",
    "    return df"
   ]
  },
  {
   "cell_type": "code",
   "execution_count": 16,
   "metadata": {},
   "outputs": [
    {
     "name": "stdout",
     "output_type": "stream",
     "text": [
      "('resImgnet112v3', 'ResNet152')\n"
     ]
    },
    {
     "data": {
      "text/html": [
       "<div>\n",
       "<style scoped>\n",
       "    .dataframe tbody tr th:only-of-type {\n",
       "        vertical-align: middle;\n",
       "    }\n",
       "\n",
       "    .dataframe tbody tr th {\n",
       "        vertical-align: top;\n",
       "    }\n",
       "\n",
       "    .dataframe thead th {\n",
       "        text-align: right;\n",
       "    }\n",
       "</style>\n",
       "<table border=\"1\" class=\"dataframe\">\n",
       "  <thead>\n",
       "    <tr style=\"text-align: right;\">\n",
       "      <th></th>\n",
       "      <th>attack</th>\n",
       "      <th>dataset</th>\n",
       "      <th>eps</th>\n",
       "      <th>model</th>\n",
       "      <th>norm</th>\n",
       "      <th>random_seed</th>\n",
       "      <th>trn_acc</th>\n",
       "      <th>tst_acc</th>\n",
       "      <th>adv_trn_acc</th>\n",
       "      <th>adv_tst_acc</th>\n",
       "      <th>avg_trn_lip_1</th>\n",
       "      <th>avg_tst_lip_1</th>\n",
       "      <th>arch</th>\n",
       "      <th>loss_name</th>\n",
       "    </tr>\n",
       "  </thead>\n",
       "  <tbody>\n",
       "    <tr>\n",
       "      <th>0</th>\n",
       "      <td>pgd</td>\n",
       "      <td>resImgnet112v3</td>\n",
       "      <td>0.005</td>\n",
       "      <td>ce-tor-ResNet152-adambs128</td>\n",
       "      <td>inf</td>\n",
       "      <td>0</td>\n",
       "      <td>97.327234</td>\n",
       "      <td>93.507389</td>\n",
       "      <td>9.725779</td>\n",
       "      <td>10.482759</td>\n",
       "      <td>20282.500337</td>\n",
       "      <td>26771.974724</td>\n",
       "      <td>ResNet152</td>\n",
       "      <td>(0, Natural)</td>\n",
       "    </tr>\n",
       "    <tr>\n",
       "      <th>1</th>\n",
       "      <td>pgd</td>\n",
       "      <td>resImgnet112v3</td>\n",
       "      <td>0.005</td>\n",
       "      <td>stradesce-tor-ResNet152-adambs128</td>\n",
       "      <td>inf</td>\n",
       "      <td>0</td>\n",
       "      <td>95.698900</td>\n",
       "      <td>90.975369</td>\n",
       "      <td>84.621801</td>\n",
       "      <td>79.133005</td>\n",
       "      <td>1653.596230</td>\n",
       "      <td>1239.129224</td>\n",
       "      <td>ResNet152</td>\n",
       "      <td>(10, TRADES(1))</td>\n",
       "    </tr>\n",
       "    <tr>\n",
       "      <th>2</th>\n",
       "      <td>pgd</td>\n",
       "      <td>resImgnet112v3</td>\n",
       "      <td>0.005</td>\n",
       "      <td>strades6ce-tor-ResNet152-adambs128</td>\n",
       "      <td>inf</td>\n",
       "      <td>0</td>\n",
       "      <td>92.361531</td>\n",
       "      <td>88.384236</td>\n",
       "      <td>86.460031</td>\n",
       "      <td>81.733990</td>\n",
       "      <td>182.940675</td>\n",
       "      <td>159.039895</td>\n",
       "      <td>ResNet152</td>\n",
       "      <td>(11, TRADES(6))</td>\n",
       "    </tr>\n",
       "    <tr>\n",
       "      <th>3</th>\n",
       "      <td>pgd</td>\n",
       "      <td>resImgnet112v3</td>\n",
       "      <td>0.005</td>\n",
       "      <td>advce-tor-ResNet152-adambs128</td>\n",
       "      <td>inf</td>\n",
       "      <td>0</td>\n",
       "      <td>96.230815</td>\n",
       "      <td>90.955665</td>\n",
       "      <td>90.833683</td>\n",
       "      <td>82.709360</td>\n",
       "      <td>4010.856099</td>\n",
       "      <td>4251.504872</td>\n",
       "      <td>ResNet152</td>\n",
       "      <td>(8, AT)</td>\n",
       "    </tr>\n",
       "    <tr>\n",
       "      <th>4</th>\n",
       "      <td>pgd</td>\n",
       "      <td>resImgnet112v3</td>\n",
       "      <td>0.005</td>\n",
       "      <td>sllr36ce-tor-ResNet152-adambs128</td>\n",
       "      <td>inf</td>\n",
       "      <td>0</td>\n",
       "      <td>98.271568</td>\n",
       "      <td>93.133005</td>\n",
       "      <td>52.337942</td>\n",
       "      <td>52.876847</td>\n",
       "      <td>34187.745373</td>\n",
       "      <td>35555.325547</td>\n",
       "      <td>ResNet152</td>\n",
       "      <td>(4, LLR)</td>\n",
       "    </tr>\n",
       "    <tr>\n",
       "      <th>5</th>\n",
       "      <td>pgd</td>\n",
       "      <td>resImgnet112v3</td>\n",
       "      <td>0.005</td>\n",
       "      <td>tulipce-tor-ResNet152-adambs128</td>\n",
       "      <td>inf</td>\n",
       "      <td>0</td>\n",
       "      <td>88.927557</td>\n",
       "      <td>86.778325</td>\n",
       "      <td>58.161848</td>\n",
       "      <td>59.201970</td>\n",
       "      <td>1217.487514</td>\n",
       "      <td>921.098742</td>\n",
       "      <td>ResNet152</td>\n",
       "      <td>(3, GR)</td>\n",
       "    </tr>\n",
       "  </tbody>\n",
       "</table>\n",
       "</div>"
      ],
      "text/plain": [
       "  attack         dataset    eps                               model norm  \\\n",
       "0    pgd  resImgnet112v3  0.005          ce-tor-ResNet152-adambs128  inf   \n",
       "1    pgd  resImgnet112v3  0.005   stradesce-tor-ResNet152-adambs128  inf   \n",
       "2    pgd  resImgnet112v3  0.005  strades6ce-tor-ResNet152-adambs128  inf   \n",
       "3    pgd  resImgnet112v3  0.005       advce-tor-ResNet152-adambs128  inf   \n",
       "4    pgd  resImgnet112v3  0.005    sllr36ce-tor-ResNet152-adambs128  inf   \n",
       "5    pgd  resImgnet112v3  0.005     tulipce-tor-ResNet152-adambs128  inf   \n",
       "\n",
       "   random_seed    trn_acc    tst_acc  adv_trn_acc  adv_tst_acc  avg_trn_lip_1  \\\n",
       "0            0  97.327234  93.507389     9.725779    10.482759   20282.500337   \n",
       "1            0  95.698900  90.975369    84.621801    79.133005    1653.596230   \n",
       "2            0  92.361531  88.384236    86.460031    81.733990     182.940675   \n",
       "3            0  96.230815  90.955665    90.833683    82.709360    4010.856099   \n",
       "4            0  98.271568  93.133005    52.337942    52.876847   34187.745373   \n",
       "5            0  88.927557  86.778325    58.161848    59.201970    1217.487514   \n",
       "\n",
       "   avg_tst_lip_1       arch        loss_name  \n",
       "0   26771.974724  ResNet152     (0, Natural)  \n",
       "1    1239.129224  ResNet152  (10, TRADES(1))  \n",
       "2     159.039895  ResNet152  (11, TRADES(6))  \n",
       "3    4251.504872  ResNet152          (8, AT)  \n",
       "4   35555.325547  ResNet152         (4, LLR)  \n",
       "5     921.098742  ResNet152          (3, GR)  "
      ]
     },
     "metadata": {},
     "output_type": "display_data"
    },
    {
     "name": "stdout",
     "output_type": "stream",
     "text": [
      "('resImgnet112v3', 'ResNet50')\n"
     ]
    },
    {
     "data": {
      "text/html": [
       "<div>\n",
       "<style scoped>\n",
       "    .dataframe tbody tr th:only-of-type {\n",
       "        vertical-align: middle;\n",
       "    }\n",
       "\n",
       "    .dataframe tbody tr th {\n",
       "        vertical-align: top;\n",
       "    }\n",
       "\n",
       "    .dataframe thead th {\n",
       "        text-align: right;\n",
       "    }\n",
       "</style>\n",
       "<table border=\"1\" class=\"dataframe\">\n",
       "  <thead>\n",
       "    <tr style=\"text-align: right;\">\n",
       "      <th></th>\n",
       "      <th>attack</th>\n",
       "      <th>dataset</th>\n",
       "      <th>eps</th>\n",
       "      <th>model</th>\n",
       "      <th>norm</th>\n",
       "      <th>random_seed</th>\n",
       "      <th>trn_acc</th>\n",
       "      <th>tst_acc</th>\n",
       "      <th>adv_trn_acc</th>\n",
       "      <th>adv_tst_acc</th>\n",
       "      <th>avg_trn_lip_1</th>\n",
       "      <th>avg_tst_lip_1</th>\n",
       "      <th>arch</th>\n",
       "      <th>loss_name</th>\n",
       "    </tr>\n",
       "  </thead>\n",
       "  <tbody>\n",
       "    <tr>\n",
       "      <th>6</th>\n",
       "      <td>pgd</td>\n",
       "      <td>resImgnet112v3</td>\n",
       "      <td>0.005</td>\n",
       "      <td>ce-tor-ResNet50-adambs128</td>\n",
       "      <td>inf</td>\n",
       "      <td>0</td>\n",
       "      <td>97.800177</td>\n",
       "      <td>93.438424</td>\n",
       "      <td>7.611698</td>\n",
       "      <td>8.266010</td>\n",
       "      <td>18643.824318</td>\n",
       "      <td>21993.865732</td>\n",
       "      <td>ResNet50</td>\n",
       "      <td>(0, Natural)</td>\n",
       "    </tr>\n",
       "    <tr>\n",
       "      <th>7</th>\n",
       "      <td>pgd</td>\n",
       "      <td>resImgnet112v3</td>\n",
       "      <td>0.005</td>\n",
       "      <td>stradesce-tor-ResNet50-adambs128</td>\n",
       "      <td>inf</td>\n",
       "      <td>0</td>\n",
       "      <td>97.393190</td>\n",
       "      <td>92.266010</td>\n",
       "      <td>86.544221</td>\n",
       "      <td>79.891626</td>\n",
       "      <td>2148.246010</td>\n",
       "      <td>2144.655471</td>\n",
       "      <td>ResNet50</td>\n",
       "      <td>(10, TRADES(1))</td>\n",
       "    </tr>\n",
       "    <tr>\n",
       "      <th>8</th>\n",
       "      <td>pgd</td>\n",
       "      <td>resImgnet112v3</td>\n",
       "      <td>0.005</td>\n",
       "      <td>strades6ce-tor-ResNet50-adambs128</td>\n",
       "      <td>inf</td>\n",
       "      <td>0</td>\n",
       "      <td>93.338067</td>\n",
       "      <td>88.916256</td>\n",
       "      <td>87.425703</td>\n",
       "      <td>82.118227</td>\n",
       "      <td>202.860269</td>\n",
       "      <td>200.902166</td>\n",
       "      <td>ResNet50</td>\n",
       "      <td>(11, TRADES(6))</td>\n",
       "    </tr>\n",
       "    <tr>\n",
       "      <th>9</th>\n",
       "      <td>pgd</td>\n",
       "      <td>resImgnet112v3</td>\n",
       "      <td>0.005</td>\n",
       "      <td>strades10ce-tor-ResNet50-adambs128</td>\n",
       "      <td>inf</td>\n",
       "      <td>0</td>\n",
       "      <td>93.107221</td>\n",
       "      <td>88.344828</td>\n",
       "      <td>88.356845</td>\n",
       "      <td>82.532020</td>\n",
       "      <td>137.674062</td>\n",
       "      <td>144.246204</td>\n",
       "      <td>ResNet50</td>\n",
       "      <td>(12, TRADES(10))</td>\n",
       "    </tr>\n",
       "    <tr>\n",
       "      <th>10</th>\n",
       "      <td>pgd</td>\n",
       "      <td>resImgnet112v3</td>\n",
       "      <td>0.005</td>\n",
       "      <td>advce-tor-ResNet50-adambs128</td>\n",
       "      <td>inf</td>\n",
       "      <td>0</td>\n",
       "      <td>96.222279</td>\n",
       "      <td>90.325123</td>\n",
       "      <td>90.473253</td>\n",
       "      <td>82.216749</td>\n",
       "      <td>283.740092</td>\n",
       "      <td>287.968701</td>\n",
       "      <td>ResNet50</td>\n",
       "      <td>(8, AT)</td>\n",
       "    </tr>\n",
       "    <tr>\n",
       "      <th>11</th>\n",
       "      <td>pgd</td>\n",
       "      <td>resImgnet112v3</td>\n",
       "      <td>0.005</td>\n",
       "      <td>sllr36ce-tor-ResNet50-adambs128</td>\n",
       "      <td>inf</td>\n",
       "      <td>0</td>\n",
       "      <td>98.759253</td>\n",
       "      <td>93.438424</td>\n",
       "      <td>52.751913</td>\n",
       "      <td>52.541872</td>\n",
       "      <td>3862.719966</td>\n",
       "      <td>4795.655284</td>\n",
       "      <td>ResNet50</td>\n",
       "      <td>(4, LLR)</td>\n",
       "    </tr>\n",
       "    <tr>\n",
       "      <th>12</th>\n",
       "      <td>pgd</td>\n",
       "      <td>resImgnet112v3</td>\n",
       "      <td>0.005</td>\n",
       "      <td>tulipce-tor-ResNet50-adambs128</td>\n",
       "      <td>inf</td>\n",
       "      <td>0</td>\n",
       "      <td>91.121173</td>\n",
       "      <td>87.950739</td>\n",
       "      <td>53.452597</td>\n",
       "      <td>54.807882</td>\n",
       "      <td>816.054463</td>\n",
       "      <td>854.493511</td>\n",
       "      <td>ResNet50</td>\n",
       "      <td>(3, GR)</td>\n",
       "    </tr>\n",
       "  </tbody>\n",
       "</table>\n",
       "</div>"
      ],
      "text/plain": [
       "   attack         dataset    eps                               model norm  \\\n",
       "6     pgd  resImgnet112v3  0.005           ce-tor-ResNet50-adambs128  inf   \n",
       "7     pgd  resImgnet112v3  0.005    stradesce-tor-ResNet50-adambs128  inf   \n",
       "8     pgd  resImgnet112v3  0.005   strades6ce-tor-ResNet50-adambs128  inf   \n",
       "9     pgd  resImgnet112v3  0.005  strades10ce-tor-ResNet50-adambs128  inf   \n",
       "10    pgd  resImgnet112v3  0.005        advce-tor-ResNet50-adambs128  inf   \n",
       "11    pgd  resImgnet112v3  0.005     sllr36ce-tor-ResNet50-adambs128  inf   \n",
       "12    pgd  resImgnet112v3  0.005      tulipce-tor-ResNet50-adambs128  inf   \n",
       "\n",
       "    random_seed    trn_acc    tst_acc  adv_trn_acc  adv_tst_acc  \\\n",
       "6             0  97.800177  93.438424     7.611698     8.266010   \n",
       "7             0  97.393190  92.266010    86.544221    79.891626   \n",
       "8             0  93.338067  88.916256    87.425703    82.118227   \n",
       "9             0  93.107221  88.344828    88.356845    82.532020   \n",
       "10            0  96.222279  90.325123    90.473253    82.216749   \n",
       "11            0  98.759253  93.438424    52.751913    52.541872   \n",
       "12            0  91.121173  87.950739    53.452597    54.807882   \n",
       "\n",
       "    avg_trn_lip_1  avg_tst_lip_1      arch         loss_name  \n",
       "6    18643.824318   21993.865732  ResNet50      (0, Natural)  \n",
       "7     2148.246010    2144.655471  ResNet50   (10, TRADES(1))  \n",
       "8      202.860269     200.902166  ResNet50   (11, TRADES(6))  \n",
       "9      137.674062     144.246204  ResNet50  (12, TRADES(10))  \n",
       "10     283.740092     287.968701  ResNet50           (8, AT)  \n",
       "11    3862.719966    4795.655284  ResNet50          (4, LLR)  \n",
       "12     816.054463     854.493511  ResNet50           (3, GR)  "
      ]
     },
     "metadata": {},
     "output_type": "display_data"
    },
    {
     "name": "stdout",
     "output_type": "stream",
     "text": [
      "\\begin{tabular}{lccccccccc}\n",
      "\\toprule\n",
      "{} &  tr acc &  ts acc &  adv tr acc &  adv ts acc &  tr lip(1) &  ts lip(1) \\\\\n",
      "\\midrule\n",
      "Natural   &   97.33 &   93.51 &        9.73 &       10.48 &   20282.50 &   26771.97 \\\\\n",
      "GR        &   88.93 &   86.78 &       58.16 &       59.20 &    1217.49 &     921.10 \\\\\n",
      "LLR       &   98.27 &   93.13 &       52.34 &       52.88 &   34187.75 &   35555.33 \\\\\n",
      "AT        &   96.23 &   90.96 &       90.83 &       82.71 &    4010.86 &    4251.50 \\\\\n",
      "TRADES(1) &   95.70 &   90.98 &       84.62 &       79.13 &    1653.60 &    1239.13 \\\\\n",
      "TRADES(6) &   92.36 &   88.38 &       86.46 &       81.73 &     182.94 &     159.04 \\\\\n",
      "\\bottomrule\n",
      "\\end{tabular}\n",
      "\n",
      "\\begin{tabular}{lccccccccc}\n",
      "\\toprule\n",
      "{} &  tr acc &  ts acc &  adv tr acc &  adv ts acc &  tr lip(1) &  ts lip(1) \\\\\n",
      "\\midrule\n",
      "Natural    &   97.80 &   93.44 &        7.61 &        8.27 &   18643.82 &   21993.87 \\\\\n",
      "GR         &   91.12 &   87.95 &       53.45 &       54.81 &     816.05 &     854.49 \\\\\n",
      "LLR        &   98.76 &   93.44 &       52.75 &       52.54 &    3862.72 &    4795.66 \\\\\n",
      "AT         &   96.22 &   90.33 &       90.47 &       82.22 &     283.74 &     287.97 \\\\\n",
      "TRADES(1)  &   97.39 &   92.27 &       86.54 &       79.89 &    2148.25 &    2144.66 \\\\\n",
      "TRADES(6)  &   93.34 &   88.92 &       87.43 &       82.12 &     202.86 &     200.90 \\\\\n",
      "TRADES(10) &   93.11 &   88.34 &       88.36 &       82.53 &     137.67 &     144.25 \\\\\n",
      "\\bottomrule\n",
      "\\end{tabular}\n",
      "\n"
     ]
    }
   ],
   "source": [
    "df = display_results_2(resImgFixLips)\n",
    "for name, d in df.groupby([\"dataset\", \"arch\"]):\n",
    "    output_latex(d)"
   ]
  },
  {
   "cell_type": "code",
   "execution_count": 15,
   "metadata": {},
   "outputs": [
    {
     "data": {
      "text/plain": [
       "{'model_path': './models/pgd-resImgnet112v3-0.005-advce-tor-ResNet152-adambs128-inf-0-ep0070.pt',\n",
       " 'trn_acc': 0.9623081459409967,\n",
       " 'tst_acc': 0.9095566502463054,\n",
       " 'adv_trn_acc': 0.9083368251160048,\n",
       " 'adv_tst_acc': 0.8270935960591133,\n",
       " 'avg_trn_lip_1': 4010.8560992064977,\n",
       " 'avg_tst_lip_1': 4251.504871760026,\n",
       " 'running_time': 39498.02967143059}"
      ]
     },
     "execution_count": 15,
     "metadata": {},
     "output_type": "execute_result"
    }
   ],
   "source": [
    "a = joblib.load(\"./results/restrictedImgnet2/pgd-resImgnet112v3-0.005-advce-tor-ResNet152-adambs128-inf-0.pkl\")\n",
    "a"
   ]
  },
  {
   "cell_type": "code",
   "execution_count": 14,
   "metadata": {},
   "outputs": [
    {
     "data": {
      "text/plain": [
       "[<matplotlib.lines.Line2D at 0x7f5615b5c6d0>]"
      ]
     },
     "execution_count": 14,
     "metadata": {},
     "output_type": "execute_result"
    },
    {
     "data": {
      "image/png": "[encoded data removed]",
      "text/plain": [
       "<Figure size 432x288 with 1 Axes>"
      ]
     },
     "metadata": {
      "needs_background": "light"
     },
     "output_type": "display_data"
    }
   ],
   "source": [
    "plt.plot([i['tst_acc'] for i in a['history']])"
   ]
  },
  {
   "cell_type": "code",
   "execution_count": 17,
   "metadata": {},
   "outputs": [
    {
     "data": {
      "text/plain": [
       "[<matplotlib.lines.Line2D at 0x7f5616316bd0>]"
      ]
     },
     "execution_count": 17,
     "metadata": {},
     "output_type": "execute_result"
    },
    {
     "data": {
      "image/png": "[encoded data removed]",
      "text/plain": [
       "<Figure size 432x288 with 1 Axes>"
      ]
     },
     "metadata": {
      "needs_background": "light"
     },
     "output_type": "display_data"
    }
   ],
   "source": [
    "a = joblib.load(\"./results/restrictedImgnet/pgd-resImgnet112v3-0.005-stradesce-tor-ResNet50-adambs128-inf-0.pkl\")\n",
    "plt.plot([i['tst_loss'] for i in a['history']])"
   ]
  },
  {
   "cell_type": "code",
   "execution_count": 3,
   "metadata": {},
   "outputs": [],
   "source": [
    "from scipy.special import softmax\n",
    "\n",
    "def get_arch(path):\n",
    "    return path.split(\"-\")[path.split(\"-\").index('tor')+1]\n",
    "\n",
    "def get_ds(path):\n",
    "    return path.split(\"-\")[1]\n",
    "\n",
    "def predict_real(model, X):\n",
    "    X = X.transpose(0, 3, 1, 2)\n",
    "    dataset = data_utils.TensorDataset(torch.from_numpy(X).float())\n",
    "    loader = torch.utils.data.DataLoader(dataset, batch_size=128, shuffle=False, num_workers=2)\n",
    "    ret = []\n",
    "    for [x] in loader:\n",
    "        ret.append(model(x.to('cuda')).detach().cpu().numpy())\n",
    "    return np.concatenate(ret, axis=0)\n",
    "\n",
    "def calc_lip(model, X, Xp, top_norm, btm_norm):\n",
    "    top = np.linalg.norm(predict_real(model, X)-predict_real(model, Xp), ord=top_norm, axis=1)\n",
    "    down = np.linalg.norm(X.reshape(len(Xp), -1)-Xp.reshape(len(Xp), -1), ord=btm_norm, axis=1)\n",
    "    return top / (down+1e-6)\n",
    "\n",
    "def get_lip(model, X, top_norm=2, btm_norm=2, epsilon=1.0):\n",
    "    lip = estimate_local_lip_v2(model, X, top_norm=top_norm, btm_norm=btm_norm, epsilon=epsilon)\n",
    "    lip_ = calc_lip(model, X, lip, top_norm=top_norm, btm_norm=btm_norm)\n",
    "    return lip_\n",
    "\n",
    "class ModelWrapper():\n",
    "    def __init__(self, model):\n",
    "        self.model = model\n",
    "    def predict_proba(self, X):\n",
    "        return softmax(predict_real(self.model, X), axis=1)\n",
    "    def predict_real(self, X):\n",
    "        return predict_real(self.model, X)\n",
    "    def predict(self, X):\n",
    "        return predict_real(self.model, X).argmax(axis=1)\n",
    "    \n",
    "cifar_classes = ('plane', 'car', 'bird', 'cat', 'deer', 'dog', 'frog', 'horse', 'ship', 'truck')"
   ]
  },
  {
   "cell_type": "code",
   "execution_count": 9,
   "metadata": {},
   "outputs": [],
   "source": [
    "model_path = \"./models/pgd-cifar10-0.031-advce-tor-WRN_40_10-inf-0.pt\"\n",
    "model = globals()[get_arch(model_path)](n_classes=10)\n",
    "model.load_state_dict(torch.load(model_path))\n",
    "model.eval()\n",
    "model.cuda()\n",
    "model = ModelWrapper(model)\n",
    "trnX, trny, tstX, tsty = auto_var.get_var_with_argument(\"dataset\", get_ds(model_path))"
   ]
  },
  {
   "cell_type": "code",
   "execution_count": 11,
   "metadata": {},
   "outputs": [],
   "source": [
    "pred = model.predict_proba(trnX)\n",
    "log_loss = np.array([np.log(pred[i][trny[i]]) for i in range(len(pred))])"
   ]
  },
  {
   "cell_type": "code",
   "execution_count": 13,
   "metadata": {},
   "outputs": [
    {
     "data": {
      "text/plain": [
       "(array([1.0000e+00, 0.0000e+00, 0.0000e+00, 4.0000e+00, 1.0000e+01,\n",
       "        1.5000e+01, 2.2000e+01, 5.0000e+01, 8.7000e+01, 4.9811e+04]),\n",
       " array([-1.5260077 , -1.3734069 , -1.2208061 , -1.0682054 , -0.9156046 ,\n",
       "        -0.7630038 , -0.61040306, -0.4578023 , -0.30520153, -0.15260077,\n",
       "         0.        ], dtype=float32),\n",
       " <a list of 10 Patch objects>)"
      ]
     },
     "execution_count": 13,
     "metadata": {},
     "output_type": "execute_result"
    },
    {
     "data": {
      "image/png": "[encoded data removed]",
      "text/plain": [
       "<Figure size 432x288 with 1 Axes>"
      ]
     },
     "metadata": {
      "needs_background": "light"
     },
     "output_type": "display_data"
    }
   ],
   "source": [
    "plt.hist(log_loss)"
   ]
  },
  {
   "cell_type": "code",
   "execution_count": 16,
   "metadata": {},
   "outputs": [],
   "source": [
    "model_path = \"./models/pgd-cifar10-0.031-strades6ce-tor-WRN_40_10-inf-0-ep0120.pt\"\n",
    "model = globals()[get_arch(model_path)](n_classes=10)\n",
    "model.load_state_dict(torch.load(model_path), strict=False)\n",
    "model.eval()\n",
    "model.cuda()\n",
    "model = ModelWrapper(model)\n",
    "trnX, trny, tstX, tsty = auto_var.get_var_with_argument(\"dataset\", get_ds(model_path))\n",
    "pred = model.predict_proba(trnX)\n",
    "log_loss2 = np.array([np.log(pred[i][trny[i]]) for i in range(len(pred))])"
   ]
  },
  {
   "cell_type": "code",
   "execution_count": 17,
   "metadata": {},
   "outputs": [
    {
     "data": {
      "text/plain": [
       "(array([   18.,   115.,   426.,  1486.,  4644.,  8722.,  4822., 12827.,\n",
       "        10287.,  6653.]),\n",
       " array([-13.443183  , -12.117084  , -10.790984  ,  -9.464885  ,\n",
       "         -8.138785  ,  -6.8126855 ,  -5.486586  ,  -4.1604867 ,\n",
       "         -2.834387  ,  -1.5082875 ,  -0.18218805], dtype=float32),\n",
       " <a list of 10 Patch objects>)"
      ]
     },
     "execution_count": 17,
     "metadata": {},
     "output_type": "execute_result"
    },
    {
     "data": {
      "image/png": "[encoded data removed]",
      "text/plain": [
       "<Figure size 432x288 with 1 Axes>"
      ]
     },
     "metadata": {
      "needs_background": "light"
     },
     "output_type": "display_data"
    }
   ],
   "source": [
    "plt.hist(log_loss2)"
   ]
  },
  {
   "cell_type": "code",
   "execution_count": 10,
   "metadata": {},
   "outputs": [
    {
     "data": {
      "text/plain": [
       "<matplotlib.image.AxesImage at 0x7f8d05ed7990>"
      ]
     },
     "execution_count": 10,
     "metadata": {},
     "output_type": "execute_result"
    },
    {
     "data": {
      "image/png": "[encoded data removed]",
      "text/plain": [
       "<Figure size 432x288 with 1 Axes>"
      ]
     },
     "metadata": {
      "needs_background": "light"
     },
     "output_type": "display_data"
    }
   ],
   "source": [
    "trnX, trny, tstX, tsty = auto_var.get_var_with_argument(\"dataset\", 'mnist')\n",
    "plt.imshow(trnX[0, :, :, 0])"
   ]
  },
  {
   "cell_type": "code",
   "execution_count": 12,
   "metadata": {},
   "outputs": [],
   "source": [
    "from scipy import fftpack\n",
    "im = trnX[0, :, :, 0]\n",
    "im_fft = fftpack.fft2(im)"
   ]
  },
  {
   "cell_type": "code",
   "execution_count": 16,
   "metadata": {},
   "outputs": [
    {
     "data": {
      "text/plain": [
       "<matplotlib.image.AxesImage at 0x7f8d05956f90>"
      ]
     },
     "execution_count": 16,
     "metadata": {},
     "output_type": "execute_result"
    },
    {
     "data": {
      "image/png": "[encoded data removed]",
      "text/plain": [
       "<Figure size 432x288 with 1 Axes>"
      ]
     },
     "metadata": {
      "needs_background": "light"
     },
     "output_type": "display_data"
    }
   ],
   "source": [
    "plt.imshow(np.abs(im_fft))"
   ]
  },
  {
   "cell_type": "code",
   "execution_count": null,
   "metadata": {},
   "outputs": [],
   "source": []
  },
  {
   "cell_type": "code",
   "execution_count": 4,
   "metadata": {},
   "outputs": [
    {
     "name": "stdout",
     "output_type": "stream",
     "text": [
      "12.135422058105469\n"
     ]
    }
   ],
   "source": [
    "from lolip.utils import estimate_local_mse\n",
    "model_path = \"./models/pgd-cifar10-0.031-aug01-ce-tor-WRN_40_10-inf-0-ep0120.pt\"\n",
    "model = globals()[get_arch(model_path)](n_classes=10)\n",
    "model.load_state_dict(torch.load(model_path)['model_state_dict'])\n",
    "model.eval()\n",
    "model.cuda()\n",
    "trnX, trny, tstX, tsty = auto_var.get_var_with_argument(\"dataset\", get_ds(model_path))\n",
    "ret = estimate_local_mse(model, trnX[:100])\n",
    "print(ret[0])"
   ]
  },
  {
   "cell_type": "code",
   "execution_count": 280,
   "metadata": {},
   "outputs": [],
   "source": [
    "from lolip.attacks.torch.projected_gradient_descent import ProjectedGradientDescent\n",
    "n = 10000\n",
    "i = 2\n",
    "nb_iter=10\n",
    "eps = 0.05\n",
    "attack_model = ProjectedGradientDescent(\n",
    "    model_fn=model.model,\n",
    "    norm=np.inf,\n",
    "    eps=eps,\n",
    "    eps_iter=eps*2/nb_iter,\n",
    "    nb_iter=nb_iter,\n",
    ")\n",
    "adv_tstX = attack_model.perturb(tstX[:n], tsty[:n])\n",
    "pred = model.predict_proba(tstX[:n])\n",
    "advpred = model.predict_proba(adv_tstX[:n])\n",
    "proba = np.array([pred[i][tsty[i]] for i in range(n)])\n",
    "advproba = np.array([advpred[i][tsty[i]] for i in range(n)])"
   ]
  },
  {
   "cell_type": "code",
   "execution_count": 274,
   "metadata": {},
   "outputs": [
    {
     "data": {
      "text/plain": [
       "(array([], dtype=int64),)"
      ]
     },
     "execution_count": 274,
     "metadata": {},
     "output_type": "execute_result"
    }
   ],
   "source": [
    "robust = (advpred.argmax(1) == tsty)\n",
    "np.where(np.logical_and(proba[robust] < 0.95, proba[robust] >0))\n",
    "np.where(proba[robust] <= 0.99)"
   ]
  },
  {
   "cell_type": "code",
   "execution_count": 265,
   "metadata": {},
   "outputs": [
    {
     "data": {
      "text/plain": [
       "array([1., 1., 1., ..., 1., 1., 1.], dtype=float32)"
      ]
     },
     "execution_count": 265,
     "metadata": {},
     "output_type": "execute_result"
    }
   ],
   "source": [
    "proba[robust]"
   ]
  },
  {
   "cell_type": "code",
   "execution_count": null,
   "metadata": {},
   "outputs": [],
   "source": []
  },
  {
   "cell_type": "code",
   "execution_count": 271,
   "metadata": {},
   "outputs": [
    {
     "name": "stderr",
     "output_type": "stream",
     "text": [
      "W0106 15:42:14.924072 140719580231488 image.py:700] Clipping input data to the valid range for imshow with RGB data ([0..1] for floats or [0..255] for integers).\n"
     ]
    },
    {
     "name": "stdout",
     "output_type": "stream",
     "text": [
      "true class: 8\n",
      "prediction: 8, proba: 0.7208942174911499\n",
      "prediction: 2, proba: 1.0\n"
     ]
    },
    {
     "data": {
      "text/plain": [
       "[]"
      ]
     },
     "execution_count": 271,
     "metadata": {},
     "output_type": "execute_result"
    },
    {
     "data": {
      "image/png": "[encoded data removed]",
      "text/plain": [
       "<Figure size 432x288 with 2 Axes>"
      ]
     },
     "metadata": {
      "needs_background": "light"
     },
     "output_type": "display_data"
    }
   ],
   "source": [
    "i=582\n",
    "#i=78\n",
    "print(f\"true class: {int(tsty[i])}\")\n",
    "print(f\"prediction: {int(pred.argmax(1)[i])}, proba: {pred.max(1)[i]}\")\n",
    "print(f\"prediction: {int(advpred.argmax(1)[i])}, proba: {advpred.max(1)[i]}\")\n",
    "\n",
    "f = plt.figure()\n",
    "f.add_subplot(1, 2, 1)\n",
    "plt.imshow(np.concatenate([tstX[i], tstX[i], tstX[i]], axis=2))\n",
    "f.add_subplot(1, 2, 2)\n",
    "plt.imshow(np.concatenate([adv_tstX[i], adv_tstX[i], adv_tstX[i]], axis=2))\n",
    "plt.plot()"
   ]
  },
  {
   "cell_type": "code",
   "execution_count": 215,
   "metadata": {},
   "outputs": [
    {
     "data": {
      "image/png": "[encoded data removed]",
      "text/plain": [
       "<Figure size 432x288 with 1 Axes>"
      ]
     },
     "metadata": {
      "needs_background": "light"
     },
     "output_type": "display_data"
    }
   ],
   "source": [
    "plt.axis('off')\n",
    "plt.imshow(np.concatenate([tstX[i], tstX[i], tstX[i]], axis=2))\n",
    "#plt.imshow(np.concatenate([adv_tstX[i], adv_tstX[i], adv_tstX[i]], axis=2))\n",
    "plt.savefig(\"./figs/mnist_img2.png\", transparent=True)"
   ]
  },
  {
   "cell_type": "code",
   "execution_count": 122,
   "metadata": {},
   "outputs": [],
   "source": [
    "model_path = \"./models/pgd-cifar10-0.031-ce-tor-WRN_40_10-inf-0.pt\"\n",
    "model = globals()[get_arch(model_path)](n_classes=10)\n",
    "model.load_state_dict(torch.load(model_path))\n",
    "model.eval()\n",
    "model.cuda()\n",
    "model = ModelWrapper(model)\n",
    "trnX, trny, tstX, tsty = auto_var.get_var_with_argument(\"dataset\", get_ds(model_path))\n",
    "\n",
    "a = joblib.load(\"./results/experiment03/pgd-cifar10-0.031-ce-tor-WRN_40_10-inf-0.pkl\")"
   ]
  },
  {
   "cell_type": "code",
   "execution_count": 123,
   "metadata": {},
   "outputs": [
    {
     "name": "stdout",
     "output_type": "stream",
     "text": [
      "[(0.91781914, 71), (0.7050022, 78), (0.627071, 87), (0.4679357, 20), (0.19889718, 10), (0.16712534, 47), (0.112924755, 49), (0.10954493, 81), (0.05335039, 85), (0.03948349, 91), (0.013468802, 22), (0.011327028, 32), (0.0032605529, 6), (0.0013139844, 53), (0.000441432, 7), (0.00015538931, 9), (4.0713585e-05, 58), (3.4332275e-05, 77), (5.722046e-06, 5), (3.8102835e-06, 24), (1.9073486e-06, 21), (1.4421756e-06, 35), (5.8958244e-07, 37), (0.0, 96), (0.0, 95), (0.0, 93), (0.0, 92), (0.0, 90), (0.0, 89), (0.0, 88), (0.0, 86), (0.0, 84), (0.0, 83), (0.0, 82), (0.0, 80), (0.0, 79), (0.0, 75), (0.0, 73), (0.0, 72), (0.0, 70), (0.0, 69), (0.0, 67), (0.0, 66), (0.0, 65), (0.0, 64), (0.0, 62), (0.0, 60), (0.0, 56), (0.0, 55), (0.0, 54), (0.0, 51), (0.0, 50), (0.0, 48), (0.0, 45), (0.0, 44), (0.0, 43), (0.0, 41), (0.0, 40), (0.0, 39), (0.0, 38), (0.0, 36), (0.0, 34), (0.0, 31), (0.0, 30), (0.0, 29), (0.0, 28), (0.0, 27), (0.0, 23), (0.0, 19), (0.0, 18), (0.0, 17), (0.0, 14), (0.0, 13), (0.0, 11), (0.0, 8), (0.0, 1), (0.0, 0), (-7.731055e-07, 52), (-1.9073486e-06, 98), (-1.9073486e-06, 94), (-3.8146973e-06, 25), (-7.581144e-06, 61), (-1.0900537e-05, 57), (-1.1444092e-05, 12), (-1.7166138e-05, 76), (-1.9073486e-05, 99), (-1.9073486e-05, 46), (-4.5776367e-05, 16), (-0.00037240982, 97), (-0.00059854984, 15), (-0.0006235242, 4), (-0.0016828775, 42), (-0.0017291903, 33), (-0.0022979379, 26), (-0.004998684, 68), (-0.010016739, 63), (-0.012192607, 2), (-0.052314818, 3), (-0.07139075, 59), (-0.33155727, 74)]\n"
     ]
    }
   ],
   "source": [
    "n = 100\n",
    "pred = model.predict_proba(tstX[:n])\n",
    "advpred = model.predict_proba(a['tst_lip_1_pert'][:n])\n",
    "proba = np.array([pred[i][tsty[i]] for i in range(n)])\n",
    "advproba = np.array([advpred[i][tsty[i]] for i in range(n)])\n",
    "\n",
    "print(sorted([(p, i) for i, p in enumerate(proba - advproba)])[::-1])\n",
    "#print(proba)\n",
    "#print(advproba)"
   ]
  },
  {
   "cell_type": "code",
   "execution_count": 154,
   "metadata": {},
   "outputs": [
    {
     "name": "stdout",
     "output_type": "stream",
     "text": [
      "true class: cat\n",
      "prediction: cat, proba: 0.9999980926513672\n",
      "prediction: cat, proba: 0.9999980926513672\n"
     ]
    },
    {
     "data": {
      "text/plain": [
       "[]"
      ]
     },
     "execution_count": 154,
     "metadata": {},
     "output_type": "execute_result"
    },
    {
     "data": {
      "image/png": "[encoded data removed]",
      "text/plain": [
       "<Figure size 432x288 with 2 Axes>"
      ]
     },
     "metadata": {
      "needs_background": "light"
     },
     "output_type": "display_data"
    }
   ],
   "source": [
    "i=0\n",
    "#i=78\n",
    "print(f\"true class: {cifar_classes[int(tsty[i])]}\")\n",
    "print(f\"prediction: {cifar_classes[int(pred.argmax(1)[i])]}, proba: {pred.max(1)[i]}\")\n",
    "print(f\"prediction: {cifar_classes[int(advpred.argmax(1)[i])]}, proba: {advpred.max(1)[i]}\")\n",
    "\n",
    "f = plt.figure()\n",
    "f.add_subplot(1,2, 1)\n",
    "plt.imshow(tstX[i])\n",
    "f.add_subplot(1,2, 2)\n",
    "plt.imshow(a['tst_lip_1_pert'][i])\n",
    "plt.plot()"
   ]
  },
  {
   "cell_type": "code",
   "execution_count": 159,
   "metadata": {},
   "outputs": [],
   "source": [
    "from lolip.attacks.torch.projected_gradient_descent import ProjectedGradientDescent\n",
    "i = 2\n",
    "n = 200\n",
    "nb_iter=10\n",
    "eps = 0.031\n",
    "attack_model = ProjectedGradientDescent(\n",
    "    model_fn=model.model,\n",
    "    norm=np.inf,\n",
    "    eps=eps,\n",
    "    eps_iter=eps*2/nb_iter,\n",
    "    nb_iter=nb_iter,\n",
    ")\n",
    "adv_tstX = attack_model.perturb(tstX[:n], tsty[:n])\n",
    "predpro = model.predict_proba(tstX[:n])\n",
    "advpro = model.predict_proba(adv_tstX[:n])\n",
    "proba = np.array([predpro[i][tsty[i]] for i in range(n)])\n",
    "advproba = np.array([advpro[i][tsty[i]] for i in range(n)])"
   ]
  },
  {
   "cell_type": "code",
   "execution_count": 168,
   "metadata": {},
   "outputs": [
    {
     "name": "stdout",
     "output_type": "stream",
     "text": [
      "[(3.928364e-19, 38), (2.139491e-20, 50), (6.2324763e-21, 67), (7.5909937e-22, 14), (5.8268816e-22, 11), (2.890054e-23, 56), (2.0332044e-24, 45), (5.753915e-25, 41), (3.278957e-25, 89), (1.7603159e-25, 44), (4.0502673e-26, 23), (3.8533094e-26, 47), (3.400378e-26, 96), (3.983777e-27, 19), (2.5159128e-27, 93), (1.2369445e-27, 95), (7.5774886e-28, 82), (1.7982877e-28, 6), (1.7919399e-28, 76), (7.5623535e-29, 28), (6.4600397e-29, 92), (2.8477258e-29, 13), (6.962432e-30, 62), (4.382583e-30, 98), (4.076206e-30, 39), (3.408397e-30, 79), (7.753089e-31, 60), (6.6937868e-31, 90), (6.2585087e-31, 37), (6.050055e-31, 88), (3.8625567e-31, 80), (3.3014763e-31, 34), (2.4592397e-31, 81), (2.066421e-31, 1), (1.6975366e-31, 40), (5.7094654e-32, 4), (1.2647153e-32, 73), (1.2139842e-32, 69), (1.09526326e-32, 15), (1.0822801e-32, 9), (7.681779e-33, 66), (7.1334875e-33, 33), (5.092126e-33, 71), (3.8350386e-33, 29), (2.8612442e-33, 27), (1.5129782e-33, 77), (1.3103929e-33, 20), (3.4747925e-34, 2), (2.4914444e-34, 48), (2.436926e-34, 7), (3.726584e-35, 31), (3.3291917e-35, 54), (1.9452664e-35, 5), (1.221149e-35, 75), (8.9405945e-36, 24), (7.529655e-36, 17), (1.0760535e-36, 30), (1.0651574e-36, 51), (4.251215e-37, 18), (4.065089e-37, 72), (3.4252378e-37, 99), (3.3228697e-37, 70), (1.8998399e-37, 83), (1.1829721e-37, 64), (4.6206898e-38, 16), (3.2353243e-38, 49), (1.8488127e-38, 43), (1.7803884e-38, 35), (1.4985397e-38, 21), (1.4857102e-38, 97), (1.3763654e-38, 63), (1.046764e-38, 3), (6.438702e-39, 12), (3.52691e-40, 59), (2.04032e-40, 42), (1.4652e-40, 87), (1.11856e-40, 86), (7.0746e-41, 25), (2.4653e-41, 85), (1.4204e-41, 74), (1.2252e-41, 36), (2.91e-42, 57), (2.396e-42, 65), (8.09e-43, 52), (3.74e-43, 68), (2.55e-43, 10), (1.37e-43, 58), (2.2e-44, 46), (1.1e-44, 61), (1e-45, 84), (1e-45, 55), (1e-45, 53), (1e-45, 22), (0.0, 94), (0.0, 91), (0.0, 78), (0.0, 32), (0.0, 26), (0.0, 8), (0.0, 0)]\n"
     ]
    }
   ],
   "source": [
    "print(sorted([(p, i) for i, p in enumerate(advproba)])[::-1])"
   ]
  },
  {
   "cell_type": "code",
   "execution_count": 158,
   "metadata": {},
   "outputs": [
    {
     "name": "stdout",
     "output_type": "stream",
     "text": [
      "[[9.60847202e-31 1.00000000e+00 1.60442974e-27 8.66779592e-30\n",
      "  5.83278945e-32 8.44278725e-22 7.71061711e-31 1.03557711e-28\n",
      "  1.10328465e-33 8.09422565e-25]]\n",
      "true class: ship\n",
      "prediction: car, proba: 1.0\n"
     ]
    },
    {
     "name": "stderr",
     "output_type": "stream",
     "text": [
      "W0106 13:19:10.995937 140719580231488 image.py:700] Clipping input data to the valid range for imshow with RGB data ([0..1] for floats or [0..255] for integers).\n"
     ]
    },
    {
     "data": {
      "text/plain": [
       "<matplotlib.image.AxesImage at 0x7ffac3937750>"
      ]
     },
     "execution_count": 158,
     "metadata": {},
     "output_type": "execute_result"
    },
    {
     "data": {
      "image/png": "[encoded data removed]",
      "text/plain": [
       "<Figure size 432x288 with 1 Axes>"
      ]
     },
     "metadata": {
      "needs_background": "light"
     },
     "output_type": "display_data"
    }
   ],
   "source": [
    "from lolip.attacks.torch.projected_gradient_descent import ProjectedGradientDescent\n",
    "i = 2\n",
    "nb_iter=10\n",
    "eps = 0.031\n",
    "attack_model = ProjectedGradientDescent(\n",
    "    model_fn=model.model,\n",
    "    norm=np.inf,\n",
    "    eps=eps,\n",
    "    eps_iter=eps*2/nb_iter,\n",
    "    nb_iter=nb_iter,\n",
    ")\n",
    "\n",
    "adv_tstX = attack_model.perturb(tstX[i:i+1], tsty[i:i+1])\n",
    "print(model.predict_proba(adv_tstX))\n",
    "print(f\"true class: {cifar_classes[int(tsty[i])]}\")\n",
    "print(f\"prediction: {cifar_classes[int(model.predict(adv_tstX)[0])]}, proba: {model.predict_proba(adv_tstX).max(1)[0]}\")\n",
    "\n",
    "plt.imshow(adv_tstX[0])"
   ]
  },
  {
   "cell_type": "code",
   "execution_count": 111,
   "metadata": {},
   "outputs": [
    {
     "name": "stdout",
     "output_type": "stream",
     "text": [
      "[[3.9642419e-13 4.6638211e-11 3.3105352e-10 3.0798118e-11 6.5500468e-01\n",
      "  1.1840269e-06 1.5918528e-12 3.4499472e-01 5.9323409e-14 1.8311993e-11]]\n",
      "prediction: deer, proba: 0.6550046801567078\n"
     ]
    },
    {
     "data": {
      "text/plain": [
       "<matplotlib.image.AxesImage at 0x7ffac51bc090>"
      ]
     },
     "execution_count": 111,
     "metadata": {},
     "output_type": "execute_result"
    },
    {
     "data": {
      "image/png": "[encoded data removed]",
      "text/plain": [
       "<Figure size 432x288 with 1 Axes>"
      ]
     },
     "metadata": {
      "needs_background": "light"
     },
     "output_type": "display_data"
    }
   ],
   "source": [
    "from lolip.attacks.torch.projected_gradient_descent import ProjectedGradientDescent\n",
    "nb_iter=10\n",
    "eps = 0.0035\n",
    "attack_model = ProjectedGradientDescent(\n",
    "    model_fn=model.model,\n",
    "    norm=np.inf,\n",
    "    eps=eps,\n",
    "    eps_iter=eps*2/nb_iter,\n",
    "    nb_iter=nb_iter,\n",
    ")\n",
    "\n",
    "adv_trnX = attack_model.perturb(trnX[i:i+1], trny[i:i+1])\n",
    "print(model.predict_proba(adv_trnX))\n",
    "print(f\"prediction: {cifar_classes[int(model.predict(adv_trnX)[0])]}, proba: {model.predict_proba(adv_trnX).max(1)[0]}\")\n",
    "\n",
    "plt.imshow(adv_trnX[0])\n",
    "#adv_tstX = attack_model.perturb(tstX)\n",
    "#print((ModelWrapper(model).predict(trnX) == trny).mean())\n",
    "#print((ModelWrapper(model).predict(adv_trnX) == trny).mean())"
   ]
  },
  {
   "cell_type": "code",
   "execution_count": 25,
   "metadata": {},
   "outputs": [],
   "source": [
    "Xs = []\n",
    "for eps in [0.4, 0.6, 0.8, 1.0, 1.2]:\n",
    "    Xs.append(estimate_local_lip_v2(model, trnX[:10], top_norm=1, btm_norm=np.inf, epsilon=eps))"
   ]
  },
  {
   "cell_type": "code",
   "execution_count": null,
   "metadata": {},
   "outputs": [],
   "source": []
  },
  {
   "cell_type": "code",
   "execution_count": 22,
   "metadata": {},
   "outputs": [
    {
     "data": {
      "text/plain": [
       "(array([1.5200e+02, 6.5120e+03, 2.2573e+04, 2.0928e+04, 7.5230e+03,\n",
       "        1.8900e+03, 3.4400e+02, 6.7000e+01, 8.0000e+00, 2.0000e+00]),\n",
       " array([ 0.,  5., 10., 15., 20., 25., 30., 35., 40., 45., 50.],\n",
       "       dtype=float32),\n",
       " <a list of 10 Patch objects>)"
      ]
     },
     "execution_count": 22,
     "metadata": {},
     "output_type": "execute_result"
    },
    {
     "data": {
      "image/png": "[encoded data removed]",
      "text/plain": [
       "<Figure size 432x288 with 1 Axes>"
      ]
     },
     "metadata": {
      "needs_background": "light"
     },
     "output_type": "display_data"
    }
   ],
   "source": [
    "model_path = \"./models/pgd-mnist-0.1-trades10ce-tor-CNN001-inf-0.pt\"\n",
    "model = globals()[get_arch(model_path)](n_classes=10)\n",
    "model.load_state_dict(torch.load(model_path))\n",
    "model.eval()\n",
    "model.cuda()\n",
    "trnX, trny, tstX, tsty = auto_var.get_var_with_argument(\"dataset\", get_ds(model_path))\n",
    "\n",
    "a = joblib.load(\"./results/experiment03/pgd-mnist-0.1-trades10ce-tor-CNN001-inf-0.pkl\")\n",
    "lip_ = calc_lip(model, trnX, a['trn_lip_1_pert'], top_norm=1, btm_norm=np.inf)\n",
    "plt.hist(lip_, range=(0, 50))\n"
   ]
  },
  {
   "cell_type": "code",
   "execution_count": 17,
   "metadata": {},
   "outputs": [
    {
     "data": {
      "text/plain": [
       "array([5, 0, 4, ..., 5, 6, 8])"
      ]
     },
     "execution_count": 17,
     "metadata": {},
     "output_type": "execute_result"
    }
   ],
   "source": [
    "ModelWrapper(model).predict(trnX)"
   ]
  },
  {
   "cell_type": "code",
   "execution_count": 16,
   "metadata": {},
   "outputs": [
    {
     "data": {
      "text/plain": [
       "{'epoch': 156,\n",
       " 'trn_loss': 0.4567526239236196,\n",
       " 'trn_acc': 0.81165,\n",
       " 'tst_loss': 0.3531107112646103,\n",
       " 'tst_acc': 0.8642}"
      ]
     },
     "execution_count": 16,
     "metadata": {},
     "output_type": "execute_result"
    }
   ],
   "source": [
    "a = joblib.load(\"results/experiment01/pgd-fashion-0.1-advce-tor-CNN002-inf-0.pkl\")\n",
    "a['history'][-5]\n"
   ]
  },
  {
   "cell_type": "code",
   "execution_count": 11,
   "metadata": {},
   "outputs": [
    {
     "data": {
      "text/plain": [
       "0.9520045865924075"
      ]
     },
     "execution_count": 11,
     "metadata": {},
     "output_type": "execute_result"
    }
   ],
   "source": [
    "#a = joblib.load(\"./results/experiment01/pgd-fashion-0.1-advkld-tor-CNN002-inf-0.pkl\")\n",
    "a = joblib.load(\"./results/experiment01/pgd-svhn-0.031-advce-tor-WRN_40_10-lrem2-inf-0.pkl\")\n",
    "a['trn_acc']"
   ]
  },
  {
   "cell_type": "code",
   "execution_count": 5,
   "metadata": {},
   "outputs": [
    {
     "name": "stdout",
     "output_type": "stream",
     "text": [
      "{'epoch': 1, 'trn_loss': 2.14158483795166, 'trn_acc': 0.22592, 'tst_loss': 1.850193497276306, 'tst_acc': 0.3265}\n"
     ]
    },
    {
     "data": {
      "text/plain": [
       "[<matplotlib.lines.Line2D at 0x7f06b743cb10>]"
      ]
     },
     "execution_count": 5,
     "metadata": {},
     "output_type": "execute_result"
    },
    {
     "data": {
      "image/png": "[encoded data removed]",
      "text/plain": [
       "<Figure size 432x288 with 1 Axes>"
      ]
     },
     "metadata": {
      "needs_background": "light"
     },
     "output_type": "display_data"
    }
   ],
   "source": [
    "a = joblib.load(\"./results/experiment01/pgd-cifar10-0.031-aug01-cure14ce-tor-WRN_40_10-inf-0.pkl\")\n",
    "print(a['history'][0])\n",
    "plt.plot([h['trn_loss'] for h in a['history']])\n",
    "plt.plot([h['trn_acc'] for h in a['history']])\n",
    "plt.plot([h['tst_acc'] for h in a['history']])"
   ]
  },
  {
   "cell_type": "code",
   "execution_count": 57,
   "metadata": {},
   "outputs": [],
   "source": [
    "from scipy.special import kl_div\n",
    "\n",
    "def kld(p, q):\n",
    "    return p * np.log(p/q) + (1-p) * np.log((1-p)/(1-q))\n",
    "\n",
    "def trades(p, advp, beta=1.0):\n",
    "    return -np.log(p) + beta * kld(advp, p)\n",
    "\n",
    "def ptrades(p, advp, beta=1.0):\n",
    "    return -np.log(p) + beta * kld(advp, p) / np.linalg.norm(p - advp, ord=np.inf)\n",
    "\n",
    "def ce(p):\n",
    "    return -np.log(p)"
   ]
  },
  {
   "cell_type": "code",
   "execution_count": 61,
   "metadata": {},
   "outputs": [
    {
     "data": {
      "text/plain": [
       "<matplotlib.legend.Legend at 0x7f364e583b50>"
      ]
     },
     "execution_count": 61,
     "metadata": {},
     "output_type": "execute_result"
    },
    {
     "data": {
      "image/png": "[encoded data removed]",
      "text/plain": [
       "<Figure size 432x288 with 1 Axes>"
      ]
     },
     "metadata": {
      "needs_background": "light"
     },
     "output_type": "display_data"
    }
   ],
   "source": [
    "advp = np.arange(1, 101) / 100\n",
    "plt.plot(advp, ce(advp), label=\"CE\")\n",
    "plt.plot(advp, trades(p=0.9, advp=advp, beta=1.0), label=\"beta=1\")\n",
    "plt.plot(advp, trades(p=0.9, advp=advp, beta=5.0), label=\"beta=5\")\n",
    "plt.plot(advp, ptrades(p=0.9, advp=advp, beta=1.0), label=\"p beta=1\")\n",
    "#plt.plot(advp, trades(p=0.95, advp=advp, beta=1.0), label=\"beta=5\")\n",
    "plt.legend()"
   ]
  },
  {
   "cell_type": "code",
   "execution_count": 64,
   "metadata": {},
   "outputs": [
    {
     "name": "stderr",
     "output_type": "stream",
     "text": [
      "/home/arbiter/.pyenv/versions/3.7.4/envs/general/lib/python3.7/site-packages/ipykernel_launcher.py:4: RuntimeWarning: divide by zero encountered in log\n",
      "  after removing the cwd from sys.path.\n",
      "/home/arbiter/.pyenv/versions/3.7.4/envs/general/lib/python3.7/site-packages/ipykernel_launcher.py:4: RuntimeWarning: invalid value encountered in multiply\n",
      "  after removing the cwd from sys.path.\n"
     ]
    },
    {
     "data": {
      "text/plain": [
       "<matplotlib.legend.Legend at 0x7f364e47bf10>"
      ]
     },
     "execution_count": 64,
     "metadata": {},
     "output_type": "execute_result"
    },
    {
     "data": {
      "image/png": "[encoded data removed]",
      "text/plain": [
       "<Figure size 432x288 with 1 Axes>"
      ]
     },
     "metadata": {
      "needs_background": "light"
     },
     "output_type": "display_data"
    }
   ],
   "source": [
    "advp = np.arange(1, 101) / 100\n",
    "plt.plot(advp, ce(advp), label=\"CE\")\n",
    "plt.plot(advp, trades(p=0.6, advp=advp, beta=1.0), label=\"beta=1\")\n",
    "plt.plot(advp, trades(p=0.6, advp=advp, beta=5.0), label=\"beta=5\")\n",
    "plt.plot(advp, ptrades(p=0.6, advp=advp, beta=1.0), label=\"p beta=1\")\n",
    "\n",
    "#plt.plot(advp, trades(p=0.95, advp=advp, beta=1.0), label=\"beta=5\")\n",
    "plt.legend()"
   ]
  },
  {
   "cell_type": "code",
   "execution_count": null,
   "metadata": {},
   "outputs": [],
   "source": [
    "def plot_boundary(xx)\n",
    "    Z = clf.predict_proba(np.c_[xx.ravel(), yy.ravel()])[:, 1]\n",
    "\n",
    "    # Put the result into a color plot\n",
    "    Z = Z.reshape(xx.shape)\n",
    "    ax.contourf(xx, yy, Z, cmap=cm, alpha=.8)\n",
    "\n",
    "    # Plot also the training points\n",
    "    ax.scatter(X_train[:, 0], X_train[:, 1], c=y_train, cmap=cm_bright,\n",
    "               edgecolors='black', s=25)\n",
    "    # and testing points\n",
    "    ax.scatter(X_test[:, 0], X_test[:, 1], c=y_test, cmap=cm_bright,\n",
    "               alpha=0.6, edgecolors='black', s=25)\n",
    "\n",
    "    ax.set_xlim(xx.min(), xx.max())\n",
    "    ax.set_ylim(yy.min(), yy.max())\n",
    "    ax.set_xticks(())\n",
    "    ax.set_yticks(())"
   ]
  },
  {
   "cell_type": "code",
   "execution_count": null,
   "metadata": {},
   "outputs": [],
   "source": [
    "auto_var.set_variable_value(\"random_seed\", 0)\n",
    "trnX, trny, tstX, tsty = auto_var.get_var_with_argument(\"dataset\", \"halfmoon-1000-0.25\")\n",
    "model = TorchModel(lbl_enc=None, n_features=(2, ), n_classes=2, architecture=\"MLP\", epochs=60, learning_rate=1e-2)\n",
    "_ = model.fit(trnX, trny, verbose=0)"
   ]
  },
  {
   "cell_type": "code",
   "execution_count": 7,
   "metadata": {},
   "outputs": [
    {
     "data": {
      "text/plain": [
       "(750,)"
      ]
     },
     "execution_count": 7,
     "metadata": {},
     "output_type": "execute_result"
    }
   ],
   "source": [
    "trnX.shape\n",
    "tstX.shape"
   ]
  }
 ],
 "metadata": {
  "kernelspec": {
   "display_name": "Python 3",
   "language": "python",
   "name": "python3"
  },
  "language_info": {
   "codemirror_mode": {
    "name": "ipython",
    "version": 3
   },
   "file_extension": ".py",
   "mimetype": "text/x-python",
   "name": "python",
   "nbconvert_exporter": "python",
   "pygments_lexer": "ipython3",
   "version": "3.7.4"
  }
 },
 "nbformat": 4,
 "nbformat_minor": 4
}
