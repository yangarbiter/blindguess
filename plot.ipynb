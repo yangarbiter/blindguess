{
 "cells": [
  {
   "cell_type": "code",
   "execution_count": 1,
   "metadata": {},
   "outputs": [],
   "source": [
    "import numpy as np\n",
    "\n",
    "from params import mnistLip, cifarLip\n",
    "from utils import params_to_dataframe"
   ]
  },
  {
   "cell_type": "code",
   "execution_count": 2,
   "metadata": {},
   "outputs": [
    {
     "name": "stderr",
     "output_type": "stream",
     "text": [
      "WARNING: Logging before flag parsing goes to stderr.\n",
      "I1223 10:40:39.280750 140641119225664 auto_var.py:261] Running time: 0.002398\n",
      "I1223 10:40:39.348590 140641119225664 auto_var.py:261] Running time: 0.002419\n",
      "I1223 10:40:39.422923 140641119225664 auto_var.py:261] Running time: 0.002363\n",
      "I1223 10:40:39.483220 140641119225664 auto_var.py:261] Running time: 0.002187\n",
      "I1223 10:40:39.541884 140641119225664 auto_var.py:261] Running time: 0.002300\n",
      "I1223 10:40:39.600006 140641119225664 auto_var.py:261] Running time: 0.002205\n"
     ]
    },
    {
     "data": {
      "text/html": [
       "<div>\n",
       "<style scoped>\n",
       "    .dataframe tbody tr th:only-of-type {\n",
       "        vertical-align: middle;\n",
       "    }\n",
       "\n",
       "    .dataframe tbody tr th {\n",
       "        vertical-align: top;\n",
       "    }\n",
       "\n",
       "    .dataframe thead th {\n",
       "        text-align: right;\n",
       "    }\n",
       "</style>\n",
       "<table border=\"1\" class=\"dataframe\">\n",
       "  <thead>\n",
       "    <tr style=\"text-align: right;\">\n",
       "      <th></th>\n",
       "      <th>attack</th>\n",
       "      <th>dataset</th>\n",
       "      <th>eps</th>\n",
       "      <th>model</th>\n",
       "      <th>norm</th>\n",
       "      <th>random_seed</th>\n",
       "      <th>trn_acc</th>\n",
       "      <th>history</th>\n",
       "    </tr>\n",
       "  </thead>\n",
       "  <tbody>\n",
       "    <tr>\n",
       "      <th>0</th>\n",
       "      <td>pgd</td>\n",
       "      <td>mnist</td>\n",
       "      <td>1.0</td>\n",
       "      <td>ce-tor-CNN001</td>\n",
       "      <td>2</td>\n",
       "      <td>0</td>\n",
       "      <td>1.000000</td>\n",
       "      <td>[{'epoch': 1, 'trn_loss': 0.44905163725217184,...</td>\n",
       "    </tr>\n",
       "    <tr>\n",
       "      <th>1</th>\n",
       "      <td>pgd</td>\n",
       "      <td>mnist</td>\n",
       "      <td>1.0</td>\n",
       "      <td>tradesce-tor-CNN001</td>\n",
       "      <td>2</td>\n",
       "      <td>0</td>\n",
       "      <td>1.000000</td>\n",
       "      <td>[{'epoch': 1, 'trn_loss': 0.48456251249313353,...</td>\n",
       "    </tr>\n",
       "    <tr>\n",
       "      <th>2</th>\n",
       "      <td>pgd</td>\n",
       "      <td>mnist</td>\n",
       "      <td>1.0</td>\n",
       "      <td>advce-tor-CNN001</td>\n",
       "      <td>2</td>\n",
       "      <td>0</td>\n",
       "      <td>0.999667</td>\n",
       "      <td>[{'epoch': 1, 'trn_loss': 0.7703302870114644, ...</td>\n",
       "    </tr>\n",
       "    <tr>\n",
       "      <th>3</th>\n",
       "      <td>pgd</td>\n",
       "      <td>fashion</td>\n",
       "      <td>1.0</td>\n",
       "      <td>ce-tor-CNN001</td>\n",
       "      <td>2</td>\n",
       "      <td>0</td>\n",
       "      <td>0.999750</td>\n",
       "      <td>[{'epoch': 1, 'trn_loss': 0.6706890512784323, ...</td>\n",
       "    </tr>\n",
       "    <tr>\n",
       "      <th>4</th>\n",
       "      <td>pgd</td>\n",
       "      <td>fashion</td>\n",
       "      <td>1.0</td>\n",
       "      <td>tradesce-tor-CNN001</td>\n",
       "      <td>2</td>\n",
       "      <td>0</td>\n",
       "      <td>0.999617</td>\n",
       "      <td>[{'epoch': 1, 'trn_loss': 0.663989037068685, '...</td>\n",
       "    </tr>\n",
       "    <tr>\n",
       "      <th>5</th>\n",
       "      <td>pgd</td>\n",
       "      <td>fashion</td>\n",
       "      <td>1.0</td>\n",
       "      <td>advce-tor-CNN001</td>\n",
       "      <td>2</td>\n",
       "      <td>0</td>\n",
       "      <td>0.910800</td>\n",
       "      <td>[{'epoch': 1, 'trn_loss': 1.0095622037887573, ...</td>\n",
       "    </tr>\n",
       "  </tbody>\n",
       "</table>\n",
       "</div>"
      ],
      "text/plain": [
       "  attack  dataset  eps                model norm  random_seed   trn_acc  \\\n",
       "0    pgd    mnist  1.0        ce-tor-CNN001    2            0  1.000000   \n",
       "1    pgd    mnist  1.0  tradesce-tor-CNN001    2            0  1.000000   \n",
       "2    pgd    mnist  1.0     advce-tor-CNN001    2            0  0.999667   \n",
       "3    pgd  fashion  1.0        ce-tor-CNN001    2            0  0.999750   \n",
       "4    pgd  fashion  1.0  tradesce-tor-CNN001    2            0  0.999617   \n",
       "5    pgd  fashion  1.0     advce-tor-CNN001    2            0  0.910800   \n",
       "\n",
       "                                             history  \n",
       "0  [{'epoch': 1, 'trn_loss': 0.44905163725217184,...  \n",
       "1  [{'epoch': 1, 'trn_loss': 0.48456251249313353,...  \n",
       "2  [{'epoch': 1, 'trn_loss': 0.7703302870114644, ...  \n",
       "3  [{'epoch': 1, 'trn_loss': 0.6706890512784323, ...  \n",
       "4  [{'epoch': 1, 'trn_loss': 0.663989037068685, '...  \n",
       "5  [{'epoch': 1, 'trn_loss': 1.0095622037887573, ...  "
      ]
     },
     "execution_count": 2,
     "metadata": {},
     "output_type": "execute_result"
    }
   ],
   "source": [
    "_, _, grid_params, _ = mnistLip()()\n",
    "params_to_dataframe(grid_params, columns=['trn_acc', 'history'], result_file_dir='./results/experiment01/')"
   ]
  },
  {
   "cell_type": "code",
   "execution_count": 2,
   "metadata": {},
   "outputs": [
    {
     "name": "stderr",
     "output_type": "stream",
     "text": [
      "WARNING: Logging before flag parsing goes to stderr.\n",
      "E1223 10:54:47.012559 139891478628160 auto_var.py:341] Error with {'attack': 'pgd', 'dataset': 'cifar10', 'eps': 10.0, 'model': 'ce-tor-WideResNet', 'norm': '2', 'random_seed': 0}\n",
      "I1223 10:54:47.016836 139891478628160 auto_var.py:261] Running time: 0.002441\n",
      "I1223 10:54:47.075744 139891478628160 auto_var.py:261] Running time: 0.000074\n"
     ]
    },
    {
     "name": "stdout",
     "output_type": "stream",
     "text": [
      "problem with ./results/experiment01/pgd-cifar10-10.0-ce-tor-WideResNet-2-0.pkl\n"
     ]
    },
    {
     "data": {
      "text/html": [
       "<div>\n",
       "<style scoped>\n",
       "    .dataframe tbody tr th:only-of-type {\n",
       "        vertical-align: middle;\n",
       "    }\n",
       "\n",
       "    .dataframe tbody tr th {\n",
       "        vertical-align: top;\n",
       "    }\n",
       "\n",
       "    .dataframe thead th {\n",
       "        text-align: right;\n",
       "    }\n",
       "</style>\n",
       "<table border=\"1\" class=\"dataframe\">\n",
       "  <thead>\n",
       "    <tr style=\"text-align: right;\">\n",
       "      <th></th>\n",
       "      <th>attack</th>\n",
       "      <th>dataset</th>\n",
       "      <th>eps</th>\n",
       "      <th>model</th>\n",
       "      <th>norm</th>\n",
       "      <th>random_seed</th>\n",
       "      <th>trn_acc</th>\n",
       "      <th>history</th>\n",
       "    </tr>\n",
       "  </thead>\n",
       "  <tbody>\n",
       "    <tr>\n",
       "      <th>0</th>\n",
       "      <td>pgd</td>\n",
       "      <td>cifar10</td>\n",
       "      <td>10.0</td>\n",
       "      <td>tradesce-tor-WideResNet</td>\n",
       "      <td>2</td>\n",
       "      <td>0</td>\n",
       "      <td>0.78594</td>\n",
       "      <td>[{'epoch': 1, 'trn_loss': 1.8665201709747314, ...</td>\n",
       "    </tr>\n",
       "  </tbody>\n",
       "</table>\n",
       "</div>"
      ],
      "text/plain": [
       "  attack  dataset   eps                    model norm  random_seed  trn_acc  \\\n",
       "0    pgd  cifar10  10.0  tradesce-tor-WideResNet    2            0  0.78594   \n",
       "\n",
       "                                             history  \n",
       "0  [{'epoch': 1, 'trn_loss': 1.8665201709747314, ...  "
      ]
     },
     "execution_count": 2,
     "metadata": {},
     "output_type": "execute_result"
    }
   ],
   "source": [
    "_, _, grid_params, _ = cifarLip()()\n",
    "params_to_dataframe(grid_params, columns=['trn_acc', 'history'], result_file_dir='./results/experiment01/')"
   ]
  },
  {
   "cell_type": "code",
   "execution_count": null,
   "metadata": {},
   "outputs": [],
   "source": []
  }
 ],
 "metadata": {
  "kernelspec": {
   "display_name": "Python 3",
   "language": "python",
   "name": "python3"
  },
  "language_info": {
   "codemirror_mode": {
    "name": "ipython",
    "version": 3
   },
   "file_extension": ".py",
   "mimetype": "text/x-python",
   "name": "python",
   "nbconvert_exporter": "python",
   "pygments_lexer": "ipython3",
   "version": "3.7.4"
  }
 },
 "nbformat": 4,
 "nbformat_minor": 4
}
